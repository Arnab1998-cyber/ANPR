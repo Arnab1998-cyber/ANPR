{
 "cells": [
  {
   "cell_type": "markdown",
   "metadata": {
    "id": "QUANWN3rpfC9"
   },
   "source": [
    "# 0. Setup Paths"
   ]
  },
  {
   "cell_type": "code",
   "execution_count": 1,
   "metadata": {
    "id": "146BB11JpfDA"
   },
   "outputs": [],
   "source": [
    "import os"
   ]
  },
  {
   "cell_type": "code",
   "execution_count": 2,
   "metadata": {
    "id": "42hJEdo_pfDB"
   },
   "outputs": [],
   "source": [
    "CUSTOM_MODEL_NAME = 'my_ssd_mobnet' \n",
    "PRETRAINED_MODEL_NAME = 'ssd_mobilenet_v2_fpnlite_320x320_coco17_tpu-8'\n",
    "PRETRAINED_MODEL_URL = 'http://download.tensorflow.org/models/object_detection/tf2/20200711/ssd_mobilenet_v2_fpnlite_320x320_coco17_tpu-8.tar.gz'\n",
    "TF_RECORD_SCRIPT_NAME = 'generate_tfrecord.py'\n",
    "LABEL_MAP_NAME = 'label_map.pbtxt'"
   ]
  },
  {
   "cell_type": "code",
   "execution_count": 3,
   "metadata": {
    "id": "hbPhYVy_pfDB"
   },
   "outputs": [],
   "source": [
    "paths = {\n",
    "    'WORKSPACE_PATH': os.path.join('Tensorflow', 'workspace'),\n",
    "    'SCRIPTS_PATH': os.path.join('Tensorflow','scripts'),\n",
    "    'APIMODEL_PATH': os.path.join('Tensorflow','models'),\n",
    "    'ANNOTATION_PATH': os.path.join('Tensorflow', 'workspace','annotations'),\n",
    "    'IMAGE_PATH': os.path.join('Tensorflow', 'workspace','images'),\n",
    "    'MODEL_PATH': os.path.join('Tensorflow', 'workspace','models'),\n",
    "    'PRETRAINED_MODEL_PATH': os.path.join('Tensorflow', 'workspace','pre-trained-models'),\n",
    "    'CHECKPOINT_PATH': os.path.join('Tensorflow', 'workspace','models',CUSTOM_MODEL_NAME), \n",
    "    'OUTPUT_PATH': os.path.join('Tensorflow', 'workspace','models',CUSTOM_MODEL_NAME, 'export'), \n",
    "    'TFJS_PATH':os.path.join('Tensorflow', 'workspace','models',CUSTOM_MODEL_NAME, 'tfjsexport'), \n",
    "    'TFLITE_PATH':os.path.join('Tensorflow', 'workspace','models',CUSTOM_MODEL_NAME, 'tfliteexport'), \n",
    "    'PROTOC_PATH':os.path.join('Tensorflow','protoc')\n",
    " }"
   ]
  },
  {
   "cell_type": "code",
   "execution_count": 4,
   "metadata": {
    "id": "LwhWZMI0pfDC"
   },
   "outputs": [],
   "source": [
    "files = {\n",
    "    'PIPELINE_CONFIG':os.path.join('Tensorflow', 'workspace','models', CUSTOM_MODEL_NAME, 'pipeline.config'),\n",
    "    'TF_RECORD_SCRIPT': os.path.join(paths['SCRIPTS_PATH'], TF_RECORD_SCRIPT_NAME), \n",
    "    'LABELMAP': os.path.join(paths['ANNOTATION_PATH'], LABEL_MAP_NAME)\n",
    "}"
   ]
  },
  {
   "cell_type": "code",
   "execution_count": 5,
   "metadata": {
    "id": "HR-TfDGrpfDC"
   },
   "outputs": [],
   "source": [
    "for path in paths.values():\n",
    "    if not os.path.exists(path):\n",
    "        if os.name == 'posix':\n",
    "            !mkdir -p {path}\n",
    "        if os.name == 'nt':\n",
    "            !mkdir {path}"
   ]
  },
  {
   "cell_type": "markdown",
   "metadata": {
    "id": "OLU-rs_ipfDE"
   },
   "source": [
    "# 1. Download TF Models Pretrained Models from Tensorflow Model Zoo and Install TFOD"
   ]
  },
  {
   "cell_type": "code",
   "execution_count": 6,
   "metadata": {},
   "outputs": [],
   "source": [
    "# https://www.tensorflow.org/install/source_windows"
   ]
  },
  {
   "cell_type": "code",
   "execution_count": 7,
   "metadata": {
    "id": "K-Cmz2edpfDE",
    "scrolled": true
   },
   "outputs": [],
   "source": [
    "if os.name=='nt':\n",
    "    !pip install wget\n",
    "    import wget"
   ]
  },
  {
   "cell_type": "code",
   "execution_count": 8,
   "metadata": {
    "id": "iA1DIq5OpfDE"
   },
   "outputs": [
    {
     "name": "stdout",
     "output_type": "stream",
     "text": [
      "Cloning into 'Tensorflow/models'...\n",
      "remote: Enumerating objects: 72417, done.\u001b[K\n",
      "remote: Counting objects: 100% (7/7), done.\u001b[K\n",
      "remote: Compressing objects: 100% (6/6), done.\u001b[K\n",
      "remote: Total 72417 (delta 2), reused 5 (delta 1), pack-reused 72410\u001b[K\n",
      "Receiving objects: 100% (72417/72417), 579.07 MiB | 43.36 MiB/s, done.\n",
      "Resolving deltas: 100% (51244/51244), done.\n"
     ]
    }
   ],
   "source": [
    "if not os.path.exists(os.path.join(paths['APIMODEL_PATH'], 'research', 'object_detection')):\n",
    "    !git clone https://github.com/tensorflow/models {paths['APIMODEL_PATH']}"
   ]
  },
  {
   "cell_type": "code",
   "execution_count": 10,
   "metadata": {
    "id": "rJjMHbnDs3Tv"
   },
   "outputs": [
    {
     "name": "stdout",
     "output_type": "stream",
     "text": [
      "E: Could not open lock file /var/lib/dpkg/lock-frontend - open (13: Permission denied)\n",
      "E: Unable to acquire the dpkg frontend lock (/var/lib/dpkg/lock-frontend), are you root?\n",
      "Defaulting to user installation because normal site-packages is not writeable\n",
      "Processing /home/paperspace/Desktop/ANPR/TFODCourse/Tensorflow/models/research\n",
      "  Preparing metadata (setup.py) ... \u001b[?25ldone\n",
      "\u001b[?25hRequirement already satisfied: Cython in /home/paperspace/.local/lib/python3.8/site-packages (from object-detection==0.1) (0.29.28)\n",
      "Requirement already satisfied: apache-beam in /home/paperspace/.local/lib/python3.8/site-packages (from object-detection==0.1) (2.37.0)\n",
      "Requirement already satisfied: avro-python3 in /home/paperspace/.local/lib/python3.8/site-packages (from object-detection==0.1) (1.10.2)\n",
      "Requirement already satisfied: contextlib2 in /home/paperspace/.local/lib/python3.8/site-packages (from object-detection==0.1) (21.6.0)\n",
      "Requirement already satisfied: keras in /home/paperspace/.local/lib/python3.8/site-packages (from object-detection==0.1) (2.8.0)\n",
      "Requirement already satisfied: lvis in /home/paperspace/.local/lib/python3.8/site-packages (from object-detection==0.1) (0.5.3)\n",
      "Requirement already satisfied: lxml in /home/paperspace/.local/lib/python3.8/site-packages (from object-detection==0.1) (4.8.0)\n",
      "Requirement already satisfied: matplotlib in /home/paperspace/.local/lib/python3.8/site-packages (from object-detection==0.1) (3.2.2)\n",
      "Requirement already satisfied: pandas in /home/paperspace/.local/lib/python3.8/site-packages (from object-detection==0.1) (1.4.1)\n",
      "Requirement already satisfied: pillow in /home/paperspace/.local/lib/python3.8/site-packages (from object-detection==0.1) (9.0.1)\n",
      "Requirement already satisfied: pycocotools in /home/paperspace/.local/lib/python3.8/site-packages (from object-detection==0.1) (2.0.4)\n",
      "Requirement already satisfied: scipy in /home/paperspace/.local/lib/python3.8/site-packages (from object-detection==0.1) (1.8.0)\n",
      "Requirement already satisfied: six in /home/paperspace/.local/lib/python3.8/site-packages (from object-detection==0.1) (1.15.0)\n",
      "Requirement already satisfied: tensorflow_io in /usr/local/lib/python3.8/dist-packages/tensorflow_io-0.24.0-py3.8-linux-x86_64.egg (from object-detection==0.1) (0.24.0)\n",
      "Requirement already satisfied: tf-models-official>=2.5.1 in /usr/local/lib/python3.8/dist-packages/tf_models_official-2.8.0-py3.8.egg (from object-detection==0.1) (2.8.0)\n",
      "Requirement already satisfied: tf-slim in /usr/local/lib/python3.8/dist-packages/tf_slim-1.1.0-py3.8.egg (from object-detection==0.1) (1.1.0)\n",
      "Requirement already satisfied: gin-config in /home/paperspace/.local/lib/python3.8/site-packages (from tf-models-official>=2.5.1->object-detection==0.1) (0.5.0)\n",
      "Requirement already satisfied: google-api-python-client>=1.6.7 in /home/paperspace/.local/lib/python3.8/site-packages (from tf-models-official>=2.5.1->object-detection==0.1) (2.45.0)\n",
      "Requirement already satisfied: kaggle>=1.3.9 in /home/paperspace/.local/lib/python3.8/site-packages (from tf-models-official>=2.5.1->object-detection==0.1) (1.5.12)\n",
      "Requirement already satisfied: numpy>=1.15.4 in /home/paperspace/.local/lib/python3.8/site-packages (from tf-models-official>=2.5.1->object-detection==0.1) (1.21.6)\n",
      "Requirement already satisfied: oauth2client in /home/paperspace/.local/lib/python3.8/site-packages (from tf-models-official>=2.5.1->object-detection==0.1) (4.1.3)\n",
      "Requirement already satisfied: opencv-python-headless in /home/paperspace/.local/lib/python3.8/site-packages (from tf-models-official>=2.5.1->object-detection==0.1) (4.5.5.64)\n",
      "Requirement already satisfied: psutil>=5.4.3 in /home/paperspace/.local/lib/python3.8/site-packages (from tf-models-official>=2.5.1->object-detection==0.1) (5.9.0)\n",
      "Requirement already satisfied: py-cpuinfo>=3.3.0 in /home/paperspace/.local/lib/python3.8/site-packages (from tf-models-official>=2.5.1->object-detection==0.1) (8.0.0)\n",
      "Requirement already satisfied: pyyaml<6.0,>=5.1 in /usr/lib/python3/dist-packages (from tf-models-official>=2.5.1->object-detection==0.1) (5.3.1)\n",
      "Requirement already satisfied: sacrebleu in /home/paperspace/.local/lib/python3.8/site-packages (from tf-models-official>=2.5.1->object-detection==0.1) (2.0.0)\n",
      "Requirement already satisfied: sentencepiece in /home/paperspace/.local/lib/python3.8/site-packages (from tf-models-official>=2.5.1->object-detection==0.1) (0.1.96)\n",
      "Requirement already satisfied: seqeval in /home/paperspace/.local/lib/python3.8/site-packages (from tf-models-official>=2.5.1->object-detection==0.1) (1.2.2)\n",
      "Requirement already satisfied: tensorflow-addons in /home/paperspace/.local/lib/python3.8/site-packages (from tf-models-official>=2.5.1->object-detection==0.1) (0.16.1)\n",
      "Requirement already satisfied: tensorflow-datasets in /home/paperspace/.local/lib/python3.8/site-packages (from tf-models-official>=2.5.1->object-detection==0.1) (4.5.2)\n",
      "Requirement already satisfied: tensorflow-hub>=0.6.0 in /home/paperspace/.local/lib/python3.8/site-packages (from tf-models-official>=2.5.1->object-detection==0.1) (0.12.0)\n",
      "Requirement already satisfied: tensorflow-model-optimization>=0.4.1 in /home/paperspace/.local/lib/python3.8/site-packages (from tf-models-official>=2.5.1->object-detection==0.1) (0.7.2)\n",
      "Requirement already satisfied: tensorflow-text~=2.8.0 in /home/paperspace/.local/lib/python3.8/site-packages (from tf-models-official>=2.5.1->object-detection==0.1) (2.8.1)\n",
      "Requirement already satisfied: tensorflow~=2.8.0 in /home/paperspace/.local/lib/python3.8/site-packages (from tf-models-official>=2.5.1->object-detection==0.1) (2.8.0)\n",
      "Requirement already satisfied: pytz>=2020.1 in /home/paperspace/.local/lib/python3.8/site-packages (from pandas->object-detection==0.1) (2021.3)\n",
      "Requirement already satisfied: python-dateutil>=2.8.1 in /home/paperspace/.local/lib/python3.8/site-packages (from pandas->object-detection==0.1) (2.8.2)\n",
      "Requirement already satisfied: absl-py>=0.2.2 in /home/paperspace/.local/lib/python3.8/site-packages (from tf-slim->object-detection==0.1) (0.15.0)\n",
      "Requirement already satisfied: typing-extensions>=3.7.0 in /home/paperspace/.local/lib/python3.8/site-packages (from apache-beam->object-detection==0.1) (3.7.4.3)\n",
      "Requirement already satisfied: pymongo<4.0.0,>=3.8.0 in /home/paperspace/.local/lib/python3.8/site-packages (from apache-beam->object-detection==0.1) (3.12.3)\n",
      "Requirement already satisfied: requests<3.0.0,>=2.24.0 in /home/paperspace/.local/lib/python3.8/site-packages (from apache-beam->object-detection==0.1) (2.27.1)\n",
      "Requirement already satisfied: orjson<4.0 in /home/paperspace/.local/lib/python3.8/site-packages (from apache-beam->object-detection==0.1) (3.6.8)\n",
      "Requirement already satisfied: pyarrow<7.0.0,>=0.15.1 in /home/paperspace/.local/lib/python3.8/site-packages (from apache-beam->object-detection==0.1) (6.0.1)\n",
      "Requirement already satisfied: grpcio<2,>=1.29.0 in /home/paperspace/.local/lib/python3.8/site-packages (from apache-beam->object-detection==0.1) (1.34.1)\n",
      "Requirement already satisfied: protobuf<4,>=3.12.2 in /home/paperspace/.local/lib/python3.8/site-packages (from apache-beam->object-detection==0.1) (3.19.4)\n",
      "Requirement already satisfied: dill<0.3.2,>=0.3.1.1 in /home/paperspace/.local/lib/python3.8/site-packages (from apache-beam->object-detection==0.1) (0.3.1.1)\n",
      "Requirement already satisfied: pydot<2,>=1.2.0 in /home/paperspace/.local/lib/python3.8/site-packages (from apache-beam->object-detection==0.1) (1.4.2)\n",
      "Requirement already satisfied: crcmod<2.0,>=1.7 in /home/paperspace/.local/lib/python3.8/site-packages (from apache-beam->object-detection==0.1) (1.7)\n",
      "Requirement already satisfied: httplib2<0.20.0,>=0.8 in /home/paperspace/.local/lib/python3.8/site-packages (from apache-beam->object-detection==0.1) (0.19.1)\n",
      "Requirement already satisfied: hdfs<3.0.0,>=2.1.0 in /home/paperspace/.local/lib/python3.8/site-packages (from apache-beam->object-detection==0.1) (2.7.0)\n",
      "Requirement already satisfied: cloudpickle<3,>=2.0.0 in /home/paperspace/.local/lib/python3.8/site-packages (from apache-beam->object-detection==0.1) (2.0.0)\n",
      "Requirement already satisfied: fastavro<2,>=0.23.6 in /home/paperspace/.local/lib/python3.8/site-packages (from apache-beam->object-detection==0.1) (1.4.10)\n",
      "Requirement already satisfied: proto-plus<2,>=1.7.1 in /home/paperspace/.local/lib/python3.8/site-packages (from apache-beam->object-detection==0.1) (1.20.3)\n"
     ]
    },
    {
     "name": "stdout",
     "output_type": "stream",
     "text": [
      "Requirement already satisfied: pyparsing>=2.4.0 in /home/paperspace/.local/lib/python3.8/site-packages (from lvis->object-detection==0.1) (2.4.7)\n",
      "Requirement already satisfied: opencv-python>=4.1.0.25 in /home/paperspace/.local/lib/python3.8/site-packages (from lvis->object-detection==0.1) (4.5.5.64)\n",
      "Requirement already satisfied: cycler>=0.10.0 in /home/paperspace/.local/lib/python3.8/site-packages (from lvis->object-detection==0.1) (0.11.0)\n",
      "Requirement already satisfied: kiwisolver>=1.1.0 in /home/paperspace/.local/lib/python3.8/site-packages (from lvis->object-detection==0.1) (1.3.2)\n",
      "Requirement already satisfied: tensorflow-io-gcs-filesystem==0.24.0 in /home/paperspace/.local/lib/python3.8/site-packages (from tensorflow_io->object-detection==0.1) (0.24.0)\n",
      "Requirement already satisfied: uritemplate<5,>=3.0.1 in /home/paperspace/.local/lib/python3.8/site-packages (from google-api-python-client>=1.6.7->tf-models-official>=2.5.1->object-detection==0.1) (4.1.1)\n",
      "Requirement already satisfied: google-auth<3.0.0dev,>=1.16.0 in /home/paperspace/.local/lib/python3.8/site-packages (from google-api-python-client>=1.6.7->tf-models-official>=2.5.1->object-detection==0.1) (2.6.0)\n",
      "Requirement already satisfied: google-api-core!=2.0.*,!=2.1.*,!=2.2.*,!=2.3.0,<3.0.0dev,>=1.31.5 in /home/paperspace/.local/lib/python3.8/site-packages (from google-api-python-client>=1.6.7->tf-models-official>=2.5.1->object-detection==0.1) (2.7.2)\n",
      "Requirement already satisfied: google-auth-httplib2>=0.1.0 in /home/paperspace/.local/lib/python3.8/site-packages (from google-api-python-client>=1.6.7->tf-models-official>=2.5.1->object-detection==0.1) (0.1.0)\n",
      "Requirement already satisfied: docopt in /home/paperspace/.local/lib/python3.8/site-packages (from hdfs<3.0.0,>=2.1.0->apache-beam->object-detection==0.1) (0.6.2)\n",
      "Requirement already satisfied: tqdm in /home/paperspace/.local/lib/python3.8/site-packages (from kaggle>=1.3.9->tf-models-official>=2.5.1->object-detection==0.1) (4.64.0)\n",
      "Requirement already satisfied: urllib3 in /usr/lib/python3/dist-packages (from kaggle>=1.3.9->tf-models-official>=2.5.1->object-detection==0.1) (1.25.8)\n",
      "Requirement already satisfied: python-slugify in /home/paperspace/.local/lib/python3.8/site-packages (from kaggle>=1.3.9->tf-models-official>=2.5.1->object-detection==0.1) (6.1.1)\n",
      "Requirement already satisfied: certifi in /usr/lib/python3/dist-packages (from kaggle>=1.3.9->tf-models-official>=2.5.1->object-detection==0.1) (2019.11.28)\n",
      "Requirement already satisfied: pyasn1>=0.1.7 in /usr/lib/python3/dist-packages (from oauth2client->tf-models-official>=2.5.1->object-detection==0.1) (0.4.2)\n",
      "Requirement already satisfied: rsa>=3.1.4 in /home/paperspace/.local/lib/python3.8/site-packages (from oauth2client->tf-models-official>=2.5.1->object-detection==0.1) (4.8)\n",
      "Requirement already satisfied: pyasn1-modules>=0.0.5 in /usr/lib/python3/dist-packages (from oauth2client->tf-models-official>=2.5.1->object-detection==0.1) (0.2.1)\n",
      "Requirement already satisfied: charset-normalizer~=2.0.0 in /home/paperspace/.local/lib/python3.8/site-packages (from requests<3.0.0,>=2.24.0->apache-beam->object-detection==0.1) (2.0.12)\n",
      "Requirement already satisfied: idna<4,>=2.5 in /usr/lib/python3/dist-packages (from requests<3.0.0,>=2.24.0->apache-beam->object-detection==0.1) (2.8)\n",
      "Requirement already satisfied: libclang>=9.0.1 in /home/paperspace/.local/lib/python3.8/site-packages (from tensorflow~=2.8.0->tf-models-official>=2.5.1->object-detection==0.1) (13.0.0)\n",
      "Requirement already satisfied: tf-estimator-nightly==2.8.0.dev2021122109 in /home/paperspace/.local/lib/python3.8/site-packages (from tensorflow~=2.8.0->tf-models-official>=2.5.1->object-detection==0.1) (2.8.0.dev2021122109)\n",
      "Requirement already satisfied: astunparse>=1.6.0 in /home/paperspace/.local/lib/python3.8/site-packages (from tensorflow~=2.8.0->tf-models-official>=2.5.1->object-detection==0.1) (1.6.3)\n",
      "Requirement already satisfied: tensorboard<2.9,>=2.8 in /home/paperspace/.local/lib/python3.8/site-packages (from tensorflow~=2.8.0->tf-models-official>=2.5.1->object-detection==0.1) (2.8.0)\n",
      "Requirement already satisfied: gast>=0.2.1 in /home/paperspace/.local/lib/python3.8/site-packages (from tensorflow~=2.8.0->tf-models-official>=2.5.1->object-detection==0.1) (0.4.0)\n",
      "Requirement already satisfied: opt-einsum>=2.3.2 in /home/paperspace/.local/lib/python3.8/site-packages (from tensorflow~=2.8.0->tf-models-official>=2.5.1->object-detection==0.1) (3.3.0)\n",
      "Requirement already satisfied: keras-preprocessing>=1.1.1 in /home/paperspace/.local/lib/python3.8/site-packages (from tensorflow~=2.8.0->tf-models-official>=2.5.1->object-detection==0.1) (1.1.2)\n",
      "Requirement already satisfied: h5py>=2.9.0 in /home/paperspace/.local/lib/python3.8/site-packages (from tensorflow~=2.8.0->tf-models-official>=2.5.1->object-detection==0.1) (3.1.0)\n",
      "Requirement already satisfied: termcolor>=1.1.0 in /home/paperspace/.local/lib/python3.8/site-packages (from tensorflow~=2.8.0->tf-models-official>=2.5.1->object-detection==0.1) (1.1.0)\n",
      "Requirement already satisfied: flatbuffers>=1.12 in /home/paperspace/.local/lib/python3.8/site-packages (from tensorflow~=2.8.0->tf-models-official>=2.5.1->object-detection==0.1) (1.12)\n",
      "Requirement already satisfied: google-pasta>=0.1.1 in /home/paperspace/.local/lib/python3.8/site-packages (from tensorflow~=2.8.0->tf-models-official>=2.5.1->object-detection==0.1) (0.2.0)\n",
      "Requirement already satisfied: setuptools in /usr/lib/python3/dist-packages (from tensorflow~=2.8.0->tf-models-official>=2.5.1->object-detection==0.1) (45.2.0)\n",
      "Requirement already satisfied: wrapt>=1.11.0 in /home/paperspace/.local/lib/python3.8/site-packages (from tensorflow~=2.8.0->tf-models-official>=2.5.1->object-detection==0.1) (1.12.1)\n",
      "Requirement already satisfied: dm-tree~=0.1.1 in /home/paperspace/.local/lib/python3.8/site-packages (from tensorflow-model-optimization>=0.4.1->tf-models-official>=2.5.1->object-detection==0.1) (0.1.7)\n",
      "Requirement already satisfied: regex in /home/paperspace/.local/lib/python3.8/site-packages (from sacrebleu->tf-models-official>=2.5.1->object-detection==0.1) (2022.3.15)\n",
      "Requirement already satisfied: tabulate>=0.8.9 in /home/paperspace/.local/lib/python3.8/site-packages (from sacrebleu->tf-models-official>=2.5.1->object-detection==0.1) (0.8.9)\n",
      "Requirement already satisfied: colorama in /usr/lib/python3/dist-packages (from sacrebleu->tf-models-official>=2.5.1->object-detection==0.1) (0.4.3)\n",
      "Requirement already satisfied: portalocker in /home/paperspace/.local/lib/python3.8/site-packages (from sacrebleu->tf-models-official>=2.5.1->object-detection==0.1) (2.4.0)\n",
      "Requirement already satisfied: scikit-learn>=0.21.3 in /home/paperspace/.local/lib/python3.8/site-packages (from seqeval->tf-models-official>=2.5.1->object-detection==0.1) (1.0.2)\n",
      "Requirement already satisfied: typeguard>=2.7 in /home/paperspace/.local/lib/python3.8/site-packages (from tensorflow-addons->tf-models-official>=2.5.1->object-detection==0.1) (2.13.3)\n",
      "Requirement already satisfied: promise in /home/paperspace/.local/lib/python3.8/site-packages (from tensorflow-datasets->tf-models-official>=2.5.1->object-detection==0.1) (2.3)\n",
      "Requirement already satisfied: importlib-resources in /home/paperspace/.local/lib/python3.8/site-packages (from tensorflow-datasets->tf-models-official>=2.5.1->object-detection==0.1) (5.7.1)\n",
      "Requirement already satisfied: tensorflow-metadata in /home/paperspace/.local/lib/python3.8/site-packages (from tensorflow-datasets->tf-models-official>=2.5.1->object-detection==0.1) (1.7.0)\n",
      "Requirement already satisfied: wheel<1.0,>=0.23.0 in /home/paperspace/.local/lib/python3.8/site-packages (from astunparse>=1.6.0->tensorflow~=2.8.0->tf-models-official>=2.5.1->object-detection==0.1) (0.37.1)\n",
      "Requirement already satisfied: googleapis-common-protos<2.0dev,>=1.52.0 in /home/paperspace/.local/lib/python3.8/site-packages (from google-api-core!=2.0.*,!=2.1.*,!=2.2.*,!=2.3.0,<3.0.0dev,>=1.31.5->google-api-python-client>=1.6.7->tf-models-official>=2.5.1->object-detection==0.1) (1.56.0)\n",
      "Requirement already satisfied: cachetools<6.0,>=2.0.0 in /home/paperspace/.local/lib/python3.8/site-packages (from google-auth<3.0.0dev,>=1.16.0->google-api-python-client>=1.6.7->tf-models-official>=2.5.1->object-detection==0.1) (5.0.0)\n"
     ]
    },
    {
     "name": "stdout",
     "output_type": "stream",
     "text": [
      "Requirement already satisfied: threadpoolctl>=2.0.0 in /home/paperspace/.local/lib/python3.8/site-packages (from scikit-learn>=0.21.3->seqeval->tf-models-official>=2.5.1->object-detection==0.1) (3.1.0)\n",
      "Requirement already satisfied: joblib>=0.11 in /home/paperspace/.local/lib/python3.8/site-packages (from scikit-learn>=0.21.3->seqeval->tf-models-official>=2.5.1->object-detection==0.1) (1.1.0)\n",
      "Requirement already satisfied: markdown>=2.6.8 in /home/paperspace/.local/lib/python3.8/site-packages (from tensorboard<2.9,>=2.8->tensorflow~=2.8.0->tf-models-official>=2.5.1->object-detection==0.1) (3.3.6)\n",
      "Requirement already satisfied: tensorboard-data-server<0.7.0,>=0.6.0 in /home/paperspace/.local/lib/python3.8/site-packages (from tensorboard<2.9,>=2.8->tensorflow~=2.8.0->tf-models-official>=2.5.1->object-detection==0.1) (0.6.1)\n",
      "Requirement already satisfied: tensorboard-plugin-wit>=1.6.0 in /home/paperspace/.local/lib/python3.8/site-packages (from tensorboard<2.9,>=2.8->tensorflow~=2.8.0->tf-models-official>=2.5.1->object-detection==0.1) (1.8.1)\n",
      "Requirement already satisfied: werkzeug>=0.11.15 in /home/paperspace/.local/lib/python3.8/site-packages (from tensorboard<2.9,>=2.8->tensorflow~=2.8.0->tf-models-official>=2.5.1->object-detection==0.1) (2.0.3)\n",
      "Requirement already satisfied: google-auth-oauthlib<0.5,>=0.4.1 in /home/paperspace/.local/lib/python3.8/site-packages (from tensorboard<2.9,>=2.8->tensorflow~=2.8.0->tf-models-official>=2.5.1->object-detection==0.1) (0.4.6)\n",
      "Requirement already satisfied: zipp>=3.1.0 in /home/paperspace/.local/lib/python3.8/site-packages (from importlib-resources->tensorflow-datasets->tf-models-official>=2.5.1->object-detection==0.1) (3.8.0)\n",
      "Requirement already satisfied: text-unidecode>=1.3 in /home/paperspace/.local/lib/python3.8/site-packages (from python-slugify->kaggle>=1.3.9->tf-models-official>=2.5.1->object-detection==0.1) (1.3)\n",
      "Requirement already satisfied: requests-oauthlib>=0.7.0 in /home/paperspace/.local/lib/python3.8/site-packages (from google-auth-oauthlib<0.5,>=0.4.1->tensorboard<2.9,>=2.8->tensorflow~=2.8.0->tf-models-official>=2.5.1->object-detection==0.1) (1.3.1)\n",
      "Requirement already satisfied: importlib-metadata>=4.4 in /home/paperspace/.local/lib/python3.8/site-packages (from markdown>=2.6.8->tensorboard<2.9,>=2.8->tensorflow~=2.8.0->tf-models-official>=2.5.1->object-detection==0.1) (4.11.1)\n",
      "Requirement already satisfied: oauthlib>=3.0.0 in /usr/lib/python3/dist-packages (from requests-oauthlib>=0.7.0->google-auth-oauthlib<0.5,>=0.4.1->tensorboard<2.9,>=2.8->tensorflow~=2.8.0->tf-models-official>=2.5.1->object-detection==0.1) (3.1.0)\n",
      "Building wheels for collected packages: object-detection\n",
      "  Building wheel for object-detection (setup.py) ... \u001b[?25ldone\n",
      "\u001b[?25h  Created wheel for object-detection: filename=object_detection-0.1-py3-none-any.whl size=1692785 sha256=76f8d8d216786907679bbca69d8fe27d1b93d3bfa63bd7478f38b770e2924c9a\n",
      "  Stored in directory: /tmp/pip-ephem-wheel-cache-t9s50urf/wheels/53/b2/91/b54fdfe05333d6844d4be1d992861c81bb3323012a1e9f4eb8\n",
      "Successfully built object-detection\n",
      "Installing collected packages: object-detection\n",
      "  Attempting uninstall: object-detection\n",
      "    Found existing installation: object-detection 0.1\n",
      "    Uninstalling object-detection-0.1:\n",
      "      Successfully uninstalled object-detection-0.1\n",
      "Successfully installed object-detection-0.1\n"
     ]
    }
   ],
   "source": [
    "# Install Tensorflow Object Detection \n",
    "if os.name=='posix':  \n",
    "    !apt-get install protobuf-compiler\n",
    "    !cd Tensorflow/models/research && protoc object_detection/protos/*.proto --python_out=. && cp object_detection/packages/tf2/setup.py . && python3 -m pip install . \n",
    "    \n",
    "if os.name=='nt':\n",
    "    url=\"https://github.com/protocolbuffers/protobuf/releases/download/v3.15.6/protoc-3.15.6-win64.zip\"\n",
    "    wget.download(url)\n",
    "    !move protoc-3.15.6-win64.zip {paths['PROTOC_PATH']}\n",
    "    !cd {paths['PROTOC_PATH']} && tar -xf protoc-3.15.6-win64.zip\n",
    "    os.environ['PATH'] += os.pathsep + os.path.abspath(os.path.join(paths['PROTOC_PATH'], 'bin'))   \n",
    "    !cd Tensorflow/models/research && protoc object_detection/protos/*.proto --python_out=. && copy object_detection\\\\packages\\\\tf2\\\\setup.py setup.py && python setup.py build && python setup.py install\n",
    "    !cd Tensorflow/models/research/slim && pip install -e . "
   ]
  },
  {
   "cell_type": "code",
   "execution_count": 5,
   "metadata": {
    "scrolled": true
   },
   "outputs": [
    {
     "name": "stdout",
     "output_type": "stream",
     "text": [
      "2022-05-02 02:23:04.709088: I tensorflow/stream_executor/cuda/cuda_gpu_executor.cc:936] successful NUMA node read from SysFS had negative value (-1), but there must be at least one NUMA node, so returning NUMA node zero\n",
      "2022-05-02 02:23:04.843677: I tensorflow/stream_executor/cuda/cuda_gpu_executor.cc:936] successful NUMA node read from SysFS had negative value (-1), but there must be at least one NUMA node, so returning NUMA node zero\n",
      "2022-05-02 02:23:04.844677: I tensorflow/stream_executor/cuda/cuda_gpu_executor.cc:936] successful NUMA node read from SysFS had negative value (-1), but there must be at least one NUMA node, so returning NUMA node zero\n",
      "Running tests under Python 3.8.10: /usr/bin/python3\n",
      "[ RUN      ] ModelBuilderTF2Test.test_create_center_net_deepmac\n",
      "2022-05-02 02:23:04.869074: I tensorflow/core/platform/cpu_feature_guard.cc:151] This TensorFlow binary is optimized with oneAPI Deep Neural Network Library (oneDNN) to use the following CPU instructions in performance-critical operations:  AVX2 FMA\n",
      "To enable them in other operations, rebuild TensorFlow with the appropriate compiler flags.\n",
      "2022-05-02 02:23:04.870479: I tensorflow/stream_executor/cuda/cuda_gpu_executor.cc:936] successful NUMA node read from SysFS had negative value (-1), but there must be at least one NUMA node, so returning NUMA node zero\n",
      "2022-05-02 02:23:04.871435: I tensorflow/stream_executor/cuda/cuda_gpu_executor.cc:936] successful NUMA node read from SysFS had negative value (-1), but there must be at least one NUMA node, so returning NUMA node zero\n",
      "2022-05-02 02:23:04.872173: I tensorflow/stream_executor/cuda/cuda_gpu_executor.cc:936] successful NUMA node read from SysFS had negative value (-1), but there must be at least one NUMA node, so returning NUMA node zero\n",
      "2022-05-02 02:23:07.113179: I tensorflow/stream_executor/cuda/cuda_gpu_executor.cc:936] successful NUMA node read from SysFS had negative value (-1), but there must be at least one NUMA node, so returning NUMA node zero\n",
      "2022-05-02 02:23:07.113848: I tensorflow/stream_executor/cuda/cuda_gpu_executor.cc:936] successful NUMA node read from SysFS had negative value (-1), but there must be at least one NUMA node, so returning NUMA node zero\n",
      "2022-05-02 02:23:07.114539: I tensorflow/stream_executor/cuda/cuda_gpu_executor.cc:936] successful NUMA node read from SysFS had negative value (-1), but there must be at least one NUMA node, so returning NUMA node zero\n",
      "2022-05-02 02:23:07.116253: I tensorflow/core/common_runtime/gpu/gpu_device.cc:1525] Created device /job:localhost/replica:0/task:0/device:GPU:0 with 7136 MB memory:  -> device: 0, name: NVIDIA Quadro P4000, pci bus id: 0000:00:05.0, compute capability: 6.1\n",
      "/home/paperspace/.local/lib/python3.8/site-packages/object_detection/builders/model_builder.py:1102: DeprecationWarning: The 'warn' function is deprecated, use 'warning' instead\n",
      "  logging.warn(('Building experimental DeepMAC meta-arch.'\n",
      "W0502 02:23:07.665013 140692937602880 model_builder.py:1102] Building experimental DeepMAC meta-arch. Some features may be omitted.\n",
      "INFO:tensorflow:time(__main__.ModelBuilderTF2Test.test_create_center_net_deepmac): 3.38s\n",
      "I0502 02:23:08.228509 140692937602880 test_util.py:2373] time(__main__.ModelBuilderTF2Test.test_create_center_net_deepmac): 3.38s\n",
      "[       OK ] ModelBuilderTF2Test.test_create_center_net_deepmac\n",
      "[ RUN      ] ModelBuilderTF2Test.test_create_center_net_model0 (customize_head_params=True)\n",
      "INFO:tensorflow:time(__main__.ModelBuilderTF2Test.test_create_center_net_model0 (customize_head_params=True)): 0.77s\n",
      "I0502 02:23:08.997622 140692937602880 test_util.py:2373] time(__main__.ModelBuilderTF2Test.test_create_center_net_model0 (customize_head_params=True)): 0.77s\n",
      "[       OK ] ModelBuilderTF2Test.test_create_center_net_model0 (customize_head_params=True)\n",
      "[ RUN      ] ModelBuilderTF2Test.test_create_center_net_model1 (customize_head_params=False)\n",
      "INFO:tensorflow:time(__main__.ModelBuilderTF2Test.test_create_center_net_model1 (customize_head_params=False)): 0.4s\n",
      "I0502 02:23:09.395792 140692937602880 test_util.py:2373] time(__main__.ModelBuilderTF2Test.test_create_center_net_model1 (customize_head_params=False)): 0.4s\n",
      "[       OK ] ModelBuilderTF2Test.test_create_center_net_model1 (customize_head_params=False)\n",
      "[ RUN      ] ModelBuilderTF2Test.test_create_center_net_model_from_keypoints\n",
      "INFO:tensorflow:time(__main__.ModelBuilderTF2Test.test_create_center_net_model_from_keypoints): 0.38s\n",
      "I0502 02:23:09.772387 140692937602880 test_util.py:2373] time(__main__.ModelBuilderTF2Test.test_create_center_net_model_from_keypoints): 0.38s\n",
      "[       OK ] ModelBuilderTF2Test.test_create_center_net_model_from_keypoints\n",
      "[ RUN      ] ModelBuilderTF2Test.test_create_center_net_model_mobilenet\n",
      "INFO:tensorflow:time(__main__.ModelBuilderTF2Test.test_create_center_net_model_mobilenet): 2.76s\n",
      "I0502 02:23:12.536797 140692937602880 test_util.py:2373] time(__main__.ModelBuilderTF2Test.test_create_center_net_model_mobilenet): 2.76s\n",
      "[       OK ] ModelBuilderTF2Test.test_create_center_net_model_mobilenet\n",
      "[ RUN      ] ModelBuilderTF2Test.test_create_experimental_model\n",
      "INFO:tensorflow:time(__main__.ModelBuilderTF2Test.test_create_experimental_model): 0.0s\n",
      "I0502 02:23:12.538681 140692937602880 test_util.py:2373] time(__main__.ModelBuilderTF2Test.test_create_experimental_model): 0.0s\n",
      "[       OK ] ModelBuilderTF2Test.test_create_experimental_model\n",
      "[ RUN      ] ModelBuilderTF2Test.test_create_faster_rcnn_from_config_with_crop_feature0 (True)\n",
      "INFO:tensorflow:time(__main__.ModelBuilderTF2Test.test_create_faster_rcnn_from_config_with_crop_feature0 (True)): 0.03s\n",
      "I0502 02:23:12.573478 140692937602880 test_util.py:2373] time(__main__.ModelBuilderTF2Test.test_create_faster_rcnn_from_config_with_crop_feature0 (True)): 0.03s\n",
      "[       OK ] ModelBuilderTF2Test.test_create_faster_rcnn_from_config_with_crop_feature0 (True)\n",
      "[ RUN      ] ModelBuilderTF2Test.test_create_faster_rcnn_from_config_with_crop_feature1 (False)\n",
      "INFO:tensorflow:time(__main__.ModelBuilderTF2Test.test_create_faster_rcnn_from_config_with_crop_feature1 (False)): 0.02s\n",
      "I0502 02:23:12.593842 140692937602880 test_util.py:2373] time(__main__.ModelBuilderTF2Test.test_create_faster_rcnn_from_config_with_crop_feature1 (False)): 0.02s\n",
      "[       OK ] ModelBuilderTF2Test.test_create_faster_rcnn_from_config_with_crop_feature1 (False)\n",
      "[ RUN      ] ModelBuilderTF2Test.test_create_faster_rcnn_model_from_config_with_example_miner\n",
      "INFO:tensorflow:time(__main__.ModelBuilderTF2Test.test_create_faster_rcnn_model_from_config_with_example_miner): 0.02s\n",
      "I0502 02:23:12.616004 140692937602880 test_util.py:2373] time(__main__.ModelBuilderTF2Test.test_create_faster_rcnn_model_from_config_with_example_miner): 0.02s\n",
      "[       OK ] ModelBuilderTF2Test.test_create_faster_rcnn_model_from_config_with_example_miner\n",
      "[ RUN      ] ModelBuilderTF2Test.test_create_faster_rcnn_models_from_config_faster_rcnn_with_matmul\n",
      "INFO:tensorflow:time(__main__.ModelBuilderTF2Test.test_create_faster_rcnn_models_from_config_faster_rcnn_with_matmul): 0.14s\n",
      "I0502 02:23:12.753746 140692937602880 test_util.py:2373] time(__main__.ModelBuilderTF2Test.test_create_faster_rcnn_models_from_config_faster_rcnn_with_matmul): 0.14s\n",
      "[       OK ] ModelBuilderTF2Test.test_create_faster_rcnn_models_from_config_faster_rcnn_with_matmul\n",
      "[ RUN      ] ModelBuilderTF2Test.test_create_faster_rcnn_models_from_config_faster_rcnn_without_matmul\n",
      "INFO:tensorflow:time(__main__.ModelBuilderTF2Test.test_create_faster_rcnn_models_from_config_faster_rcnn_without_matmul): 0.13s\n",
      "I0502 02:23:12.888097 140692937602880 test_util.py:2373] time(__main__.ModelBuilderTF2Test.test_create_faster_rcnn_models_from_config_faster_rcnn_without_matmul): 0.13s\n",
      "[       OK ] ModelBuilderTF2Test.test_create_faster_rcnn_models_from_config_faster_rcnn_without_matmul\n",
      "[ RUN      ] ModelBuilderTF2Test.test_create_faster_rcnn_models_from_config_mask_rcnn_with_matmul\n",
      "INFO:tensorflow:time(__main__.ModelBuilderTF2Test.test_create_faster_rcnn_models_from_config_mask_rcnn_with_matmul): 0.15s\n",
      "I0502 02:23:13.034422 140692937602880 test_util.py:2373] time(__main__.ModelBuilderTF2Test.test_create_faster_rcnn_models_from_config_mask_rcnn_with_matmul): 0.15s\n",
      "[       OK ] ModelBuilderTF2Test.test_create_faster_rcnn_models_from_config_mask_rcnn_with_matmul\n",
      "[ RUN      ] ModelBuilderTF2Test.test_create_faster_rcnn_models_from_config_mask_rcnn_without_matmul\n"
     ]
    },
    {
     "name": "stdout",
     "output_type": "stream",
     "text": [
      "INFO:tensorflow:time(__main__.ModelBuilderTF2Test.test_create_faster_rcnn_models_from_config_mask_rcnn_without_matmul): 0.14s\n",
      "I0502 02:23:13.174787 140692937602880 test_util.py:2373] time(__main__.ModelBuilderTF2Test.test_create_faster_rcnn_models_from_config_mask_rcnn_without_matmul): 0.14s\n",
      "[       OK ] ModelBuilderTF2Test.test_create_faster_rcnn_models_from_config_mask_rcnn_without_matmul\n",
      "[ RUN      ] ModelBuilderTF2Test.test_create_rfcn_model_from_config\n",
      "INFO:tensorflow:time(__main__.ModelBuilderTF2Test.test_create_rfcn_model_from_config): 0.14s\n",
      "I0502 02:23:13.310693 140692937602880 test_util.py:2373] time(__main__.ModelBuilderTF2Test.test_create_rfcn_model_from_config): 0.14s\n",
      "[       OK ] ModelBuilderTF2Test.test_create_rfcn_model_from_config\n",
      "[ RUN      ] ModelBuilderTF2Test.test_create_ssd_fpn_model_from_config\n",
      "INFO:tensorflow:time(__main__.ModelBuilderTF2Test.test_create_ssd_fpn_model_from_config): 0.04s\n",
      "I0502 02:23:13.351835 140692937602880 test_util.py:2373] time(__main__.ModelBuilderTF2Test.test_create_ssd_fpn_model_from_config): 0.04s\n",
      "[       OK ] ModelBuilderTF2Test.test_create_ssd_fpn_model_from_config\n",
      "[ RUN      ] ModelBuilderTF2Test.test_create_ssd_models_from_config\n",
      "I0502 02:23:13.616263 140692937602880 ssd_efficientnet_bifpn_feature_extractor.py:145] EfficientDet EfficientNet backbone version: efficientnet-b0\n",
      "I0502 02:23:13.616460 140692937602880 ssd_efficientnet_bifpn_feature_extractor.py:147] EfficientDet BiFPN num filters: 64\n",
      "I0502 02:23:13.616544 140692937602880 ssd_efficientnet_bifpn_feature_extractor.py:148] EfficientDet BiFPN num iterations: 3\n",
      "I0502 02:23:13.619932 140692937602880 efficientnet_model.py:144] round_filter input=32 output=32\n",
      "I0502 02:23:13.642740 140692937602880 efficientnet_model.py:144] round_filter input=32 output=32\n",
      "I0502 02:23:13.642950 140692937602880 efficientnet_model.py:144] round_filter input=16 output=16\n",
      "I0502 02:23:13.742773 140692937602880 efficientnet_model.py:144] round_filter input=16 output=16\n",
      "I0502 02:23:13.742981 140692937602880 efficientnet_model.py:144] round_filter input=24 output=24\n",
      "I0502 02:23:13.974253 140692937602880 efficientnet_model.py:144] round_filter input=24 output=24\n",
      "I0502 02:23:13.974478 140692937602880 efficientnet_model.py:144] round_filter input=40 output=40\n",
      "I0502 02:23:14.503658 140692937602880 efficientnet_model.py:144] round_filter input=40 output=40\n",
      "I0502 02:23:14.503889 140692937602880 efficientnet_model.py:144] round_filter input=80 output=80\n",
      "I0502 02:23:14.864769 140692937602880 efficientnet_model.py:144] round_filter input=80 output=80\n",
      "I0502 02:23:14.865034 140692937602880 efficientnet_model.py:144] round_filter input=112 output=112\n",
      "I0502 02:23:15.203885 140692937602880 efficientnet_model.py:144] round_filter input=112 output=112\n",
      "I0502 02:23:15.204173 140692937602880 efficientnet_model.py:144] round_filter input=192 output=192\n",
      "I0502 02:23:15.653791 140692937602880 efficientnet_model.py:144] round_filter input=192 output=192\n",
      "I0502 02:23:15.654078 140692937602880 efficientnet_model.py:144] round_filter input=320 output=320\n",
      "I0502 02:23:15.769991 140692937602880 efficientnet_model.py:144] round_filter input=1280 output=1280\n",
      "I0502 02:23:15.825842 140692937602880 efficientnet_model.py:454] Building model efficientnet with params ModelConfig(width_coefficient=1.0, depth_coefficient=1.0, resolution=224, dropout_rate=0.2, blocks=(BlockConfig(input_filters=32, output_filters=16, kernel_size=3, num_repeat=1, expand_ratio=1, strides=(1, 1), se_ratio=0.25, id_skip=True, fused_conv=False, conv_type='depthwise'), BlockConfig(input_filters=16, output_filters=24, kernel_size=3, num_repeat=2, expand_ratio=6, strides=(2, 2), se_ratio=0.25, id_skip=True, fused_conv=False, conv_type='depthwise'), BlockConfig(input_filters=24, output_filters=40, kernel_size=5, num_repeat=2, expand_ratio=6, strides=(2, 2), se_ratio=0.25, id_skip=True, fused_conv=False, conv_type='depthwise'), BlockConfig(input_filters=40, output_filters=80, kernel_size=3, num_repeat=3, expand_ratio=6, strides=(2, 2), se_ratio=0.25, id_skip=True, fused_conv=False, conv_type='depthwise'), BlockConfig(input_filters=80, output_filters=112, kernel_size=5, num_repeat=3, expand_ratio=6, strides=(1, 1), se_ratio=0.25, id_skip=True, fused_conv=False, conv_type='depthwise'), BlockConfig(input_filters=112, output_filters=192, kernel_size=5, num_repeat=4, expand_ratio=6, strides=(2, 2), se_ratio=0.25, id_skip=True, fused_conv=False, conv_type='depthwise'), BlockConfig(input_filters=192, output_filters=320, kernel_size=3, num_repeat=1, expand_ratio=6, strides=(1, 1), se_ratio=0.25, id_skip=True, fused_conv=False, conv_type='depthwise')), stem_base_filters=32, top_base_filters=1280, activation='simple_swish', batch_norm='default', bn_momentum=0.99, bn_epsilon=0.001, weight_decay=5e-06, drop_connect_rate=0.2, depth_divisor=8, min_depth=None, use_se=True, input_channels=3, num_classes=1000, model_name='efficientnet', rescale_input=False, data_format='channels_last', dtype='float32')\n",
      "I0502 02:23:15.906433 140692937602880 ssd_efficientnet_bifpn_feature_extractor.py:145] EfficientDet EfficientNet backbone version: efficientnet-b1\n",
      "I0502 02:23:15.906633 140692937602880 ssd_efficientnet_bifpn_feature_extractor.py:147] EfficientDet BiFPN num filters: 88\n",
      "I0502 02:23:15.906708 140692937602880 ssd_efficientnet_bifpn_feature_extractor.py:148] EfficientDet BiFPN num iterations: 4\n",
      "I0502 02:23:15.909074 140692937602880 efficientnet_model.py:144] round_filter input=32 output=32\n",
      "I0502 02:23:15.929734 140692937602880 efficientnet_model.py:144] round_filter input=32 output=32\n",
      "I0502 02:23:15.930014 140692937602880 efficientnet_model.py:144] round_filter input=16 output=16\n",
      "I0502 02:23:16.093114 140692937602880 efficientnet_model.py:144] round_filter input=16 output=16\n",
      "I0502 02:23:16.093304 140692937602880 efficientnet_model.py:144] round_filter input=24 output=24\n",
      "I0502 02:23:16.459213 140692937602880 efficientnet_model.py:144] round_filter input=24 output=24\n",
      "I0502 02:23:16.459429 140692937602880 efficientnet_model.py:144] round_filter input=40 output=40\n",
      "I0502 02:23:16.809741 140692937602880 efficientnet_model.py:144] round_filter input=40 output=40\n",
      "I0502 02:23:16.810091 140692937602880 efficientnet_model.py:144] round_filter input=80 output=80\n",
      "I0502 02:23:17.322815 140692937602880 efficientnet_model.py:144] round_filter input=80 output=80\n",
      "I0502 02:23:17.323054 140692937602880 efficientnet_model.py:144] round_filter input=112 output=112\n",
      "I0502 02:23:17.804255 140692937602880 efficientnet_model.py:144] round_filter input=112 output=112\n",
      "I0502 02:23:17.804471 140692937602880 efficientnet_model.py:144] round_filter input=192 output=192\n",
      "I0502 02:23:18.370653 140692937602880 efficientnet_model.py:144] round_filter input=192 output=192\n",
      "I0502 02:23:18.370942 140692937602880 efficientnet_model.py:144] round_filter input=320 output=320\n",
      "I0502 02:23:18.606680 140692937602880 efficientnet_model.py:144] round_filter input=1280 output=1280\n",
      "I0502 02:23:18.651994 140692937602880 efficientnet_model.py:454] Building model efficientnet with params ModelConfig(width_coefficient=1.0, depth_coefficient=1.1, resolution=240, dropout_rate=0.2, blocks=(BlockConfig(input_filters=32, output_filters=16, kernel_size=3, num_repeat=1, expand_ratio=1, strides=(1, 1), se_ratio=0.25, id_skip=True, fused_conv=False, conv_type='depthwise'), BlockConfig(input_filters=16, output_filters=24, kernel_size=3, num_repeat=2, expand_ratio=6, strides=(2, 2), se_ratio=0.25, id_skip=True, fused_conv=False, conv_type='depthwise'), BlockConfig(input_filters=24, output_filters=40, kernel_size=5, num_repeat=2, expand_ratio=6, strides=(2, 2), se_ratio=0.25, id_skip=True, fused_conv=False, conv_type='depthwise'), BlockConfig(input_filters=40, output_filters=80, kernel_size=3, num_repeat=3, expand_ratio=6, strides=(2, 2), se_ratio=0.25, id_skip=True, fused_conv=False, conv_type='depthwise'), BlockConfig(input_filters=80, output_filters=112, kernel_size=5, num_repeat=3, expand_ratio=6, strides=(1, 1), se_ratio=0.25, id_skip=True, fused_conv=False, conv_type='depthwise'), BlockConfig(input_filters=112, output_filters=192, kernel_size=5, num_repeat=4, expand_ratio=6, strides=(2, 2), se_ratio=0.25, id_skip=True, fused_conv=False, conv_type='depthwise'), BlockConfig(input_filters=192, output_filters=320, kernel_size=3, num_repeat=1, expand_ratio=6, strides=(1, 1), se_ratio=0.25, id_skip=True, fused_conv=False, conv_type='depthwise')), stem_base_filters=32, top_base_filters=1280, activation='simple_swish', batch_norm='default', bn_momentum=0.99, bn_epsilon=0.001, weight_decay=5e-06, drop_connect_rate=0.2, depth_divisor=8, min_depth=None, use_se=True, input_channels=3, num_classes=1000, model_name='efficientnet', rescale_input=False, data_format='channels_last', dtype='float32')\n"
     ]
    },
    {
     "name": "stdout",
     "output_type": "stream",
     "text": [
      "I0502 02:23:18.736693 140692937602880 ssd_efficientnet_bifpn_feature_extractor.py:145] EfficientDet EfficientNet backbone version: efficientnet-b2\n",
      "I0502 02:23:18.736933 140692937602880 ssd_efficientnet_bifpn_feature_extractor.py:147] EfficientDet BiFPN num filters: 112\n",
      "I0502 02:23:18.737013 140692937602880 ssd_efficientnet_bifpn_feature_extractor.py:148] EfficientDet BiFPN num iterations: 5\n",
      "I0502 02:23:18.739052 140692937602880 efficientnet_model.py:144] round_filter input=32 output=32\n",
      "I0502 02:23:18.762480 140692937602880 efficientnet_model.py:144] round_filter input=32 output=32\n",
      "I0502 02:23:18.762765 140692937602880 efficientnet_model.py:144] round_filter input=16 output=16\n",
      "I0502 02:23:18.970578 140692937602880 efficientnet_model.py:144] round_filter input=16 output=16\n",
      "I0502 02:23:18.970766 140692937602880 efficientnet_model.py:144] round_filter input=24 output=24\n",
      "I0502 02:23:19.308636 140692937602880 efficientnet_model.py:144] round_filter input=24 output=24\n",
      "I0502 02:23:19.308902 140692937602880 efficientnet_model.py:144] round_filter input=40 output=48\n",
      "I0502 02:23:19.678437 140692937602880 efficientnet_model.py:144] round_filter input=40 output=48\n",
      "I0502 02:23:19.678669 140692937602880 efficientnet_model.py:144] round_filter input=80 output=88\n",
      "I0502 02:23:20.135809 140692937602880 efficientnet_model.py:144] round_filter input=80 output=88\n",
      "I0502 02:23:20.136023 140692937602880 efficientnet_model.py:144] round_filter input=112 output=120\n",
      "I0502 02:23:20.903901 140692937602880 efficientnet_model.py:144] round_filter input=112 output=120\n",
      "I0502 02:23:20.904130 140692937602880 efficientnet_model.py:144] round_filter input=192 output=208\n",
      "I0502 02:23:21.476411 140692937602880 efficientnet_model.py:144] round_filter input=192 output=208\n",
      "I0502 02:23:21.476606 140692937602880 efficientnet_model.py:144] round_filter input=320 output=352\n",
      "I0502 02:23:21.709461 140692937602880 efficientnet_model.py:144] round_filter input=1280 output=1408\n",
      "I0502 02:23:21.756194 140692937602880 efficientnet_model.py:454] Building model efficientnet with params ModelConfig(width_coefficient=1.1, depth_coefficient=1.2, resolution=260, dropout_rate=0.3, blocks=(BlockConfig(input_filters=32, output_filters=16, kernel_size=3, num_repeat=1, expand_ratio=1, strides=(1, 1), se_ratio=0.25, id_skip=True, fused_conv=False, conv_type='depthwise'), BlockConfig(input_filters=16, output_filters=24, kernel_size=3, num_repeat=2, expand_ratio=6, strides=(2, 2), se_ratio=0.25, id_skip=True, fused_conv=False, conv_type='depthwise'), BlockConfig(input_filters=24, output_filters=40, kernel_size=5, num_repeat=2, expand_ratio=6, strides=(2, 2), se_ratio=0.25, id_skip=True, fused_conv=False, conv_type='depthwise'), BlockConfig(input_filters=40, output_filters=80, kernel_size=3, num_repeat=3, expand_ratio=6, strides=(2, 2), se_ratio=0.25, id_skip=True, fused_conv=False, conv_type='depthwise'), BlockConfig(input_filters=80, output_filters=112, kernel_size=5, num_repeat=3, expand_ratio=6, strides=(1, 1), se_ratio=0.25, id_skip=True, fused_conv=False, conv_type='depthwise'), BlockConfig(input_filters=112, output_filters=192, kernel_size=5, num_repeat=4, expand_ratio=6, strides=(2, 2), se_ratio=0.25, id_skip=True, fused_conv=False, conv_type='depthwise'), BlockConfig(input_filters=192, output_filters=320, kernel_size=3, num_repeat=1, expand_ratio=6, strides=(1, 1), se_ratio=0.25, id_skip=True, fused_conv=False, conv_type='depthwise')), stem_base_filters=32, top_base_filters=1280, activation='simple_swish', batch_norm='default', bn_momentum=0.99, bn_epsilon=0.001, weight_decay=5e-06, drop_connect_rate=0.2, depth_divisor=8, min_depth=None, use_se=True, input_channels=3, num_classes=1000, model_name='efficientnet', rescale_input=False, data_format='channels_last', dtype='float32')\n",
      "I0502 02:23:21.853610 140692937602880 ssd_efficientnet_bifpn_feature_extractor.py:145] EfficientDet EfficientNet backbone version: efficientnet-b3\n",
      "I0502 02:23:21.853832 140692937602880 ssd_efficientnet_bifpn_feature_extractor.py:147] EfficientDet BiFPN num filters: 160\n",
      "I0502 02:23:21.853962 140692937602880 ssd_efficientnet_bifpn_feature_extractor.py:148] EfficientDet BiFPN num iterations: 6\n",
      "I0502 02:23:21.856174 140692937602880 efficientnet_model.py:144] round_filter input=32 output=40\n",
      "I0502 02:23:21.881747 140692937602880 efficientnet_model.py:144] round_filter input=32 output=40\n",
      "I0502 02:23:21.882063 140692937602880 efficientnet_model.py:144] round_filter input=16 output=24\n",
      "I0502 02:23:22.072500 140692937602880 efficientnet_model.py:144] round_filter input=16 output=24\n",
      "I0502 02:23:22.072718 140692937602880 efficientnet_model.py:144] round_filter input=24 output=32\n",
      "I0502 02:23:22.457262 140692937602880 efficientnet_model.py:144] round_filter input=24 output=32\n",
      "I0502 02:23:22.457467 140692937602880 efficientnet_model.py:144] round_filter input=40 output=48\n",
      "I0502 02:23:22.793650 140692937602880 efficientnet_model.py:144] round_filter input=40 output=48\n",
      "I0502 02:23:22.793890 140692937602880 efficientnet_model.py:144] round_filter input=80 output=96\n",
      "I0502 02:23:23.346791 140692937602880 efficientnet_model.py:144] round_filter input=80 output=96\n",
      "I0502 02:23:23.347011 140692937602880 efficientnet_model.py:144] round_filter input=112 output=136\n",
      "I0502 02:23:23.931089 140692937602880 efficientnet_model.py:144] round_filter input=112 output=136\n",
      "I0502 02:23:23.931311 140692937602880 efficientnet_model.py:144] round_filter input=192 output=232\n",
      "I0502 02:23:24.567671 140692937602880 efficientnet_model.py:144] round_filter input=192 output=232\n",
      "I0502 02:23:24.567947 140692937602880 efficientnet_model.py:144] round_filter input=320 output=384\n",
      "I0502 02:23:24.799351 140692937602880 efficientnet_model.py:144] round_filter input=1280 output=1536\n",
      "I0502 02:23:24.844658 140692937602880 efficientnet_model.py:454] Building model efficientnet with params ModelConfig(width_coefficient=1.2, depth_coefficient=1.4, resolution=300, dropout_rate=0.3, blocks=(BlockConfig(input_filters=32, output_filters=16, kernel_size=3, num_repeat=1, expand_ratio=1, strides=(1, 1), se_ratio=0.25, id_skip=True, fused_conv=False, conv_type='depthwise'), BlockConfig(input_filters=16, output_filters=24, kernel_size=3, num_repeat=2, expand_ratio=6, strides=(2, 2), se_ratio=0.25, id_skip=True, fused_conv=False, conv_type='depthwise'), BlockConfig(input_filters=24, output_filters=40, kernel_size=5, num_repeat=2, expand_ratio=6, strides=(2, 2), se_ratio=0.25, id_skip=True, fused_conv=False, conv_type='depthwise'), BlockConfig(input_filters=40, output_filters=80, kernel_size=3, num_repeat=3, expand_ratio=6, strides=(2, 2), se_ratio=0.25, id_skip=True, fused_conv=False, conv_type='depthwise'), BlockConfig(input_filters=80, output_filters=112, kernel_size=5, num_repeat=3, expand_ratio=6, strides=(1, 1), se_ratio=0.25, id_skip=True, fused_conv=False, conv_type='depthwise'), BlockConfig(input_filters=112, output_filters=192, kernel_size=5, num_repeat=4, expand_ratio=6, strides=(2, 2), se_ratio=0.25, id_skip=True, fused_conv=False, conv_type='depthwise'), BlockConfig(input_filters=192, output_filters=320, kernel_size=3, num_repeat=1, expand_ratio=6, strides=(1, 1), se_ratio=0.25, id_skip=True, fused_conv=False, conv_type='depthwise')), stem_base_filters=32, top_base_filters=1280, activation='simple_swish', batch_norm='default', bn_momentum=0.99, bn_epsilon=0.001, weight_decay=5e-06, drop_connect_rate=0.2, depth_divisor=8, min_depth=None, use_se=True, input_channels=3, num_classes=1000, model_name='efficientnet', rescale_input=False, data_format='channels_last', dtype='float32')\n",
      "I0502 02:23:24.941109 140692937602880 ssd_efficientnet_bifpn_feature_extractor.py:145] EfficientDet EfficientNet backbone version: efficientnet-b4\n",
      "I0502 02:23:24.941310 140692937602880 ssd_efficientnet_bifpn_feature_extractor.py:147] EfficientDet BiFPN num filters: 224\n",
      "I0502 02:23:24.941382 140692937602880 ssd_efficientnet_bifpn_feature_extractor.py:148] EfficientDet BiFPN num iterations: 7\n",
      "I0502 02:23:24.943607 140692937602880 efficientnet_model.py:144] round_filter input=32 output=48\n",
      "I0502 02:23:24.969056 140692937602880 efficientnet_model.py:144] round_filter input=32 output=48\n",
      "I0502 02:23:24.969296 140692937602880 efficientnet_model.py:144] round_filter input=16 output=24\n"
     ]
    },
    {
     "name": "stdout",
     "output_type": "stream",
     "text": [
      "I0502 02:23:25.141473 140692937602880 efficientnet_model.py:144] round_filter input=16 output=24\n",
      "I0502 02:23:25.141677 140692937602880 efficientnet_model.py:144] round_filter input=24 output=32\n",
      "I0502 02:23:25.571936 140692937602880 efficientnet_model.py:144] round_filter input=24 output=32\n",
      "I0502 02:23:25.572141 140692937602880 efficientnet_model.py:144] round_filter input=40 output=56\n",
      "I0502 02:23:26.058166 140692937602880 efficientnet_model.py:144] round_filter input=40 output=56\n",
      "I0502 02:23:26.058347 140692937602880 efficientnet_model.py:144] round_filter input=80 output=112\n",
      "I0502 02:23:26.790887 140692937602880 efficientnet_model.py:144] round_filter input=80 output=112\n",
      "I0502 02:23:26.791104 140692937602880 efficientnet_model.py:144] round_filter input=112 output=160\n",
      "I0502 02:23:27.916639 140692937602880 efficientnet_model.py:144] round_filter input=112 output=160\n",
      "I0502 02:23:27.916837 140692937602880 efficientnet_model.py:144] round_filter input=192 output=272\n",
      "I0502 02:23:28.876651 140692937602880 efficientnet_model.py:144] round_filter input=192 output=272\n",
      "I0502 02:23:28.876842 140692937602880 efficientnet_model.py:144] round_filter input=320 output=448\n",
      "I0502 02:23:29.126456 140692937602880 efficientnet_model.py:144] round_filter input=1280 output=1792\n",
      "I0502 02:23:29.173315 140692937602880 efficientnet_model.py:454] Building model efficientnet with params ModelConfig(width_coefficient=1.4, depth_coefficient=1.8, resolution=380, dropout_rate=0.4, blocks=(BlockConfig(input_filters=32, output_filters=16, kernel_size=3, num_repeat=1, expand_ratio=1, strides=(1, 1), se_ratio=0.25, id_skip=True, fused_conv=False, conv_type='depthwise'), BlockConfig(input_filters=16, output_filters=24, kernel_size=3, num_repeat=2, expand_ratio=6, strides=(2, 2), se_ratio=0.25, id_skip=True, fused_conv=False, conv_type='depthwise'), BlockConfig(input_filters=24, output_filters=40, kernel_size=5, num_repeat=2, expand_ratio=6, strides=(2, 2), se_ratio=0.25, id_skip=True, fused_conv=False, conv_type='depthwise'), BlockConfig(input_filters=40, output_filters=80, kernel_size=3, num_repeat=3, expand_ratio=6, strides=(2, 2), se_ratio=0.25, id_skip=True, fused_conv=False, conv_type='depthwise'), BlockConfig(input_filters=80, output_filters=112, kernel_size=5, num_repeat=3, expand_ratio=6, strides=(1, 1), se_ratio=0.25, id_skip=True, fused_conv=False, conv_type='depthwise'), BlockConfig(input_filters=112, output_filters=192, kernel_size=5, num_repeat=4, expand_ratio=6, strides=(2, 2), se_ratio=0.25, id_skip=True, fused_conv=False, conv_type='depthwise'), BlockConfig(input_filters=192, output_filters=320, kernel_size=3, num_repeat=1, expand_ratio=6, strides=(1, 1), se_ratio=0.25, id_skip=True, fused_conv=False, conv_type='depthwise')), stem_base_filters=32, top_base_filters=1280, activation='simple_swish', batch_norm='default', bn_momentum=0.99, bn_epsilon=0.001, weight_decay=5e-06, drop_connect_rate=0.2, depth_divisor=8, min_depth=None, use_se=True, input_channels=3, num_classes=1000, model_name='efficientnet', rescale_input=False, data_format='channels_last', dtype='float32')\n",
      "I0502 02:23:29.299019 140692937602880 ssd_efficientnet_bifpn_feature_extractor.py:145] EfficientDet EfficientNet backbone version: efficientnet-b5\n",
      "I0502 02:23:29.299316 140692937602880 ssd_efficientnet_bifpn_feature_extractor.py:147] EfficientDet BiFPN num filters: 288\n",
      "I0502 02:23:29.299407 140692937602880 ssd_efficientnet_bifpn_feature_extractor.py:148] EfficientDet BiFPN num iterations: 7\n",
      "I0502 02:23:29.302286 140692937602880 efficientnet_model.py:144] round_filter input=32 output=48\n",
      "I0502 02:23:29.326836 140692937602880 efficientnet_model.py:144] round_filter input=32 output=48\n",
      "I0502 02:23:29.327099 140692937602880 efficientnet_model.py:144] round_filter input=16 output=24\n",
      "I0502 02:23:29.646687 140692937602880 efficientnet_model.py:144] round_filter input=16 output=24\n",
      "I0502 02:23:29.646943 140692937602880 efficientnet_model.py:144] round_filter input=24 output=40\n",
      "I0502 02:23:30.286384 140692937602880 efficientnet_model.py:144] round_filter input=24 output=40\n",
      "I0502 02:23:30.286570 140692937602880 efficientnet_model.py:144] round_filter input=40 output=64\n",
      "I0502 02:23:30.912606 140692937602880 efficientnet_model.py:144] round_filter input=40 output=64\n",
      "I0502 02:23:30.912898 140692937602880 efficientnet_model.py:144] round_filter input=80 output=128\n",
      "I0502 02:23:31.867522 140692937602880 efficientnet_model.py:144] round_filter input=80 output=128\n",
      "I0502 02:23:31.867757 140692937602880 efficientnet_model.py:144] round_filter input=112 output=176\n",
      "I0502 02:23:32.803132 140692937602880 efficientnet_model.py:144] round_filter input=112 output=176\n",
      "I0502 02:23:32.803392 140692937602880 efficientnet_model.py:144] round_filter input=192 output=304\n",
      "I0502 02:23:33.902677 140692937602880 efficientnet_model.py:144] round_filter input=192 output=304\n",
      "I0502 02:23:33.902876 140692937602880 efficientnet_model.py:144] round_filter input=320 output=512\n",
      "I0502 02:23:34.269273 140692937602880 efficientnet_model.py:144] round_filter input=1280 output=2048\n",
      "I0502 02:23:34.318710 140692937602880 efficientnet_model.py:454] Building model efficientnet with params ModelConfig(width_coefficient=1.6, depth_coefficient=2.2, resolution=456, dropout_rate=0.4, blocks=(BlockConfig(input_filters=32, output_filters=16, kernel_size=3, num_repeat=1, expand_ratio=1, strides=(1, 1), se_ratio=0.25, id_skip=True, fused_conv=False, conv_type='depthwise'), BlockConfig(input_filters=16, output_filters=24, kernel_size=3, num_repeat=2, expand_ratio=6, strides=(2, 2), se_ratio=0.25, id_skip=True, fused_conv=False, conv_type='depthwise'), BlockConfig(input_filters=24, output_filters=40, kernel_size=5, num_repeat=2, expand_ratio=6, strides=(2, 2), se_ratio=0.25, id_skip=True, fused_conv=False, conv_type='depthwise'), BlockConfig(input_filters=40, output_filters=80, kernel_size=3, num_repeat=3, expand_ratio=6, strides=(2, 2), se_ratio=0.25, id_skip=True, fused_conv=False, conv_type='depthwise'), BlockConfig(input_filters=80, output_filters=112, kernel_size=5, num_repeat=3, expand_ratio=6, strides=(1, 1), se_ratio=0.25, id_skip=True, fused_conv=False, conv_type='depthwise'), BlockConfig(input_filters=112, output_filters=192, kernel_size=5, num_repeat=4, expand_ratio=6, strides=(2, 2), se_ratio=0.25, id_skip=True, fused_conv=False, conv_type='depthwise'), BlockConfig(input_filters=192, output_filters=320, kernel_size=3, num_repeat=1, expand_ratio=6, strides=(1, 1), se_ratio=0.25, id_skip=True, fused_conv=False, conv_type='depthwise')), stem_base_filters=32, top_base_filters=1280, activation='simple_swish', batch_norm='default', bn_momentum=0.99, bn_epsilon=0.001, weight_decay=5e-06, drop_connect_rate=0.2, depth_divisor=8, min_depth=None, use_se=True, input_channels=3, num_classes=1000, model_name='efficientnet', rescale_input=False, data_format='channels_last', dtype='float32')\n",
      "I0502 02:23:34.447583 140692937602880 ssd_efficientnet_bifpn_feature_extractor.py:145] EfficientDet EfficientNet backbone version: efficientnet-b6\n",
      "I0502 02:23:34.447805 140692937602880 ssd_efficientnet_bifpn_feature_extractor.py:147] EfficientDet BiFPN num filters: 384\n",
      "I0502 02:23:34.447880 140692937602880 ssd_efficientnet_bifpn_feature_extractor.py:148] EfficientDet BiFPN num iterations: 8\n",
      "I0502 02:23:34.450193 140692937602880 efficientnet_model.py:144] round_filter input=32 output=56\n",
      "I0502 02:23:34.923530 140692937602880 efficientnet_model.py:144] round_filter input=32 output=56\n",
      "I0502 02:23:34.923761 140692937602880 efficientnet_model.py:144] round_filter input=16 output=32\n",
      "I0502 02:23:35.215442 140692937602880 efficientnet_model.py:144] round_filter input=16 output=32\n",
      "I0502 02:23:35.215643 140692937602880 efficientnet_model.py:144] round_filter input=24 output=40\n",
      "I0502 02:23:35.951651 140692937602880 efficientnet_model.py:144] round_filter input=24 output=40\n",
      "I0502 02:23:35.951847 140692937602880 efficientnet_model.py:144] round_filter input=40 output=72\n",
      "I0502 02:23:36.677638 140692937602880 efficientnet_model.py:144] round_filter input=40 output=72\n",
      "I0502 02:23:36.677881 140692937602880 efficientnet_model.py:144] round_filter input=80 output=144\n",
      "I0502 02:23:37.672421 140692937602880 efficientnet_model.py:144] round_filter input=80 output=144\n",
      "I0502 02:23:37.672657 140692937602880 efficientnet_model.py:144] round_filter input=112 output=200\n"
     ]
    },
    {
     "name": "stdout",
     "output_type": "stream",
     "text": [
      "I0502 02:23:38.605408 140692937602880 efficientnet_model.py:144] round_filter input=112 output=200\n",
      "I0502 02:23:38.605597 140692937602880 efficientnet_model.py:144] round_filter input=192 output=344\n",
      "I0502 02:23:39.780471 140692937602880 efficientnet_model.py:144] round_filter input=192 output=344\n",
      "I0502 02:23:39.780741 140692937602880 efficientnet_model.py:144] round_filter input=320 output=576\n",
      "I0502 02:23:40.153358 140692937602880 efficientnet_model.py:144] round_filter input=1280 output=2304\n",
      "I0502 02:23:40.207330 140692937602880 efficientnet_model.py:454] Building model efficientnet with params ModelConfig(width_coefficient=1.8, depth_coefficient=2.6, resolution=528, dropout_rate=0.5, blocks=(BlockConfig(input_filters=32, output_filters=16, kernel_size=3, num_repeat=1, expand_ratio=1, strides=(1, 1), se_ratio=0.25, id_skip=True, fused_conv=False, conv_type='depthwise'), BlockConfig(input_filters=16, output_filters=24, kernel_size=3, num_repeat=2, expand_ratio=6, strides=(2, 2), se_ratio=0.25, id_skip=True, fused_conv=False, conv_type='depthwise'), BlockConfig(input_filters=24, output_filters=40, kernel_size=5, num_repeat=2, expand_ratio=6, strides=(2, 2), se_ratio=0.25, id_skip=True, fused_conv=False, conv_type='depthwise'), BlockConfig(input_filters=40, output_filters=80, kernel_size=3, num_repeat=3, expand_ratio=6, strides=(2, 2), se_ratio=0.25, id_skip=True, fused_conv=False, conv_type='depthwise'), BlockConfig(input_filters=80, output_filters=112, kernel_size=5, num_repeat=3, expand_ratio=6, strides=(1, 1), se_ratio=0.25, id_skip=True, fused_conv=False, conv_type='depthwise'), BlockConfig(input_filters=112, output_filters=192, kernel_size=5, num_repeat=4, expand_ratio=6, strides=(2, 2), se_ratio=0.25, id_skip=True, fused_conv=False, conv_type='depthwise'), BlockConfig(input_filters=192, output_filters=320, kernel_size=3, num_repeat=1, expand_ratio=6, strides=(1, 1), se_ratio=0.25, id_skip=True, fused_conv=False, conv_type='depthwise')), stem_base_filters=32, top_base_filters=1280, activation='simple_swish', batch_norm='default', bn_momentum=0.99, bn_epsilon=0.001, weight_decay=5e-06, drop_connect_rate=0.2, depth_divisor=8, min_depth=None, use_se=True, input_channels=3, num_classes=1000, model_name='efficientnet', rescale_input=False, data_format='channels_last', dtype='float32')\n",
      "I0502 02:23:40.373565 140692937602880 ssd_efficientnet_bifpn_feature_extractor.py:145] EfficientDet EfficientNet backbone version: efficientnet-b7\n",
      "I0502 02:23:40.373874 140692937602880 ssd_efficientnet_bifpn_feature_extractor.py:147] EfficientDet BiFPN num filters: 384\n",
      "I0502 02:23:40.374024 140692937602880 ssd_efficientnet_bifpn_feature_extractor.py:148] EfficientDet BiFPN num iterations: 8\n",
      "I0502 02:23:40.377547 140692937602880 efficientnet_model.py:144] round_filter input=32 output=64\n",
      "I0502 02:23:40.411044 140692937602880 efficientnet_model.py:144] round_filter input=32 output=64\n",
      "I0502 02:23:40.411322 140692937602880 efficientnet_model.py:144] round_filter input=16 output=32\n",
      "I0502 02:23:40.834421 140692937602880 efficientnet_model.py:144] round_filter input=16 output=32\n",
      "I0502 02:23:40.834651 140692937602880 efficientnet_model.py:144] round_filter input=24 output=48\n",
      "I0502 02:23:41.705636 140692937602880 efficientnet_model.py:144] round_filter input=24 output=48\n",
      "I0502 02:23:41.705844 140692937602880 efficientnet_model.py:144] round_filter input=40 output=80\n",
      "I0502 02:23:43.039860 140692937602880 efficientnet_model.py:144] round_filter input=40 output=80\n",
      "I0502 02:23:43.040068 140692937602880 efficientnet_model.py:144] round_filter input=80 output=160\n",
      "I0502 02:23:44.174332 140692937602880 efficientnet_model.py:144] round_filter input=80 output=160\n",
      "I0502 02:23:44.174567 140692937602880 efficientnet_model.py:144] round_filter input=112 output=224\n",
      "I0502 02:23:45.357519 140692937602880 efficientnet_model.py:144] round_filter input=112 output=224\n",
      "I0502 02:23:45.357778 140692937602880 efficientnet_model.py:144] round_filter input=192 output=384\n",
      "I0502 02:23:46.997574 140692937602880 efficientnet_model.py:144] round_filter input=192 output=384\n",
      "I0502 02:23:46.997756 140692937602880 efficientnet_model.py:144] round_filter input=320 output=640\n",
      "I0502 02:23:47.448804 140692937602880 efficientnet_model.py:144] round_filter input=1280 output=2560\n",
      "I0502 02:23:47.499295 140692937602880 efficientnet_model.py:454] Building model efficientnet with params ModelConfig(width_coefficient=2.0, depth_coefficient=3.1, resolution=600, dropout_rate=0.5, blocks=(BlockConfig(input_filters=32, output_filters=16, kernel_size=3, num_repeat=1, expand_ratio=1, strides=(1, 1), se_ratio=0.25, id_skip=True, fused_conv=False, conv_type='depthwise'), BlockConfig(input_filters=16, output_filters=24, kernel_size=3, num_repeat=2, expand_ratio=6, strides=(2, 2), se_ratio=0.25, id_skip=True, fused_conv=False, conv_type='depthwise'), BlockConfig(input_filters=24, output_filters=40, kernel_size=5, num_repeat=2, expand_ratio=6, strides=(2, 2), se_ratio=0.25, id_skip=True, fused_conv=False, conv_type='depthwise'), BlockConfig(input_filters=40, output_filters=80, kernel_size=3, num_repeat=3, expand_ratio=6, strides=(2, 2), se_ratio=0.25, id_skip=True, fused_conv=False, conv_type='depthwise'), BlockConfig(input_filters=80, output_filters=112, kernel_size=5, num_repeat=3, expand_ratio=6, strides=(1, 1), se_ratio=0.25, id_skip=True, fused_conv=False, conv_type='depthwise'), BlockConfig(input_filters=112, output_filters=192, kernel_size=5, num_repeat=4, expand_ratio=6, strides=(2, 2), se_ratio=0.25, id_skip=True, fused_conv=False, conv_type='depthwise'), BlockConfig(input_filters=192, output_filters=320, kernel_size=3, num_repeat=1, expand_ratio=6, strides=(1, 1), se_ratio=0.25, id_skip=True, fused_conv=False, conv_type='depthwise')), stem_base_filters=32, top_base_filters=1280, activation='simple_swish', batch_norm='default', bn_momentum=0.99, bn_epsilon=0.001, weight_decay=5e-06, drop_connect_rate=0.2, depth_divisor=8, min_depth=None, use_se=True, input_channels=3, num_classes=1000, model_name='efficientnet', rescale_input=False, data_format='channels_last', dtype='float32')\n",
      "INFO:tensorflow:time(__main__.ModelBuilderTF2Test.test_create_ssd_models_from_config): 34.32s\n",
      "I0502 02:23:47.670875 140692937602880 test_util.py:2373] time(__main__.ModelBuilderTF2Test.test_create_ssd_models_from_config): 34.32s\n",
      "[       OK ] ModelBuilderTF2Test.test_create_ssd_models_from_config\n",
      "[ RUN      ] ModelBuilderTF2Test.test_invalid_faster_rcnn_batchnorm_update\n",
      "INFO:tensorflow:time(__main__.ModelBuilderTF2Test.test_invalid_faster_rcnn_batchnorm_update): 0.01s\n",
      "I0502 02:23:47.694660 140692937602880 test_util.py:2373] time(__main__.ModelBuilderTF2Test.test_invalid_faster_rcnn_batchnorm_update): 0.01s\n",
      "[       OK ] ModelBuilderTF2Test.test_invalid_faster_rcnn_batchnorm_update\n",
      "[ RUN      ] ModelBuilderTF2Test.test_invalid_first_stage_nms_iou_threshold\n",
      "INFO:tensorflow:time(__main__.ModelBuilderTF2Test.test_invalid_first_stage_nms_iou_threshold): 0.0s\n",
      "I0502 02:23:47.696822 140692937602880 test_util.py:2373] time(__main__.ModelBuilderTF2Test.test_invalid_first_stage_nms_iou_threshold): 0.0s\n",
      "[       OK ] ModelBuilderTF2Test.test_invalid_first_stage_nms_iou_threshold\n",
      "[ RUN      ] ModelBuilderTF2Test.test_invalid_model_config_proto\n",
      "INFO:tensorflow:time(__main__.ModelBuilderTF2Test.test_invalid_model_config_proto): 0.0s\n",
      "I0502 02:23:47.697314 140692937602880 test_util.py:2373] time(__main__.ModelBuilderTF2Test.test_invalid_model_config_proto): 0.0s\n",
      "[       OK ] ModelBuilderTF2Test.test_invalid_model_config_proto\n",
      "[ RUN      ] ModelBuilderTF2Test.test_invalid_second_stage_batch_size\n",
      "INFO:tensorflow:time(__main__.ModelBuilderTF2Test.test_invalid_second_stage_batch_size): 0.0s\n",
      "I0502 02:23:47.699964 140692937602880 test_util.py:2373] time(__main__.ModelBuilderTF2Test.test_invalid_second_stage_batch_size): 0.0s\n",
      "[       OK ] ModelBuilderTF2Test.test_invalid_second_stage_batch_size\n",
      "[ RUN      ] ModelBuilderTF2Test.test_session\n",
      "[  SKIPPED ] ModelBuilderTF2Test.test_session\n",
      "[ RUN      ] ModelBuilderTF2Test.test_unknown_faster_rcnn_feature_extractor\n",
      "INFO:tensorflow:time(__main__.ModelBuilderTF2Test.test_unknown_faster_rcnn_feature_extractor): 0.0s\n",
      "I0502 02:23:47.701967 140692937602880 test_util.py:2373] time(__main__.ModelBuilderTF2Test.test_unknown_faster_rcnn_feature_extractor): 0.0s\n",
      "[       OK ] ModelBuilderTF2Test.test_unknown_faster_rcnn_feature_extractor\n",
      "[ RUN      ] ModelBuilderTF2Test.test_unknown_meta_architecture\n",
      "INFO:tensorflow:time(__main__.ModelBuilderTF2Test.test_unknown_meta_architecture): 0.0s\n",
      "I0502 02:23:47.702415 140692937602880 test_util.py:2373] time(__main__.ModelBuilderTF2Test.test_unknown_meta_architecture): 0.0s\n",
      "[       OK ] ModelBuilderTF2Test.test_unknown_meta_architecture\n",
      "[ RUN      ] ModelBuilderTF2Test.test_unknown_ssd_feature_extractor\n",
      "INFO:tensorflow:time(__main__.ModelBuilderTF2Test.test_unknown_ssd_feature_extractor): 0.0s\n",
      "I0502 02:23:47.703678 140692937602880 test_util.py:2373] time(__main__.ModelBuilderTF2Test.test_unknown_ssd_feature_extractor): 0.0s\n",
      "[       OK ] ModelBuilderTF2Test.test_unknown_ssd_feature_extractor\n",
      "----------------------------------------------------------------------\n",
      "Ran 24 tests in 42.854s\n",
      "\n",
      "OK (skipped=1)\n"
     ]
    }
   ],
   "source": [
    "VERIFICATION_SCRIPT = os.path.join(paths['APIMODEL_PATH'], 'research', 'object_detection', 'builders', 'model_builder_tf2_test.py')\n",
    "# Verify Installation\n",
    "!python3 {VERIFICATION_SCRIPT}"
   ]
  },
  {
   "cell_type": "code",
   "execution_count": 12,
   "metadata": {},
   "outputs": [
    {
     "name": "stdout",
     "output_type": "stream",
     "text": [
      "Defaulting to user installation because normal site-packages is not writeable\n",
      "Requirement already satisfied: tensorflow in /home/paperspace/.local/lib/python3.8/site-packages (2.8.0)\n",
      "Requirement already satisfied: tensorflow-gpu in /home/paperspace/.local/lib/python3.8/site-packages (2.8.0)\n",
      "Requirement already satisfied: termcolor>=1.1.0 in /home/paperspace/.local/lib/python3.8/site-packages (from tensorflow) (1.1.0)\n",
      "Requirement already satisfied: flatbuffers>=1.12 in /home/paperspace/.local/lib/python3.8/site-packages (from tensorflow) (1.12)\n",
      "Requirement already satisfied: opt-einsum>=2.3.2 in /home/paperspace/.local/lib/python3.8/site-packages (from tensorflow) (3.3.0)\n",
      "Requirement already satisfied: google-pasta>=0.1.1 in /home/paperspace/.local/lib/python3.8/site-packages (from tensorflow) (0.2.0)\n",
      "Requirement already satisfied: six>=1.12.0 in /home/paperspace/.local/lib/python3.8/site-packages (from tensorflow) (1.15.0)\n",
      "Requirement already satisfied: numpy>=1.20 in /home/paperspace/.local/lib/python3.8/site-packages (from tensorflow) (1.21.6)\n",
      "Requirement already satisfied: setuptools in /usr/lib/python3/dist-packages (from tensorflow) (45.2.0)\n",
      "Requirement already satisfied: wrapt>=1.11.0 in /home/paperspace/.local/lib/python3.8/site-packages (from tensorflow) (1.12.1)\n",
      "Requirement already satisfied: tensorboard<2.9,>=2.8 in /home/paperspace/.local/lib/python3.8/site-packages (from tensorflow) (2.8.0)\n",
      "Requirement already satisfied: typing-extensions>=3.6.6 in /home/paperspace/.local/lib/python3.8/site-packages (from tensorflow) (3.7.4.3)\n",
      "Requirement already satisfied: keras-preprocessing>=1.1.1 in /home/paperspace/.local/lib/python3.8/site-packages (from tensorflow) (1.1.2)\n",
      "Requirement already satisfied: gast>=0.2.1 in /home/paperspace/.local/lib/python3.8/site-packages (from tensorflow) (0.4.0)\n",
      "Requirement already satisfied: absl-py>=0.4.0 in /home/paperspace/.local/lib/python3.8/site-packages (from tensorflow) (0.15.0)\n",
      "Requirement already satisfied: keras<2.9,>=2.8.0rc0 in /home/paperspace/.local/lib/python3.8/site-packages (from tensorflow) (2.8.0)\n",
      "Requirement already satisfied: tf-estimator-nightly==2.8.0.dev2021122109 in /home/paperspace/.local/lib/python3.8/site-packages (from tensorflow) (2.8.0.dev2021122109)\n",
      "Requirement already satisfied: libclang>=9.0.1 in /home/paperspace/.local/lib/python3.8/site-packages (from tensorflow) (13.0.0)\n",
      "Requirement already satisfied: astunparse>=1.6.0 in /home/paperspace/.local/lib/python3.8/site-packages (from tensorflow) (1.6.3)\n",
      "Requirement already satisfied: grpcio<2.0,>=1.24.3 in /home/paperspace/.local/lib/python3.8/site-packages (from tensorflow) (1.34.1)\n",
      "Requirement already satisfied: tensorflow-io-gcs-filesystem>=0.23.1 in /home/paperspace/.local/lib/python3.8/site-packages (from tensorflow) (0.24.0)\n",
      "Requirement already satisfied: h5py>=2.9.0 in /home/paperspace/.local/lib/python3.8/site-packages (from tensorflow) (3.1.0)\n",
      "Requirement already satisfied: protobuf>=3.9.2 in /home/paperspace/.local/lib/python3.8/site-packages (from tensorflow) (3.19.4)\n",
      "Requirement already satisfied: wheel<1.0,>=0.23.0 in /home/paperspace/.local/lib/python3.8/site-packages (from astunparse>=1.6.0->tensorflow) (0.37.1)\n",
      "Requirement already satisfied: google-auth<3,>=1.6.3 in /home/paperspace/.local/lib/python3.8/site-packages (from tensorboard<2.9,>=2.8->tensorflow) (2.6.0)\n",
      "Requirement already satisfied: markdown>=2.6.8 in /home/paperspace/.local/lib/python3.8/site-packages (from tensorboard<2.9,>=2.8->tensorflow) (3.3.6)\n",
      "Requirement already satisfied: werkzeug>=0.11.15 in /home/paperspace/.local/lib/python3.8/site-packages (from tensorboard<2.9,>=2.8->tensorflow) (2.0.3)\n",
      "Requirement already satisfied: requests<3,>=2.21.0 in /home/paperspace/.local/lib/python3.8/site-packages (from tensorboard<2.9,>=2.8->tensorflow) (2.27.1)\n",
      "Requirement already satisfied: tensorboard-data-server<0.7.0,>=0.6.0 in /home/paperspace/.local/lib/python3.8/site-packages (from tensorboard<2.9,>=2.8->tensorflow) (0.6.1)\n",
      "Requirement already satisfied: tensorboard-plugin-wit>=1.6.0 in /home/paperspace/.local/lib/python3.8/site-packages (from tensorboard<2.9,>=2.8->tensorflow) (1.8.1)\n",
      "Requirement already satisfied: google-auth-oauthlib<0.5,>=0.4.1 in /home/paperspace/.local/lib/python3.8/site-packages (from tensorboard<2.9,>=2.8->tensorflow) (0.4.6)\n",
      "Requirement already satisfied: pyasn1-modules>=0.2.1 in /usr/lib/python3/dist-packages (from google-auth<3,>=1.6.3->tensorboard<2.9,>=2.8->tensorflow) (0.2.1)\n",
      "Requirement already satisfied: cachetools<6.0,>=2.0.0 in /home/paperspace/.local/lib/python3.8/site-packages (from google-auth<3,>=1.6.3->tensorboard<2.9,>=2.8->tensorflow) (5.0.0)\n",
      "Requirement already satisfied: rsa<5,>=3.1.4 in /home/paperspace/.local/lib/python3.8/site-packages (from google-auth<3,>=1.6.3->tensorboard<2.9,>=2.8->tensorflow) (4.8)\n",
      "Requirement already satisfied: requests-oauthlib>=0.7.0 in /home/paperspace/.local/lib/python3.8/site-packages (from google-auth-oauthlib<0.5,>=0.4.1->tensorboard<2.9,>=2.8->tensorflow) (1.3.1)\n",
      "Requirement already satisfied: importlib-metadata>=4.4 in /home/paperspace/.local/lib/python3.8/site-packages (from markdown>=2.6.8->tensorboard<2.9,>=2.8->tensorflow) (4.11.1)\n",
      "Requirement already satisfied: idna<4,>=2.5 in /usr/lib/python3/dist-packages (from requests<3,>=2.21.0->tensorboard<2.9,>=2.8->tensorflow) (2.8)\n",
      "Requirement already satisfied: certifi>=2017.4.17 in /usr/lib/python3/dist-packages (from requests<3,>=2.21.0->tensorboard<2.9,>=2.8->tensorflow) (2019.11.28)\n",
      "Requirement already satisfied: urllib3<1.27,>=1.21.1 in /usr/lib/python3/dist-packages (from requests<3,>=2.21.0->tensorboard<2.9,>=2.8->tensorflow) (1.25.8)\n",
      "Requirement already satisfied: charset-normalizer~=2.0.0 in /home/paperspace/.local/lib/python3.8/site-packages (from requests<3,>=2.21.0->tensorboard<2.9,>=2.8->tensorflow) (2.0.12)\n",
      "Requirement already satisfied: zipp>=0.5 in /home/paperspace/.local/lib/python3.8/site-packages (from importlib-metadata>=4.4->markdown>=2.6.8->tensorboard<2.9,>=2.8->tensorflow) (3.8.0)\n",
      "Requirement already satisfied: oauthlib>=3.0.0 in /usr/lib/python3/dist-packages (from requests-oauthlib>=0.7.0->google-auth-oauthlib<0.5,>=0.4.1->tensorboard<2.9,>=2.8->tensorflow) (3.1.0)\n",
      "Requirement already satisfied: pyasn1>=0.1.3 in /usr/lib/python3/dist-packages (from rsa<5,>=3.1.4->google-auth<3,>=1.6.3->tensorboard<2.9,>=2.8->tensorflow) (0.4.2)\n"
     ]
    }
   ],
   "source": [
    "!pip install tensorflow tensorflow-gpu --upgrade"
   ]
  },
  {
   "cell_type": "code",
   "execution_count": 13,
   "metadata": {
    "collapsed": true
   },
   "outputs": [
    {
     "name": "stdout",
     "output_type": "stream",
     "text": [
      "Found existing installation: protobuf 3.15.7\n",
      "Uninstalling protobuf-3.15.7:\n",
      "  Successfully uninstalled protobuf-3.15.7\n",
      "Found existing installation: matplotlib 3.4.1\n",
      "Uninstalling matplotlib-3.4.1:\n",
      "  Successfully uninstalled matplotlib-3.4.1\n",
      "Collecting protobuf"
     ]
    },
    {
     "name": "stderr",
     "output_type": "stream",
     "text": [
      "ERROR: pip's dependency resolver does not currently take into account all the packages that are installed. This behaviour is the source of the following dependency conflicts.\n",
      "apache-beam 2.28.0 requires crcmod<2.0,>=1.7, which is not installed.\n",
      "apache-beam 2.28.0 requires dill<0.3.2,>=0.3.1.1, which is not installed.\n",
      "apache-beam 2.28.0 requires fastavro<2,>=0.21.4, which is not installed.\n",
      "apache-beam 2.28.0 requires future<1.0.0,>=0.18.2, which is not installed.\n",
      "apache-beam 2.28.0 requires grpcio<2,>=1.29.0, which is not installed.\n",
      "apache-beam 2.28.0 requires hdfs<3.0.0,>=2.1.0, which is not installed.\n",
      "apache-beam 2.28.0 requires httplib2<0.18.0,>=0.8, which is not installed.\n",
      "apache-beam 2.28.0 requires mock<3.0.0,>=1.0.1, which is not installed.\n",
      "tensorflow 2.5.0rc0 requires astunparse~=1.6.3, which is not installed.\n",
      "tensorflow 2.5.0rc0 requires flatbuffers~=1.12.0, which is not installed.\n",
      "tensorflow 2.5.0rc0 requires gast==0.4.0, which is not installed.\n",
      "tensorflow 2.5.0rc0 requires google-pasta~=0.2, which is not installed.\n",
      "tensorflow 2.5.0rc0 requires grpcio~=1.34.0, which is not installed.\n",
      "tensorflow 2.5.0rc0 requires h5py~=3.1.0, which is not installed.\n",
      "tensorflow 2.5.0rc0 requires keras-nightly~=2.5.0.dev, which is not installed.\n",
      "tensorflow 2.5.0rc0 requires keras-preprocessing~=1.1.2, which is not installed.\n",
      "tensorflow 2.5.0rc0 requires opt-einsum~=3.3.0, which is not installed.\n",
      "tensorflow 2.5.0rc0 requires tensorboard~=2.4, which is not installed.\n",
      "tensorflow 2.5.0rc0 requires termcolor~=1.1.0, which is not installed.\n",
      "tensorflow 2.5.0rc0 requires tf-estimator-nightly==2.5.0.dev2021032501, which is not installed.\n",
      "tensorflow 2.5.0rc0 requires wrapt~=1.12.1, which is not installed.\n",
      "tensorflow-datasets 4.2.0 requires attrs>=18.1.0, which is not installed.\n",
      "tensorflow-datasets 4.2.0 requires dill, which is not installed.\n",
      "tensorflow-datasets 4.2.0 requires future, which is not installed.\n",
      "tensorflow-datasets 4.2.0 requires importlib-resources, which is not installed.\n",
      "tensorflow-datasets 4.2.0 requires promise, which is not installed.\n",
      "tensorflow-datasets 4.2.0 requires tensorflow-metadata, which is not installed.\n",
      "tensorflow-datasets 4.2.0 requires termcolor, which is not installed.\n",
      "tensorflow-datasets 4.2.0 requires tqdm, which is not installed.\n",
      "google-cloud-bigquery 2.13.1 requires google-api-core[grpc]<2.0.0dev,>=1.23.0, which is not installed.\n",
      "google-cloud-bigquery 2.13.1 requires google-cloud-core<2.0dev,>=1.4.1, which is not installed.\n",
      "google-cloud-bigquery 2.13.1 requires google-resumable-media<2.0dev,>=0.6.0, which is not installed.\n",
      "google-cloud-bigquery 2.13.1 requires packaging>=14.3, which is not installed.\n",
      "google-cloud-bigquery 2.13.1 requires proto-plus>=1.10.0, which is not installed.\n",
      "apache-beam 2.28.0 requires avro-python3!=1.9.2,<1.10.0,>=1.8.1, but you have avro-python3 1.10.2 which is incompatible.\n"
     ]
    },
    {
     "name": "stdout",
     "output_type": "stream",
     "text": [
      "\n",
      "  Downloading protobuf-3.15.7-cp37-cp37m-win_amd64.whl (904 kB)\n",
      "Collecting matplotlib==3.2\n",
      "  Using cached matplotlib-3.2.0-cp37-cp37m-win_amd64.whl (9.2 MB)\n",
      "Requirement already satisfied: cycler>=0.10 in d:\\youtube\\od\\tfodcourse\\tfod\\lib\\site-packages\\cycler-0.10.0-py3.7.egg (from matplotlib==3.2) (0.10.0)\n",
      "Requirement already satisfied: kiwisolver>=1.0.1 in d:\\youtube\\od\\tfodcourse\\tfod\\lib\\site-packages\\kiwisolver-1.3.1-py3.7-win-amd64.egg (from matplotlib==3.2) (1.3.1)\n",
      "Requirement already satisfied: python-dateutil>=2.1 in d:\\youtube\\od\\tfodcourse\\tfod\\lib\\site-packages (from matplotlib==3.2) (2.8.1)\n",
      "Requirement already satisfied: pyparsing!=2.0.4,!=2.1.2,!=2.1.6,>=2.0.1 in d:\\youtube\\od\\tfodcourse\\tfod\\lib\\site-packages\\pyparsing-3.0.0b2-py3.7.egg (from matplotlib==3.2) (3.0.0b2)\n",
      "Requirement already satisfied: numpy>=1.11 in d:\\youtube\\od\\tfodcourse\\tfod\\lib\\site-packages (from matplotlib==3.2) (1.19.5)\n",
      "Requirement already satisfied: six in d:\\youtube\\od\\tfodcourse\\tfod\\lib\\site-packages (from cycler>=0.10->matplotlib==3.2) (1.15.0)\n",
      "Installing collected packages: protobuf, matplotlib\n",
      "Successfully installed matplotlib-3.2.0 protobuf-3.15.7\n"
     ]
    }
   ],
   "source": [
    "!pip uninstall protobuf matplotlib -y\n",
    "!pip install protobuf matplotlib==3.2"
   ]
  },
  {
   "cell_type": "code",
   "execution_count": 6,
   "metadata": {},
   "outputs": [],
   "source": [
    "import object_detection"
   ]
  },
  {
   "cell_type": "code",
   "execution_count": 18,
   "metadata": {
    "scrolled": true
   },
   "outputs": [
    {
     "name": "stdout",
     "output_type": "stream",
     "text": [
      "Package                       Version             Location\n",
      "----------------------------- ------------------- --------------------------------------------------------\n",
      "absl-py                       0.12.0\n",
      "apache-beam                   2.28.0\n",
      "astunparse                    1.6.3\n",
      "avro-python3                  1.10.2\n",
      "backcall                      0.2.0\n",
      "cached-property               1.5.2\n",
      "cachetools                    4.2.1\n",
      "certifi                       2020.12.5\n",
      "chardet                       4.0.0\n",
      "colorama                      0.4.4\n",
      "contextlib2                   0.6.0.post1\n",
      "cycler                        0.10.0\n",
      "cython                        3.0a6\n",
      "dataclasses                   0.8\n",
      "decorator                     5.0.3\n",
      "flatbuffers                   1.12\n",
      "gast                          0.4.0\n",
      "gin-config                    0.4.0\n",
      "google-api-python-client      2.1.0\n",
      "google-auth                   1.28.0\n",
      "google-auth-oauthlib          0.4.4\n",
      "google-cloud-bigquery         2.13.1\n",
      "google-pasta                  0.2.0\n",
      "grpcio                        1.34.1\n",
      "h5py                          3.1.0\n",
      "idna                          2.10\n",
      "importlib-metadata            3.10.0\n",
      "ipykernel                     5.5.3\n",
      "ipython                       7.22.0\n",
      "ipython-genutils              0.2.0\n",
      "jedi                          0.18.0\n",
      "jupyter-client                6.1.12\n",
      "jupyter-core                  4.7.1\n",
      "kaggle                        1.5.12\n",
      "keras-nightly                 2.5.0.dev2021032900\n",
      "Keras-Preprocessing           1.1.2\n",
      "kiwisolver                    1.3.1\n",
      "lvis                          0.5.3\n",
      "lxml                          4.6.3\n",
      "Markdown                      3.3.4\n",
      "matplotlib                    3.2.0\n",
      "numpy                         1.19.5\n",
      "oauth2client                  4.1.3\n",
      "oauthlib                      3.1.0\n",
      "object-detection              0.1\n",
      "opencv-python                 4.5.1.48\n",
      "opencv-python-headless        4.5.1.48\n",
      "opt-einsum                    3.3.0\n",
      "pandas                        1.2.3\n",
      "parso                         0.8.2\n",
      "pickleshare                   0.7.5\n",
      "pillow                        8.2.0\n",
      "pip                           21.0.1\n",
      "prompt-toolkit                3.0.18\n",
      "protobuf                      3.15.7\n",
      "psutil                        5.8.0\n",
      "py-cpuinfo                    7.0.0\n",
      "pyarrow                       2.0.0\n",
      "pyasn1                        0.4.8\n",
      "pyasn1-modules                0.2.8\n",
      "pycocotools                   2.0.2\n",
      "pydot                         1.4.2\n",
      "Pygments                      2.8.1\n",
      "pymongo                       3.11.3\n",
      "pyparsing                     3.0.0b2\n",
      "PyQt5                         5.15.4\n",
      "PyQt5-Qt5                     5.15.2\n",
      "PyQt5-sip                     12.8.1\n",
      "python-dateutil               2.8.1\n",
      "pytz                          2021.1\n",
      "pywin32                       300\n",
      "pyyaml                        5.4.1\n",
      "pyzmq                         22.0.3\n",
      "requests                      2.25.1\n",
      "requests-oauthlib             1.3.0\n",
      "rsa                           4.7.2\n",
      "scipy                         1.6.2\n",
      "sentencepiece                 0.1.95\n",
      "seqeval                       1.2.2\n",
      "setuptools                    54.2.0\n",
      "six                           1.15.0\n",
      "slim                          0.1                 d:\\youtube\\od\\tfodcourse\\tensorflow\\models\\research\\slim\n",
      "tensorboard                   2.4.1\n",
      "tensorboard-plugin-wit        1.8.0\n",
      "tensorflow                    2.5.0rc0\n",
      "tensorflow-addons             0.12.1\n",
      "tensorflow-datasets           4.2.0\n",
      "tensorflow-hub                0.11.0\n",
      "tensorflow-model-optimization 0.5.0\n",
      "termcolor                     1.1.0\n",
      "tf-estimator-nightly          2.5.0.dev2021032501\n",
      "tf-models-official            2.4.0\n",
      "tf-slim                       1.1.0\n",
      "tornado                       6.1\n",
      "traitlets                     5.0.5\n",
      "typing-extensions             3.7.4.3\n",
      "urllib3                       1.26.4\n",
      "wcwidth                       0.2.5\n",
      "Werkzeug                      1.0.1\n",
      "wget                          3.2\n",
      "wheel                         0.36.2\n",
      "wrapt                         1.12.1\n",
      "zipp                          3.4.1\n"
     ]
    }
   ],
   "source": [
    "!pip list"
   ]
  },
  {
   "cell_type": "code",
   "execution_count": 14,
   "metadata": {
    "colab": {
     "base_uri": "https://localhost:8080/"
    },
    "id": "csofht2npfDE",
    "outputId": "ff5471b2-bed2-43f2-959c-327a706527b6"
   },
   "outputs": [
    {
     "name": "stdout",
     "output_type": "stream",
     "text": [
      "--2022-05-01 17:00:07--  http://download.tensorflow.org/models/object_detection/tf2/20200711/ssd_mobilenet_v2_fpnlite_320x320_coco17_tpu-8.tar.gz\n",
      "Resolving download.tensorflow.org (download.tensorflow.org)... 172.217.164.176, 2607:f8b0:4004:815::2010\n",
      "Connecting to download.tensorflow.org (download.tensorflow.org)|172.217.164.176|:80... connected.\n",
      "HTTP request sent, awaiting response... 200 OK\n",
      "Length: 20515344 (20M) [application/x-tar]\n",
      "Saving to: ‘ssd_mobilenet_v2_fpnlite_320x320_coco17_tpu-8.tar.gz’\n",
      "\n",
      "ssd_mobilenet_v2_fp 100%[===================>]  19.56M  --.-KB/s    in 0.1s    \n",
      "\n",
      "2022-05-01 17:00:07 (139 MB/s) - ‘ssd_mobilenet_v2_fpnlite_320x320_coco17_tpu-8.tar.gz’ saved [20515344/20515344]\n",
      "\n",
      "ssd_mobilenet_v2_fpnlite_320x320_coco17_tpu-8/\n",
      "ssd_mobilenet_v2_fpnlite_320x320_coco17_tpu-8/checkpoint/\n",
      "ssd_mobilenet_v2_fpnlite_320x320_coco17_tpu-8/checkpoint/ckpt-0.data-00000-of-00001\n",
      "ssd_mobilenet_v2_fpnlite_320x320_coco17_tpu-8/checkpoint/checkpoint\n",
      "ssd_mobilenet_v2_fpnlite_320x320_coco17_tpu-8/checkpoint/ckpt-0.index\n",
      "ssd_mobilenet_v2_fpnlite_320x320_coco17_tpu-8/pipeline.config\n",
      "ssd_mobilenet_v2_fpnlite_320x320_coco17_tpu-8/saved_model/\n",
      "ssd_mobilenet_v2_fpnlite_320x320_coco17_tpu-8/saved_model/saved_model.pb\n",
      "ssd_mobilenet_v2_fpnlite_320x320_coco17_tpu-8/saved_model/variables/\n",
      "ssd_mobilenet_v2_fpnlite_320x320_coco17_tpu-8/saved_model/variables/variables.data-00000-of-00001\n",
      "ssd_mobilenet_v2_fpnlite_320x320_coco17_tpu-8/saved_model/variables/variables.index\n"
     ]
    }
   ],
   "source": [
    "if os.name =='posix':\n",
    "    !wget {PRETRAINED_MODEL_URL}\n",
    "    !mv {PRETRAINED_MODEL_NAME+'.tar.gz'} {paths['PRETRAINED_MODEL_PATH']}\n",
    "    !cd {paths['PRETRAINED_MODEL_PATH']} && tar -zxvf {PRETRAINED_MODEL_NAME+'.tar.gz'}\n",
    "if os.name == 'nt':\n",
    "    wget.download(PRETRAINED_MODEL_URL)\n",
    "    !move {PRETRAINED_MODEL_NAME+'.tar.gz'} {paths['PRETRAINED_MODEL_PATH']}\n",
    "    !cd {paths['PRETRAINED_MODEL_PATH']} && tar -zxvf {PRETRAINED_MODEL_NAME+'.tar.gz'}"
   ]
  },
  {
   "cell_type": "markdown",
   "metadata": {
    "id": "M5KJTnkfpfDC"
   },
   "source": [
    "# 2. Create Label Map"
   ]
  },
  {
   "cell_type": "code",
   "execution_count": 7,
   "metadata": {
    "id": "p1BVDWo7pfDC"
   },
   "outputs": [],
   "source": [
    "labels = [{'name':'licence', 'id':1}]\n",
    "\n",
    "with open(files['LABELMAP'], 'w') as f:\n",
    "    for label in labels:\n",
    "        f.write('item { \\n')\n",
    "        f.write('\\tname:\\'{}\\'\\n'.format(label['name']))\n",
    "        f.write('\\tid:{}\\n'.format(label['id']))\n",
    "        f.write('}\\n')"
   ]
  },
  {
   "cell_type": "markdown",
   "metadata": {
    "id": "C88zyVELpfDC"
   },
   "source": [
    "# 3. Create TF records"
   ]
  },
  {
   "cell_type": "code",
   "execution_count": null,
   "metadata": {
    "colab": {
     "base_uri": "https://localhost:8080/"
    },
    "id": "kvf5WccwrFGq",
    "outputId": "49902aeb-0bd7-4298-e1a0-5b4a64eb2064"
   },
   "outputs": [],
   "source": [
    "# OPTIONAL IF RUNNING ON COLAB\n",
    "ARCHIVE_FILES = os.path.join(paths['IMAGE_PATH'], 'archive.tar.gz')\n",
    "if os.path.exists(ARCHIVE_FILES):\n",
    "  !tar -zxvf {ARCHIVE_FILES}"
   ]
  },
  {
   "cell_type": "code",
   "execution_count": 16,
   "metadata": {
    "colab": {
     "base_uri": "https://localhost:8080/"
    },
    "id": "KWpb_BVUpfDD",
    "outputId": "56ce2a3f-3933-4ee6-8a9d-d5ec65f7d73c"
   },
   "outputs": [
    {
     "name": "stdout",
     "output_type": "stream",
     "text": [
      "Cloning into 'Tensorflow/scripts'...\n",
      "remote: Enumerating objects: 3, done.\u001b[K\n",
      "remote: Counting objects: 100% (3/3), done.\u001b[K\n",
      "remote: Compressing objects: 100% (2/2), done.\u001b[K\n",
      "remote: Total 3 (delta 0), reused 1 (delta 0), pack-reused 0\u001b[K\n",
      "Unpacking objects: 100% (3/3), 2.67 KiB | 2.67 MiB/s, done.\n"
     ]
    }
   ],
   "source": [
    "if not os.path.exists(files['TF_RECORD_SCRIPT']):\n",
    "    !git clone https://github.com/nicknochnack/GenerateTFRecord {paths['SCRIPTS_PATH']}"
   ]
  },
  {
   "cell_type": "code",
   "execution_count": 17,
   "metadata": {},
   "outputs": [
    {
     "data": {
      "text/plain": [
       "'Tensorflow/scripts/generate_tfrecord.py'"
      ]
     },
     "execution_count": 17,
     "metadata": {},
     "output_type": "execute_result"
    }
   ],
   "source": [
    "files['TF_RECORD_SCRIPT']"
   ]
  },
  {
   "cell_type": "code",
   "execution_count": 18,
   "metadata": {
    "colab": {
     "base_uri": "https://localhost:8080/"
    },
    "id": "UPFToGZqpfDD",
    "outputId": "0ebb456f-aadc-4a1f-96e6-fbfec1923e1c"
   },
   "outputs": [
    {
     "name": "stdout",
     "output_type": "stream",
     "text": [
      "Successfully created the TFRecord file: Tensorflow/workspace/annotations/train.record\n",
      "Successfully created the TFRecord file: Tensorflow/workspace/annotations/test.record\n"
     ]
    }
   ],
   "source": [
    "!python3 {files['TF_RECORD_SCRIPT']} -x {os.path.join(paths['IMAGE_PATH'], 'train')} -l {files['LABELMAP']} -o {os.path.join(paths['ANNOTATION_PATH'], 'train.record')} \n",
    "!python3 {files['TF_RECORD_SCRIPT']} -x {os.path.join(paths['IMAGE_PATH'], 'test')} -l {files['LABELMAP']} -o {os.path.join(paths['ANNOTATION_PATH'], 'test.record')} "
   ]
  },
  {
   "cell_type": "markdown",
   "metadata": {
    "id": "qT4QU7pLpfDE"
   },
   "source": [
    "# 4. Copy Model Config to Training Folder"
   ]
  },
  {
   "cell_type": "code",
   "execution_count": 19,
   "metadata": {
    "id": "cOjuTFbwpfDF"
   },
   "outputs": [],
   "source": [
    "if os.name =='posix':\n",
    "    !cp {os.path.join(paths['PRETRAINED_MODEL_PATH'], PRETRAINED_MODEL_NAME, 'pipeline.config')} {os.path.join(paths['CHECKPOINT_PATH'])}\n",
    "if os.name == 'nt':\n",
    "    !copy {os.path.join(paths['PRETRAINED_MODEL_PATH'], PRETRAINED_MODEL_NAME, 'pipeline.config')} {os.path.join(paths['CHECKPOINT_PATH'])}"
   ]
  },
  {
   "cell_type": "markdown",
   "metadata": {
    "id": "Ga8gpNslpfDF"
   },
   "source": [
    "# 5. Update Config For Transfer Learning"
   ]
  },
  {
   "cell_type": "code",
   "execution_count": 8,
   "metadata": {
    "id": "Z9hRrO_ppfDF"
   },
   "outputs": [],
   "source": [
    "import tensorflow as tf\n",
    "from object_detection.utils import config_util\n",
    "from object_detection.protos import pipeline_pb2\n",
    "from google.protobuf import text_format"
   ]
  },
  {
   "cell_type": "code",
   "execution_count": 9,
   "metadata": {
    "id": "c2A0mn4ipfDF"
   },
   "outputs": [],
   "source": [
    "config = config_util.get_configs_from_pipeline_file(files['PIPELINE_CONFIG'])"
   ]
  },
  {
   "cell_type": "code",
   "execution_count": 10,
   "metadata": {
    "colab": {
     "base_uri": "https://localhost:8080/"
    },
    "id": "uQA13-afpfDF",
    "outputId": "907496a4-a39d-4b13-8c2c-e5978ecb1f10"
   },
   "outputs": [
    {
     "data": {
      "text/plain": [
       "{'model': ssd {\n",
       "   num_classes: 1\n",
       "   image_resizer {\n",
       "     fixed_shape_resizer {\n",
       "       height: 320\n",
       "       width: 320\n",
       "     }\n",
       "   }\n",
       "   feature_extractor {\n",
       "     type: \"ssd_mobilenet_v2_fpn_keras\"\n",
       "     depth_multiplier: 1.0\n",
       "     min_depth: 16\n",
       "     conv_hyperparams {\n",
       "       regularizer {\n",
       "         l2_regularizer {\n",
       "           weight: 3.9999998989515007e-05\n",
       "         }\n",
       "       }\n",
       "       initializer {\n",
       "         random_normal_initializer {\n",
       "           mean: 0.0\n",
       "           stddev: 0.009999999776482582\n",
       "         }\n",
       "       }\n",
       "       activation: RELU_6\n",
       "       batch_norm {\n",
       "         decay: 0.996999979019165\n",
       "         scale: true\n",
       "         epsilon: 0.0010000000474974513\n",
       "       }\n",
       "     }\n",
       "     use_depthwise: true\n",
       "     override_base_feature_extractor_hyperparams: true\n",
       "     fpn {\n",
       "       min_level: 3\n",
       "       max_level: 7\n",
       "       additional_layer_depth: 128\n",
       "     }\n",
       "   }\n",
       "   box_coder {\n",
       "     faster_rcnn_box_coder {\n",
       "       y_scale: 10.0\n",
       "       x_scale: 10.0\n",
       "       height_scale: 5.0\n",
       "       width_scale: 5.0\n",
       "     }\n",
       "   }\n",
       "   matcher {\n",
       "     argmax_matcher {\n",
       "       matched_threshold: 0.5\n",
       "       unmatched_threshold: 0.5\n",
       "       ignore_thresholds: false\n",
       "       negatives_lower_than_unmatched: true\n",
       "       force_match_for_each_row: true\n",
       "       use_matmul_gather: true\n",
       "     }\n",
       "   }\n",
       "   similarity_calculator {\n",
       "     iou_similarity {\n",
       "     }\n",
       "   }\n",
       "   box_predictor {\n",
       "     weight_shared_convolutional_box_predictor {\n",
       "       conv_hyperparams {\n",
       "         regularizer {\n",
       "           l2_regularizer {\n",
       "             weight: 3.9999998989515007e-05\n",
       "           }\n",
       "         }\n",
       "         initializer {\n",
       "           random_normal_initializer {\n",
       "             mean: 0.0\n",
       "             stddev: 0.009999999776482582\n",
       "           }\n",
       "         }\n",
       "         activation: RELU_6\n",
       "         batch_norm {\n",
       "           decay: 0.996999979019165\n",
       "           scale: true\n",
       "           epsilon: 0.0010000000474974513\n",
       "         }\n",
       "       }\n",
       "       depth: 128\n",
       "       num_layers_before_predictor: 4\n",
       "       kernel_size: 3\n",
       "       class_prediction_bias_init: -4.599999904632568\n",
       "       share_prediction_tower: true\n",
       "       use_depthwise: true\n",
       "     }\n",
       "   }\n",
       "   anchor_generator {\n",
       "     multiscale_anchor_generator {\n",
       "       min_level: 3\n",
       "       max_level: 7\n",
       "       anchor_scale: 4.0\n",
       "       aspect_ratios: 1.0\n",
       "       aspect_ratios: 2.0\n",
       "       aspect_ratios: 0.5\n",
       "       scales_per_octave: 2\n",
       "     }\n",
       "   }\n",
       "   post_processing {\n",
       "     batch_non_max_suppression {\n",
       "       score_threshold: 9.99999993922529e-09\n",
       "       iou_threshold: 0.6000000238418579\n",
       "       max_detections_per_class: 100\n",
       "       max_total_detections: 100\n",
       "       use_static_shapes: false\n",
       "     }\n",
       "     score_converter: SIGMOID\n",
       "   }\n",
       "   normalize_loss_by_num_matches: true\n",
       "   loss {\n",
       "     localization_loss {\n",
       "       weighted_smooth_l1 {\n",
       "       }\n",
       "     }\n",
       "     classification_loss {\n",
       "       weighted_sigmoid_focal {\n",
       "         gamma: 2.0\n",
       "         alpha: 0.25\n",
       "       }\n",
       "     }\n",
       "     classification_weight: 1.0\n",
       "     localization_weight: 1.0\n",
       "   }\n",
       "   encode_background_as_zeros: true\n",
       "   normalize_loc_loss_by_codesize: true\n",
       "   inplace_batchnorm_update: true\n",
       "   freeze_batchnorm: false\n",
       " },\n",
       " 'train_config': batch_size: 4\n",
       " data_augmentation_options {\n",
       "   random_horizontal_flip {\n",
       "   }\n",
       " }\n",
       " data_augmentation_options {\n",
       "   random_crop_image {\n",
       "     min_object_covered: 0.0\n",
       "     min_aspect_ratio: 0.75\n",
       "     max_aspect_ratio: 3.0\n",
       "     min_area: 0.75\n",
       "     max_area: 1.0\n",
       "     overlap_thresh: 0.0\n",
       "   }\n",
       " }\n",
       " sync_replicas: true\n",
       " optimizer {\n",
       "   momentum_optimizer {\n",
       "     learning_rate {\n",
       "       cosine_decay_learning_rate {\n",
       "         learning_rate_base: 0.07999999821186066\n",
       "         total_steps: 50000\n",
       "         warmup_learning_rate: 0.026666000485420227\n",
       "         warmup_steps: 1000\n",
       "       }\n",
       "     }\n",
       "     momentum_optimizer_value: 0.8999999761581421\n",
       "   }\n",
       "   use_moving_average: false\n",
       " }\n",
       " fine_tune_checkpoint: \"Tensorflow/workspace/pre-trained-models/ssd_mobilenet_v2_fpnlite_320x320_coco17_tpu-8/checkpoint/ckpt-0\"\n",
       " num_steps: 50000\n",
       " startup_delay_steps: 0.0\n",
       " replicas_to_aggregate: 8\n",
       " max_number_of_boxes: 100\n",
       " unpad_groundtruth_tensors: false\n",
       " fine_tune_checkpoint_type: \"detection\"\n",
       " fine_tune_checkpoint_version: V2,\n",
       " 'train_input_config': label_map_path: \"Tensorflow/workspace/annotations/label_map.pbtxt\"\n",
       " tf_record_input_reader {\n",
       "   input_path: \"Tensorflow/workspace/annotations/train.record\"\n",
       " },\n",
       " 'eval_config': metrics_set: \"coco_detection_metrics\"\n",
       " use_moving_averages: false,\n",
       " 'eval_input_configs': [label_map_path: \"Tensorflow/workspace/annotations/label_map.pbtxt\"\n",
       " shuffle: false\n",
       " num_epochs: 1\n",
       " tf_record_input_reader {\n",
       "   input_path: \"Tensorflow/workspace/annotations/test.record\"\n",
       " }\n",
       " ],\n",
       " 'eval_input_config': label_map_path: \"Tensorflow/workspace/annotations/label_map.pbtxt\"\n",
       " shuffle: false\n",
       " num_epochs: 1\n",
       " tf_record_input_reader {\n",
       "   input_path: \"Tensorflow/workspace/annotations/test.record\"\n",
       " }}"
      ]
     },
     "execution_count": 10,
     "metadata": {},
     "output_type": "execute_result"
    }
   ],
   "source": [
    "config"
   ]
  },
  {
   "cell_type": "code",
   "execution_count": 23,
   "metadata": {
    "id": "9vK5lotDpfDF"
   },
   "outputs": [],
   "source": [
    "pipeline_config = pipeline_pb2.TrainEvalPipelineConfig()\n",
    "with tf.io.gfile.GFile(files['PIPELINE_CONFIG'], \"r\") as f:                                                                                                                                                                                                                     \n",
    "    proto_str = f.read()                                                                                                                                                                                                                                          \n",
    "    text_format.Merge(proto_str, pipeline_config)  "
   ]
  },
  {
   "cell_type": "code",
   "execution_count": 24,
   "metadata": {
    "id": "rP43Ph0JpfDG"
   },
   "outputs": [],
   "source": [
    "pipeline_config.model.ssd.num_classes = len(labels)\n",
    "pipeline_config.train_config.batch_size = 4\n",
    "pipeline_config.train_config.fine_tune_checkpoint = os.path.join(paths['PRETRAINED_MODEL_PATH'], PRETRAINED_MODEL_NAME, 'checkpoint', 'ckpt-0')\n",
    "pipeline_config.train_config.fine_tune_checkpoint_type = \"detection\"\n",
    "pipeline_config.train_input_reader.label_map_path= files['LABELMAP']\n",
    "pipeline_config.train_input_reader.tf_record_input_reader.input_path[:] = [os.path.join(paths['ANNOTATION_PATH'], 'train.record')]\n",
    "pipeline_config.eval_input_reader[0].label_map_path = files['LABELMAP']\n",
    "pipeline_config.eval_input_reader[0].tf_record_input_reader.input_path[:] = [os.path.join(paths['ANNOTATION_PATH'], 'test.record')]"
   ]
  },
  {
   "cell_type": "code",
   "execution_count": 25,
   "metadata": {
    "id": "oJvfgwWqpfDG"
   },
   "outputs": [],
   "source": [
    "config_text = text_format.MessageToString(pipeline_config)                                                                                                                                                                                                        \n",
    "with tf.io.gfile.GFile(files['PIPELINE_CONFIG'], \"wb\") as f:                                                                                                                                                                                                                     \n",
    "    f.write(config_text)   "
   ]
  },
  {
   "cell_type": "markdown",
   "metadata": {
    "id": "Zr3ON7xMpfDG"
   },
   "source": [
    "# 6. Train the model"
   ]
  },
  {
   "cell_type": "code",
   "execution_count": 26,
   "metadata": {
    "id": "B-Y2UQmQpfDG"
   },
   "outputs": [],
   "source": [
    "TRAINING_SCRIPT = os.path.join(paths['APIMODEL_PATH'], 'research', 'object_detection', 'model_main_tf2.py')"
   ]
  },
  {
   "cell_type": "code",
   "execution_count": 27,
   "metadata": {
    "id": "jMP2XDfQpfDH"
   },
   "outputs": [],
   "source": [
    "command = \"python3 {} --model_dir={} --pipeline_config_path={} --num_train_steps=10000\".format(TRAINING_SCRIPT, paths['CHECKPOINT_PATH'],files['PIPELINE_CONFIG'])"
   ]
  },
  {
   "cell_type": "code",
   "execution_count": 28,
   "metadata": {
    "colab": {
     "base_uri": "https://localhost:8080/"
    },
    "id": "A4OXXi-ApfDH",
    "outputId": "117a0e83-012b-466e-b7a6-ccaa349ac5ab"
   },
   "outputs": [
    {
     "name": "stdout",
     "output_type": "stream",
     "text": [
      "python3 Tensorflow/models/research/object_detection/model_main_tf2.py --model_dir=Tensorflow/workspace/models/my_ssd_mobnet --pipeline_config_path=Tensorflow/workspace/models/my_ssd_mobnet/pipeline.config --num_train_steps=10000\n"
     ]
    }
   ],
   "source": [
    "print(command)"
   ]
  },
  {
   "cell_type": "code",
   "execution_count": 29,
   "metadata": {
    "colab": {
     "base_uri": "https://localhost:8080/"
    },
    "id": "i3ZsJR-qpfDH",
    "outputId": "cabec5e1-45e6-4f2f-d9cf-297d9c1d0225"
   },
   "outputs": [
    {
     "name": "stdout",
     "output_type": "stream",
     "text": [
      "2022-05-01 17:08:43.579983: I tensorflow/stream_executor/cuda/cuda_gpu_executor.cc:936] successful NUMA node read from SysFS had negative value (-1), but there must be at least one NUMA node, so returning NUMA node zero\n",
      "2022-05-01 17:08:43.588056: I tensorflow/stream_executor/cuda/cuda_gpu_executor.cc:936] successful NUMA node read from SysFS had negative value (-1), but there must be at least one NUMA node, so returning NUMA node zero\n",
      "2022-05-01 17:08:43.589032: I tensorflow/stream_executor/cuda/cuda_gpu_executor.cc:936] successful NUMA node read from SysFS had negative value (-1), but there must be at least one NUMA node, so returning NUMA node zero\n",
      "2022-05-01 17:08:43.590485: I tensorflow/core/platform/cpu_feature_guard.cc:151] This TensorFlow binary is optimized with oneAPI Deep Neural Network Library (oneDNN) to use the following CPU instructions in performance-critical operations:  AVX2 FMA\n",
      "To enable them in other operations, rebuild TensorFlow with the appropriate compiler flags.\n",
      "2022-05-01 17:08:43.591146: I tensorflow/stream_executor/cuda/cuda_gpu_executor.cc:936] successful NUMA node read from SysFS had negative value (-1), but there must be at least one NUMA node, so returning NUMA node zero\n",
      "2022-05-01 17:08:43.591967: I tensorflow/stream_executor/cuda/cuda_gpu_executor.cc:936] successful NUMA node read from SysFS had negative value (-1), but there must be at least one NUMA node, so returning NUMA node zero\n",
      "2022-05-01 17:08:43.592883: I tensorflow/stream_executor/cuda/cuda_gpu_executor.cc:936] successful NUMA node read from SysFS had negative value (-1), but there must be at least one NUMA node, so returning NUMA node zero\n",
      "2022-05-01 17:08:44.503049: I tensorflow/stream_executor/cuda/cuda_gpu_executor.cc:936] successful NUMA node read from SysFS had negative value (-1), but there must be at least one NUMA node, so returning NUMA node zero\n",
      "2022-05-01 17:08:44.503835: I tensorflow/stream_executor/cuda/cuda_gpu_executor.cc:936] successful NUMA node read from SysFS had negative value (-1), but there must be at least one NUMA node, so returning NUMA node zero\n",
      "2022-05-01 17:08:44.504463: I tensorflow/stream_executor/cuda/cuda_gpu_executor.cc:936] successful NUMA node read from SysFS had negative value (-1), but there must be at least one NUMA node, so returning NUMA node zero\n",
      "2022-05-01 17:08:44.505035: I tensorflow/core/common_runtime/gpu/gpu_device.cc:1525] Created device /job:localhost/replica:0/task:0/device:GPU:0 with 7170 MB memory:  -> device: 0, name: NVIDIA Quadro P4000, pci bus id: 0000:00:05.0, compute capability: 6.1\n",
      "INFO:tensorflow:Using MirroredStrategy with devices ('/job:localhost/replica:0/task:0/device:GPU:0',)\n",
      "I0501 17:08:44.670507 140436834506560 mirrored_strategy.py:374] Using MirroredStrategy with devices ('/job:localhost/replica:0/task:0/device:GPU:0',)\n",
      "INFO:tensorflow:Maybe overwriting train_steps: 10000\n",
      "I0501 17:08:44.675380 140436834506560 config_util.py:552] Maybe overwriting train_steps: 10000\n",
      "INFO:tensorflow:Maybe overwriting use_bfloat16: False\n",
      "I0501 17:08:44.675521 140436834506560 config_util.py:552] Maybe overwriting use_bfloat16: False\n",
      "WARNING:tensorflow:From /home/paperspace/.local/lib/python3.8/site-packages/object_detection/model_lib_v2.py:563: StrategyBase.experimental_distribute_datasets_from_function (from tensorflow.python.distribute.distribute_lib) is deprecated and will be removed in a future version.\n",
      "Instructions for updating:\n",
      "rename to distribute_datasets_from_function\n",
      "W0501 17:08:44.707116 140436834506560 deprecation.py:337] From /home/paperspace/.local/lib/python3.8/site-packages/object_detection/model_lib_v2.py:563: StrategyBase.experimental_distribute_datasets_from_function (from tensorflow.python.distribute.distribute_lib) is deprecated and will be removed in a future version.\n",
      "Instructions for updating:\n",
      "rename to distribute_datasets_from_function\n",
      "INFO:tensorflow:Reading unweighted datasets: ['Tensorflow/workspace/annotations/train.record']\n",
      "I0501 17:08:44.718754 140436834506560 dataset_builder.py:162] Reading unweighted datasets: ['Tensorflow/workspace/annotations/train.record']\n",
      "INFO:tensorflow:Reading record datasets for input file: ['Tensorflow/workspace/annotations/train.record']\n",
      "I0501 17:08:44.719033 140436834506560 dataset_builder.py:79] Reading record datasets for input file: ['Tensorflow/workspace/annotations/train.record']\n",
      "INFO:tensorflow:Number of filenames to read: 1\n",
      "I0501 17:08:44.719128 140436834506560 dataset_builder.py:80] Number of filenames to read: 1\n",
      "WARNING:tensorflow:num_readers has been reduced to 1 to match input file shards.\n",
      "W0501 17:08:44.719205 140436834506560 dataset_builder.py:86] num_readers has been reduced to 1 to match input file shards.\n",
      "WARNING:tensorflow:From /home/paperspace/.local/lib/python3.8/site-packages/object_detection/builders/dataset_builder.py:100: parallel_interleave (from tensorflow.python.data.experimental.ops.interleave_ops) is deprecated and will be removed in a future version.\n",
      "Instructions for updating:\n",
      "Use `tf.data.Dataset.interleave(map_func, cycle_length, block_length, num_parallel_calls=tf.data.AUTOTUNE)` instead. If sloppy execution is desired, use `tf.data.Options.deterministic`.\n",
      "W0501 17:08:44.725246 140436834506560 deprecation.py:337] From /home/paperspace/.local/lib/python3.8/site-packages/object_detection/builders/dataset_builder.py:100: parallel_interleave (from tensorflow.python.data.experimental.ops.interleave_ops) is deprecated and will be removed in a future version.\n",
      "Instructions for updating:\n",
      "Use `tf.data.Dataset.interleave(map_func, cycle_length, block_length, num_parallel_calls=tf.data.AUTOTUNE)` instead. If sloppy execution is desired, use `tf.data.Options.deterministic`.\n",
      "WARNING:tensorflow:From /home/paperspace/.local/lib/python3.8/site-packages/object_detection/builders/dataset_builder.py:235: DatasetV1.map_with_legacy_function (from tensorflow.python.data.ops.dataset_ops) is deprecated and will be removed in a future version.\n",
      "Instructions for updating:\n",
      "Use `tf.data.Dataset.map()\n",
      "W0501 17:08:44.756288 140436834506560 deprecation.py:337] From /home/paperspace/.local/lib/python3.8/site-packages/object_detection/builders/dataset_builder.py:235: DatasetV1.map_with_legacy_function (from tensorflow.python.data.ops.dataset_ops) is deprecated and will be removed in a future version.\n",
      "Instructions for updating:\n",
      "Use `tf.data.Dataset.map()\n",
      "WARNING:tensorflow:From /home/paperspace/.local/lib/python3.8/site-packages/tensorflow/python/util/dispatch.py:1082: sparse_to_dense (from tensorflow.python.ops.sparse_ops) is deprecated and will be removed in a future version.\n",
      "Instructions for updating:\n",
      "Create a `tf.sparse.SparseTensor` and use `tf.sparse.to_dense` instead.\n",
      "W0501 17:08:52.405578 140436834506560 deprecation.py:337] From /home/paperspace/.local/lib/python3.8/site-packages/tensorflow/python/util/dispatch.py:1082: sparse_to_dense (from tensorflow.python.ops.sparse_ops) is deprecated and will be removed in a future version.\n",
      "Instructions for updating:\n",
      "Create a `tf.sparse.SparseTensor` and use `tf.sparse.to_dense` instead.\n",
      "WARNING:tensorflow:From /home/paperspace/.local/lib/python3.8/site-packages/tensorflow/python/util/dispatch.py:1082: sample_distorted_bounding_box (from tensorflow.python.ops.image_ops_impl) is deprecated and will be removed in a future version.\n",
      "Instructions for updating:\n",
      "`seed2` arg is deprecated.Use sample_distorted_bounding_box_v2 instead.\n",
      "W0501 17:08:55.736933 140436834506560 deprecation.py:337] From /home/paperspace/.local/lib/python3.8/site-packages/tensorflow/python/util/dispatch.py:1082: sample_distorted_bounding_box (from tensorflow.python.ops.image_ops_impl) is deprecated and will be removed in a future version.\n",
      "Instructions for updating:\n",
      "`seed2` arg is deprecated.Use sample_distorted_bounding_box_v2 instead.\n",
      "WARNING:tensorflow:From /home/paperspace/.local/lib/python3.8/site-packages/tensorflow/python/util/dispatch.py:1082: to_float (from tensorflow.python.ops.math_ops) is deprecated and will be removed in a future version.\n",
      "Instructions for updating:\n",
      "Use `tf.cast` instead.\n",
      "W0501 17:08:57.579590 140436834506560 deprecation.py:337] From /home/paperspace/.local/lib/python3.8/site-packages/tensorflow/python/util/dispatch.py:1082: to_float (from tensorflow.python.ops.math_ops) is deprecated and will be removed in a future version.\n",
      "Instructions for updating:\n",
      "Use `tf.cast` instead.\n"
     ]
    },
    {
     "name": "stdout",
     "output_type": "stream",
     "text": [
      "/home/paperspace/.local/lib/python3.8/site-packages/keras/backend.py:450: UserWarning: `tf.keras.backend.set_learning_phase` is deprecated and will be removed after 2020-10-11. To update it, simply pass a True/False value to the `training` argument of the `__call__` method of your layer or model.\n",
      "  warnings.warn('`tf.keras.backend.set_learning_phase` is deprecated and '\n",
      "2022-05-01 17:09:19.954818: I tensorflow/stream_executor/cuda/cuda_dnn.cc:368] Loaded cuDNN version 8201\n",
      "2022-05-01 17:09:21.579106: I tensorflow/core/platform/default/subprocess.cc:304] Start cannot spawn child process: No such file or directory\n",
      "INFO:tensorflow:Reduce to /job:localhost/replica:0/task:0/device:CPU:0 then broadcast to ('/job:localhost/replica:0/task:0/device:CPU:0',).\n",
      "I0501 17:09:25.027029 140436834506560 cross_device_ops.py:616] Reduce to /job:localhost/replica:0/task:0/device:CPU:0 then broadcast to ('/job:localhost/replica:0/task:0/device:CPU:0',).\n",
      "INFO:tensorflow:Reduce to /job:localhost/replica:0/task:0/device:CPU:0 then broadcast to ('/job:localhost/replica:0/task:0/device:CPU:0',).\n",
      "I0501 17:09:25.028201 140436834506560 cross_device_ops.py:616] Reduce to /job:localhost/replica:0/task:0/device:CPU:0 then broadcast to ('/job:localhost/replica:0/task:0/device:CPU:0',).\n",
      "INFO:tensorflow:Reduce to /job:localhost/replica:0/task:0/device:CPU:0 then broadcast to ('/job:localhost/replica:0/task:0/device:CPU:0',).\n",
      "I0501 17:09:25.030078 140436834506560 cross_device_ops.py:616] Reduce to /job:localhost/replica:0/task:0/device:CPU:0 then broadcast to ('/job:localhost/replica:0/task:0/device:CPU:0',).\n",
      "INFO:tensorflow:Reduce to /job:localhost/replica:0/task:0/device:CPU:0 then broadcast to ('/job:localhost/replica:0/task:0/device:CPU:0',).\n",
      "I0501 17:09:25.030835 140436834506560 cross_device_ops.py:616] Reduce to /job:localhost/replica:0/task:0/device:CPU:0 then broadcast to ('/job:localhost/replica:0/task:0/device:CPU:0',).\n",
      "INFO:tensorflow:Reduce to /job:localhost/replica:0/task:0/device:CPU:0 then broadcast to ('/job:localhost/replica:0/task:0/device:CPU:0',).\n",
      "I0501 17:09:25.032805 140436834506560 cross_device_ops.py:616] Reduce to /job:localhost/replica:0/task:0/device:CPU:0 then broadcast to ('/job:localhost/replica:0/task:0/device:CPU:0',).\n",
      "INFO:tensorflow:Reduce to /job:localhost/replica:0/task:0/device:CPU:0 then broadcast to ('/job:localhost/replica:0/task:0/device:CPU:0',).\n",
      "I0501 17:09:25.033555 140436834506560 cross_device_ops.py:616] Reduce to /job:localhost/replica:0/task:0/device:CPU:0 then broadcast to ('/job:localhost/replica:0/task:0/device:CPU:0',).\n",
      "INFO:tensorflow:Reduce to /job:localhost/replica:0/task:0/device:CPU:0 then broadcast to ('/job:localhost/replica:0/task:0/device:CPU:0',).\n",
      "I0501 17:09:25.037475 140436834506560 cross_device_ops.py:616] Reduce to /job:localhost/replica:0/task:0/device:CPU:0 then broadcast to ('/job:localhost/replica:0/task:0/device:CPU:0',).\n",
      "INFO:tensorflow:Reduce to /job:localhost/replica:0/task:0/device:CPU:0 then broadcast to ('/job:localhost/replica:0/task:0/device:CPU:0',).\n",
      "I0501 17:09:25.038842 140436834506560 cross_device_ops.py:616] Reduce to /job:localhost/replica:0/task:0/device:CPU:0 then broadcast to ('/job:localhost/replica:0/task:0/device:CPU:0',).\n",
      "INFO:tensorflow:Reduce to /job:localhost/replica:0/task:0/device:CPU:0 then broadcast to ('/job:localhost/replica:0/task:0/device:CPU:0',).\n",
      "I0501 17:09:25.040894 140436834506560 cross_device_ops.py:616] Reduce to /job:localhost/replica:0/task:0/device:CPU:0 then broadcast to ('/job:localhost/replica:0/task:0/device:CPU:0',).\n",
      "INFO:tensorflow:Reduce to /job:localhost/replica:0/task:0/device:CPU:0 then broadcast to ('/job:localhost/replica:0/task:0/device:CPU:0',).\n",
      "I0501 17:09:25.041703 140436834506560 cross_device_ops.py:616] Reduce to /job:localhost/replica:0/task:0/device:CPU:0 then broadcast to ('/job:localhost/replica:0/task:0/device:CPU:0',).\n",
      "WARNING:tensorflow:From /home/paperspace/.local/lib/python3.8/site-packages/tensorflow/python/util/deprecation.py:616: calling map_fn_v2 (from tensorflow.python.ops.map_fn) with dtype is deprecated and will be removed in a future version.\n",
      "Instructions for updating:\n",
      "Use fn_output_signature instead\n",
      "W0501 17:09:25.613852 140422328342272 deprecation.py:541] From /home/paperspace/.local/lib/python3.8/site-packages/tensorflow/python/util/deprecation.py:616: calling map_fn_v2 (from tensorflow.python.ops.map_fn) with dtype is deprecated and will be removed in a future version.\n",
      "Instructions for updating:\n",
      "Use fn_output_signature instead\n",
      "INFO:tensorflow:Step 100 per-step time 0.443s\n",
      "I0501 17:10:09.564347 140436834506560 model_lib_v2.py:705] Step 100 per-step time 0.443s\n",
      "INFO:tensorflow:{'Loss/classification_loss': 0.34788653,\n",
      " 'Loss/localization_loss': 0.5469892,\n",
      " 'Loss/regularization_loss': 0.15439612,\n",
      " 'Loss/total_loss': 1.0492718,\n",
      " 'learning_rate': 0.0319994}\n",
      "I0501 17:10:09.564669 140436834506560 model_lib_v2.py:708] {'Loss/classification_loss': 0.34788653,\n",
      " 'Loss/localization_loss': 0.5469892,\n",
      " 'Loss/regularization_loss': 0.15439612,\n",
      " 'Loss/total_loss': 1.0492718,\n",
      " 'learning_rate': 0.0319994}\n",
      "INFO:tensorflow:Step 200 per-step time 0.106s\n",
      "I0501 17:10:20.129047 140436834506560 model_lib_v2.py:705] Step 200 per-step time 0.106s\n",
      "INFO:tensorflow:{'Loss/classification_loss': 0.63438463,\n",
      " 'Loss/localization_loss': 0.37815496,\n",
      " 'Loss/regularization_loss': 0.15452032,\n",
      " 'Loss/total_loss': 1.1670599,\n",
      " 'learning_rate': 0.0373328}\n",
      "I0501 17:10:20.129352 140436834506560 model_lib_v2.py:708] {'Loss/classification_loss': 0.63438463,\n",
      " 'Loss/localization_loss': 0.37815496,\n",
      " 'Loss/regularization_loss': 0.15452032,\n",
      " 'Loss/total_loss': 1.1670599,\n",
      " 'learning_rate': 0.0373328}\n",
      "INFO:tensorflow:Step 300 per-step time 0.107s\n",
      "I0501 17:10:30.835654 140436834506560 model_lib_v2.py:705] Step 300 per-step time 0.107s\n",
      "INFO:tensorflow:{'Loss/classification_loss': 0.24964502,\n",
      " 'Loss/localization_loss': 0.27682146,\n",
      " 'Loss/regularization_loss': 0.15501319,\n",
      " 'Loss/total_loss': 0.6814797,\n",
      " 'learning_rate': 0.0426662}\n",
      "I0501 17:10:30.836059 140436834506560 model_lib_v2.py:708] {'Loss/classification_loss': 0.24964502,\n",
      " 'Loss/localization_loss': 0.27682146,\n",
      " 'Loss/regularization_loss': 0.15501319,\n",
      " 'Loss/total_loss': 0.6814797,\n",
      " 'learning_rate': 0.0426662}\n",
      "INFO:tensorflow:Step 400 per-step time 0.107s\n",
      "I0501 17:10:41.574564 140436834506560 model_lib_v2.py:705] Step 400 per-step time 0.107s\n",
      "INFO:tensorflow:{'Loss/classification_loss': 0.24623232,\n",
      " 'Loss/localization_loss': 0.44030473,\n",
      " 'Loss/regularization_loss': 0.1550254,\n",
      " 'Loss/total_loss': 0.8415624,\n",
      " 'learning_rate': 0.047999598}\n",
      "I0501 17:10:41.574922 140436834506560 model_lib_v2.py:708] {'Loss/classification_loss': 0.24623232,\n",
      " 'Loss/localization_loss': 0.44030473,\n",
      " 'Loss/regularization_loss': 0.1550254,\n",
      " 'Loss/total_loss': 0.8415624,\n",
      " 'learning_rate': 0.047999598}\n",
      "INFO:tensorflow:Step 500 per-step time 0.106s\n",
      "I0501 17:10:52.191955 140436834506560 model_lib_v2.py:705] Step 500 per-step time 0.106s\n",
      "INFO:tensorflow:{'Loss/classification_loss': 0.3730648,\n",
      " 'Loss/localization_loss': 0.16496018,\n",
      " 'Loss/regularization_loss': 0.15501884,\n",
      " 'Loss/total_loss': 0.6930438,\n",
      " 'learning_rate': 0.053333}\n",
      "I0501 17:10:52.192274 140436834506560 model_lib_v2.py:708] {'Loss/classification_loss': 0.3730648,\n",
      " 'Loss/localization_loss': 0.16496018,\n",
      " 'Loss/regularization_loss': 0.15501884,\n",
      " 'Loss/total_loss': 0.6930438,\n",
      " 'learning_rate': 0.053333}\n",
      "INFO:tensorflow:Step 600 per-step time 0.103s\n",
      "I0501 17:11:02.486809 140436834506560 model_lib_v2.py:705] Step 600 per-step time 0.103s\n",
      "INFO:tensorflow:{'Loss/classification_loss': 0.20739052,\n",
      " 'Loss/localization_loss': 0.12627481,\n",
      " 'Loss/regularization_loss': 0.1551481,\n",
      " 'Loss/total_loss': 0.4888134,\n",
      " 'learning_rate': 0.0586664}\n",
      "I0501 17:11:02.487292 140436834506560 model_lib_v2.py:708] {'Loss/classification_loss': 0.20739052,\n",
      " 'Loss/localization_loss': 0.12627481,\n",
      " 'Loss/regularization_loss': 0.1551481,\n",
      " 'Loss/total_loss': 0.4888134,\n",
      " 'learning_rate': 0.0586664}\n",
      "INFO:tensorflow:Step 700 per-step time 0.105s\n",
      "I0501 17:11:12.937225 140436834506560 model_lib_v2.py:705] Step 700 per-step time 0.105s\n",
      "INFO:tensorflow:{'Loss/classification_loss': 0.2601662,\n",
      " 'Loss/localization_loss': 0.35624924,\n",
      " 'Loss/regularization_loss': 0.15526403,\n",
      " 'Loss/total_loss': 0.77167946,\n",
      " 'learning_rate': 0.0639998}\n",
      "I0501 17:11:12.937519 140436834506560 model_lib_v2.py:708] {'Loss/classification_loss': 0.2601662,\n",
      " 'Loss/localization_loss': 0.35624924,\n",
      " 'Loss/regularization_loss': 0.15526403,\n",
      " 'Loss/total_loss': 0.77167946,\n",
      " 'learning_rate': 0.0639998}\n"
     ]
    },
    {
     "name": "stdout",
     "output_type": "stream",
     "text": [
      "INFO:tensorflow:Step 800 per-step time 0.103s\n",
      "I0501 17:11:23.278195 140436834506560 model_lib_v2.py:705] Step 800 per-step time 0.103s\n",
      "INFO:tensorflow:{'Loss/classification_loss': 0.32326216,\n",
      " 'Loss/localization_loss': 0.27870473,\n",
      " 'Loss/regularization_loss': 0.15538706,\n",
      " 'Loss/total_loss': 0.7573539,\n",
      " 'learning_rate': 0.069333196}\n",
      "I0501 17:11:23.278494 140436834506560 model_lib_v2.py:708] {'Loss/classification_loss': 0.32326216,\n",
      " 'Loss/localization_loss': 0.27870473,\n",
      " 'Loss/regularization_loss': 0.15538706,\n",
      " 'Loss/total_loss': 0.7573539,\n",
      " 'learning_rate': 0.069333196}\n",
      "INFO:tensorflow:Step 900 per-step time 0.102s\n",
      "I0501 17:11:33.527281 140436834506560 model_lib_v2.py:705] Step 900 per-step time 0.102s\n",
      "INFO:tensorflow:{'Loss/classification_loss': 0.3073015,\n",
      " 'Loss/localization_loss': 0.32243907,\n",
      " 'Loss/regularization_loss': 0.1554495,\n",
      " 'Loss/total_loss': 0.7851901,\n",
      " 'learning_rate': 0.074666604}\n",
      "I0501 17:11:33.527657 140436834506560 model_lib_v2.py:708] {'Loss/classification_loss': 0.3073015,\n",
      " 'Loss/localization_loss': 0.32243907,\n",
      " 'Loss/regularization_loss': 0.1554495,\n",
      " 'Loss/total_loss': 0.7851901,\n",
      " 'learning_rate': 0.074666604}\n",
      "INFO:tensorflow:Step 1000 per-step time 0.103s\n",
      "I0501 17:11:43.848197 140436834506560 model_lib_v2.py:705] Step 1000 per-step time 0.103s\n",
      "INFO:tensorflow:{'Loss/classification_loss': 0.20703787,\n",
      " 'Loss/localization_loss': 0.16827933,\n",
      " 'Loss/regularization_loss': 0.15548642,\n",
      " 'Loss/total_loss': 0.5308036,\n",
      " 'learning_rate': 0.08}\n",
      "I0501 17:11:43.848508 140436834506560 model_lib_v2.py:708] {'Loss/classification_loss': 0.20703787,\n",
      " 'Loss/localization_loss': 0.16827933,\n",
      " 'Loss/regularization_loss': 0.15548642,\n",
      " 'Loss/total_loss': 0.5308036,\n",
      " 'learning_rate': 0.08}\n",
      "INFO:tensorflow:Step 1100 per-step time 0.111s\n",
      "I0501 17:11:54.906404 140436834506560 model_lib_v2.py:705] Step 1100 per-step time 0.111s\n",
      "INFO:tensorflow:{'Loss/classification_loss': 0.1599325,\n",
      " 'Loss/localization_loss': 0.13681683,\n",
      " 'Loss/regularization_loss': 0.1555423,\n",
      " 'Loss/total_loss': 0.4522916,\n",
      " 'learning_rate': 0.07999918}\n",
      "I0501 17:11:54.906703 140436834506560 model_lib_v2.py:708] {'Loss/classification_loss': 0.1599325,\n",
      " 'Loss/localization_loss': 0.13681683,\n",
      " 'Loss/regularization_loss': 0.1555423,\n",
      " 'Loss/total_loss': 0.4522916,\n",
      " 'learning_rate': 0.07999918}\n",
      "INFO:tensorflow:Step 1200 per-step time 0.103s\n",
      "I0501 17:12:05.250128 140436834506560 model_lib_v2.py:705] Step 1200 per-step time 0.103s\n",
      "INFO:tensorflow:{'Loss/classification_loss': 0.2355805,\n",
      " 'Loss/localization_loss': 0.13475488,\n",
      " 'Loss/regularization_loss': 0.15550242,\n",
      " 'Loss/total_loss': 0.52583784,\n",
      " 'learning_rate': 0.079996705}\n",
      "I0501 17:12:05.250427 140436834506560 model_lib_v2.py:708] {'Loss/classification_loss': 0.2355805,\n",
      " 'Loss/localization_loss': 0.13475488,\n",
      " 'Loss/regularization_loss': 0.15550242,\n",
      " 'Loss/total_loss': 0.52583784,\n",
      " 'learning_rate': 0.079996705}\n",
      "INFO:tensorflow:Step 1300 per-step time 0.103s\n",
      "I0501 17:12:15.534639 140436834506560 model_lib_v2.py:705] Step 1300 per-step time 0.103s\n",
      "INFO:tensorflow:{'Loss/classification_loss': 0.12406022,\n",
      " 'Loss/localization_loss': 0.1544038,\n",
      " 'Loss/regularization_loss': 0.15552959,\n",
      " 'Loss/total_loss': 0.4339936,\n",
      " 'learning_rate': 0.0799926}\n",
      "I0501 17:12:15.534919 140436834506560 model_lib_v2.py:708] {'Loss/classification_loss': 0.12406022,\n",
      " 'Loss/localization_loss': 0.1544038,\n",
      " 'Loss/regularization_loss': 0.15552959,\n",
      " 'Loss/total_loss': 0.4339936,\n",
      " 'learning_rate': 0.0799926}\n",
      "INFO:tensorflow:Step 1400 per-step time 0.103s\n",
      "I0501 17:12:25.826361 140436834506560 model_lib_v2.py:705] Step 1400 per-step time 0.103s\n",
      "INFO:tensorflow:{'Loss/classification_loss': 0.19153923,\n",
      " 'Loss/localization_loss': 0.2552902,\n",
      " 'Loss/regularization_loss': 0.15531778,\n",
      " 'Loss/total_loss': 0.6021472,\n",
      " 'learning_rate': 0.07998685}\n",
      "I0501 17:12:25.826651 140436834506560 model_lib_v2.py:708] {'Loss/classification_loss': 0.19153923,\n",
      " 'Loss/localization_loss': 0.2552902,\n",
      " 'Loss/regularization_loss': 0.15531778,\n",
      " 'Loss/total_loss': 0.6021472,\n",
      " 'learning_rate': 0.07998685}\n",
      "INFO:tensorflow:Step 1500 per-step time 0.104s\n",
      "I0501 17:12:36.179772 140436834506560 model_lib_v2.py:705] Step 1500 per-step time 0.104s\n",
      "INFO:tensorflow:{'Loss/classification_loss': 0.21747877,\n",
      " 'Loss/localization_loss': 0.3086693,\n",
      " 'Loss/regularization_loss': 0.15524974,\n",
      " 'Loss/total_loss': 0.6813978,\n",
      " 'learning_rate': 0.07997945}\n",
      "I0501 17:12:36.180139 140436834506560 model_lib_v2.py:708] {'Loss/classification_loss': 0.21747877,\n",
      " 'Loss/localization_loss': 0.3086693,\n",
      " 'Loss/regularization_loss': 0.15524974,\n",
      " 'Loss/total_loss': 0.6813978,\n",
      " 'learning_rate': 0.07997945}\n",
      "INFO:tensorflow:Step 1600 per-step time 0.104s\n",
      "I0501 17:12:46.540284 140436834506560 model_lib_v2.py:705] Step 1600 per-step time 0.104s\n",
      "INFO:tensorflow:{'Loss/classification_loss': 0.10742561,\n",
      " 'Loss/localization_loss': 0.09687894,\n",
      " 'Loss/regularization_loss': 0.15508834,\n",
      " 'Loss/total_loss': 0.35939288,\n",
      " 'learning_rate': 0.079970405}\n",
      "I0501 17:12:46.540602 140436834506560 model_lib_v2.py:708] {'Loss/classification_loss': 0.10742561,\n",
      " 'Loss/localization_loss': 0.09687894,\n",
      " 'Loss/regularization_loss': 0.15508834,\n",
      " 'Loss/total_loss': 0.35939288,\n",
      " 'learning_rate': 0.079970405}\n",
      "INFO:tensorflow:Step 1700 per-step time 0.103s\n",
      "I0501 17:12:56.813628 140436834506560 model_lib_v2.py:705] Step 1700 per-step time 0.103s\n",
      "INFO:tensorflow:{'Loss/classification_loss': 0.16814454,\n",
      " 'Loss/localization_loss': 0.15603812,\n",
      " 'Loss/regularization_loss': 0.15479758,\n",
      " 'Loss/total_loss': 0.47898024,\n",
      " 'learning_rate': 0.07995972}\n",
      "I0501 17:12:56.814570 140436834506560 model_lib_v2.py:708] {'Loss/classification_loss': 0.16814454,\n",
      " 'Loss/localization_loss': 0.15603812,\n",
      " 'Loss/regularization_loss': 0.15479758,\n",
      " 'Loss/total_loss': 0.47898024,\n",
      " 'learning_rate': 0.07995972}\n",
      "INFO:tensorflow:Step 1800 per-step time 0.106s\n",
      "I0501 17:13:07.423268 140436834506560 model_lib_v2.py:705] Step 1800 per-step time 0.106s\n",
      "INFO:tensorflow:{'Loss/classification_loss': 0.12477547,\n",
      " 'Loss/localization_loss': 0.06435263,\n",
      " 'Loss/regularization_loss': 0.15463762,\n",
      " 'Loss/total_loss': 0.34376574,\n",
      " 'learning_rate': 0.0799474}\n",
      "I0501 17:13:07.423617 140436834506560 model_lib_v2.py:708] {'Loss/classification_loss': 0.12477547,\n",
      " 'Loss/localization_loss': 0.06435263,\n",
      " 'Loss/regularization_loss': 0.15463762,\n",
      " 'Loss/total_loss': 0.34376574,\n",
      " 'learning_rate': 0.0799474}\n",
      "INFO:tensorflow:Step 1900 per-step time 0.108s\n",
      "I0501 17:13:18.187248 140436834506560 model_lib_v2.py:705] Step 1900 per-step time 0.108s\n",
      "INFO:tensorflow:{'Loss/classification_loss': 0.13414615,\n",
      " 'Loss/localization_loss': 0.11381354,\n",
      " 'Loss/regularization_loss': 0.15432422,\n",
      " 'Loss/total_loss': 0.4022839,\n",
      " 'learning_rate': 0.07993342}\n",
      "I0501 17:13:18.187673 140436834506560 model_lib_v2.py:708] {'Loss/classification_loss': 0.13414615,\n",
      " 'Loss/localization_loss': 0.11381354,\n",
      " 'Loss/regularization_loss': 0.15432422,\n",
      " 'Loss/total_loss': 0.4022839,\n",
      " 'learning_rate': 0.07993342}\n",
      "INFO:tensorflow:Step 2000 per-step time 0.104s\n",
      "I0501 17:13:28.632524 140436834506560 model_lib_v2.py:705] Step 2000 per-step time 0.104s\n",
      "INFO:tensorflow:{'Loss/classification_loss': 0.124586366,\n",
      " 'Loss/localization_loss': 0.1356932,\n",
      " 'Loss/regularization_loss': 0.15414122,\n",
      " 'Loss/total_loss': 0.41442078,\n",
      " 'learning_rate': 0.07991781}\n",
      "I0501 17:13:28.632835 140436834506560 model_lib_v2.py:708] {'Loss/classification_loss': 0.124586366,\n",
      " 'Loss/localization_loss': 0.1356932,\n",
      " 'Loss/regularization_loss': 0.15414122,\n",
      " 'Loss/total_loss': 0.41442078,\n",
      " 'learning_rate': 0.07991781}\n",
      "INFO:tensorflow:Step 2100 per-step time 0.108s\n",
      "I0501 17:13:39.432729 140436834506560 model_lib_v2.py:705] Step 2100 per-step time 0.108s\n",
      "INFO:tensorflow:{'Loss/classification_loss': 0.12374397,\n",
      " 'Loss/localization_loss': 0.060739465,\n",
      " 'Loss/regularization_loss': 0.15384641,\n",
      " 'Loss/total_loss': 0.33832985,\n",
      " 'learning_rate': 0.07990056}\n",
      "I0501 17:13:39.433042 140436834506560 model_lib_v2.py:708] {'Loss/classification_loss': 0.12374397,\n",
      " 'Loss/localization_loss': 0.060739465,\n",
      " 'Loss/regularization_loss': 0.15384641,\n",
      " 'Loss/total_loss': 0.33832985,\n",
      " 'learning_rate': 0.07990056}\n",
      "INFO:tensorflow:Step 2200 per-step time 0.104s\n",
      "I0501 17:13:49.830098 140436834506560 model_lib_v2.py:705] Step 2200 per-step time 0.104s\n",
      "INFO:tensorflow:{'Loss/classification_loss': 0.17336401,\n",
      " 'Loss/localization_loss': 0.08210691,\n",
      " 'Loss/regularization_loss': 0.15400834,\n",
      " 'Loss/total_loss': 0.40947926,\n",
      " 'learning_rate': 0.07988167}\n",
      "I0501 17:13:49.830401 140436834506560 model_lib_v2.py:708] {'Loss/classification_loss': 0.17336401,\n",
      " 'Loss/localization_loss': 0.08210691,\n",
      " 'Loss/regularization_loss': 0.15400834,\n",
      " 'Loss/total_loss': 0.40947926,\n",
      " 'learning_rate': 0.07988167}\n"
     ]
    },
    {
     "name": "stdout",
     "output_type": "stream",
     "text": [
      "INFO:tensorflow:Step 2300 per-step time 0.103s\n",
      "I0501 17:14:00.129781 140436834506560 model_lib_v2.py:705] Step 2300 per-step time 0.103s\n",
      "INFO:tensorflow:{'Loss/classification_loss': 0.13819875,\n",
      " 'Loss/localization_loss': 0.1296002,\n",
      " 'Loss/regularization_loss': 0.15367614,\n",
      " 'Loss/total_loss': 0.4214751,\n",
      " 'learning_rate': 0.07986114}\n",
      "I0501 17:14:00.130100 140436834506560 model_lib_v2.py:708] {'Loss/classification_loss': 0.13819875,\n",
      " 'Loss/localization_loss': 0.1296002,\n",
      " 'Loss/regularization_loss': 0.15367614,\n",
      " 'Loss/total_loss': 0.4214751,\n",
      " 'learning_rate': 0.07986114}\n",
      "INFO:tensorflow:Step 2400 per-step time 0.104s\n",
      "I0501 17:14:10.506224 140436834506560 model_lib_v2.py:705] Step 2400 per-step time 0.104s\n",
      "INFO:tensorflow:{'Loss/classification_loss': 0.22388761,\n",
      " 'Loss/localization_loss': 0.16443504,\n",
      " 'Loss/regularization_loss': 0.15338713,\n",
      " 'Loss/total_loss': 0.5417098,\n",
      " 'learning_rate': 0.07983897}\n",
      "I0501 17:14:10.506586 140436834506560 model_lib_v2.py:708] {'Loss/classification_loss': 0.22388761,\n",
      " 'Loss/localization_loss': 0.16443504,\n",
      " 'Loss/regularization_loss': 0.15338713,\n",
      " 'Loss/total_loss': 0.5417098,\n",
      " 'learning_rate': 0.07983897}\n",
      "INFO:tensorflow:Step 2500 per-step time 0.102s\n",
      "I0501 17:14:20.727782 140436834506560 model_lib_v2.py:705] Step 2500 per-step time 0.102s\n",
      "INFO:tensorflow:{'Loss/classification_loss': 0.2639125,\n",
      " 'Loss/localization_loss': 0.24707764,\n",
      " 'Loss/regularization_loss': 0.15296443,\n",
      " 'Loss/total_loss': 0.66395456,\n",
      " 'learning_rate': 0.079815164}\n",
      "I0501 17:14:20.728106 140436834506560 model_lib_v2.py:708] {'Loss/classification_loss': 0.2639125,\n",
      " 'Loss/localization_loss': 0.24707764,\n",
      " 'Loss/regularization_loss': 0.15296443,\n",
      " 'Loss/total_loss': 0.66395456,\n",
      " 'learning_rate': 0.079815164}\n",
      "INFO:tensorflow:Step 2600 per-step time 0.104s\n",
      "I0501 17:14:31.107163 140436834506560 model_lib_v2.py:705] Step 2600 per-step time 0.104s\n",
      "INFO:tensorflow:{'Loss/classification_loss': 0.12468857,\n",
      " 'Loss/localization_loss': 0.080629304,\n",
      " 'Loss/regularization_loss': 0.15257162,\n",
      " 'Loss/total_loss': 0.3578895,\n",
      " 'learning_rate': 0.07978972}\n",
      "I0501 17:14:31.107482 140436834506560 model_lib_v2.py:708] {'Loss/classification_loss': 0.12468857,\n",
      " 'Loss/localization_loss': 0.080629304,\n",
      " 'Loss/regularization_loss': 0.15257162,\n",
      " 'Loss/total_loss': 0.3578895,\n",
      " 'learning_rate': 0.07978972}\n",
      "INFO:tensorflow:Step 2700 per-step time 0.104s\n",
      "I0501 17:14:41.466895 140436834506560 model_lib_v2.py:705] Step 2700 per-step time 0.104s\n",
      "INFO:tensorflow:{'Loss/classification_loss': 0.14757788,\n",
      " 'Loss/localization_loss': 0.107971154,\n",
      " 'Loss/regularization_loss': 0.15246087,\n",
      " 'Loss/total_loss': 0.40800992,\n",
      " 'learning_rate': 0.07976264}\n",
      "I0501 17:14:41.467221 140436834506560 model_lib_v2.py:708] {'Loss/classification_loss': 0.14757788,\n",
      " 'Loss/localization_loss': 0.107971154,\n",
      " 'Loss/regularization_loss': 0.15246087,\n",
      " 'Loss/total_loss': 0.40800992,\n",
      " 'learning_rate': 0.07976264}\n",
      "INFO:tensorflow:Step 2800 per-step time 0.103s\n",
      "I0501 17:14:51.762697 140436834506560 model_lib_v2.py:705] Step 2800 per-step time 0.103s\n",
      "INFO:tensorflow:{'Loss/classification_loss': 0.15864545,\n",
      " 'Loss/localization_loss': 0.15330775,\n",
      " 'Loss/regularization_loss': 0.15229012,\n",
      " 'Loss/total_loss': 0.4642433,\n",
      " 'learning_rate': 0.07973392}\n",
      "I0501 17:14:51.762990 140436834506560 model_lib_v2.py:708] {'Loss/classification_loss': 0.15864545,\n",
      " 'Loss/localization_loss': 0.15330775,\n",
      " 'Loss/regularization_loss': 0.15229012,\n",
      " 'Loss/total_loss': 0.4642433,\n",
      " 'learning_rate': 0.07973392}\n",
      "INFO:tensorflow:Step 2900 per-step time 0.103s\n",
      "I0501 17:15:02.095273 140436834506560 model_lib_v2.py:705] Step 2900 per-step time 0.103s\n",
      "INFO:tensorflow:{'Loss/classification_loss': 0.117544405,\n",
      " 'Loss/localization_loss': 0.122600235,\n",
      " 'Loss/regularization_loss': 0.15184525,\n",
      " 'Loss/total_loss': 0.3919899,\n",
      " 'learning_rate': 0.07970358}\n",
      "I0501 17:15:02.095591 140436834506560 model_lib_v2.py:708] {'Loss/classification_loss': 0.117544405,\n",
      " 'Loss/localization_loss': 0.122600235,\n",
      " 'Loss/regularization_loss': 0.15184525,\n",
      " 'Loss/total_loss': 0.3919899,\n",
      " 'learning_rate': 0.07970358}\n",
      "INFO:tensorflow:Step 3000 per-step time 0.103s\n",
      "I0501 17:15:12.374975 140436834506560 model_lib_v2.py:705] Step 3000 per-step time 0.103s\n",
      "INFO:tensorflow:{'Loss/classification_loss': 0.11529958,\n",
      " 'Loss/localization_loss': 0.09912073,\n",
      " 'Loss/regularization_loss': 0.15164444,\n",
      " 'Loss/total_loss': 0.36606476,\n",
      " 'learning_rate': 0.0796716}\n",
      "I0501 17:15:12.375266 140436834506560 model_lib_v2.py:708] {'Loss/classification_loss': 0.11529958,\n",
      " 'Loss/localization_loss': 0.09912073,\n",
      " 'Loss/regularization_loss': 0.15164444,\n",
      " 'Loss/total_loss': 0.36606476,\n",
      " 'learning_rate': 0.0796716}\n",
      "INFO:tensorflow:Step 3100 per-step time 0.107s\n",
      "I0501 17:15:23.086834 140436834506560 model_lib_v2.py:705] Step 3100 per-step time 0.107s\n",
      "INFO:tensorflow:{'Loss/classification_loss': 0.21888778,\n",
      " 'Loss/localization_loss': 0.1104715,\n",
      " 'Loss/regularization_loss': 0.15116598,\n",
      " 'Loss/total_loss': 0.48052526,\n",
      " 'learning_rate': 0.07963799}\n",
      "I0501 17:15:23.087142 140436834506560 model_lib_v2.py:708] {'Loss/classification_loss': 0.21888778,\n",
      " 'Loss/localization_loss': 0.1104715,\n",
      " 'Loss/regularization_loss': 0.15116598,\n",
      " 'Loss/total_loss': 0.48052526,\n",
      " 'learning_rate': 0.07963799}\n",
      "INFO:tensorflow:Step 3200 per-step time 0.103s\n",
      "I0501 17:15:33.382476 140436834506560 model_lib_v2.py:705] Step 3200 per-step time 0.103s\n",
      "INFO:tensorflow:{'Loss/classification_loss': 0.15129319,\n",
      " 'Loss/localization_loss': 0.109544404,\n",
      " 'Loss/regularization_loss': 0.15064244,\n",
      " 'Loss/total_loss': 0.41148,\n",
      " 'learning_rate': 0.07960275}\n",
      "I0501 17:15:33.382774 140436834506560 model_lib_v2.py:708] {'Loss/classification_loss': 0.15129319,\n",
      " 'Loss/localization_loss': 0.109544404,\n",
      " 'Loss/regularization_loss': 0.15064244,\n",
      " 'Loss/total_loss': 0.41148,\n",
      " 'learning_rate': 0.07960275}\n",
      "INFO:tensorflow:Step 3300 per-step time 0.103s\n",
      "I0501 17:15:43.706861 140436834506560 model_lib_v2.py:705] Step 3300 per-step time 0.103s\n",
      "INFO:tensorflow:{'Loss/classification_loss': 0.1173093,\n",
      " 'Loss/localization_loss': 0.05153116,\n",
      " 'Loss/regularization_loss': 0.15029405,\n",
      " 'Loss/total_loss': 0.31913453,\n",
      " 'learning_rate': 0.07956588}\n",
      "I0501 17:15:43.707150 140436834506560 model_lib_v2.py:708] {'Loss/classification_loss': 0.1173093,\n",
      " 'Loss/localization_loss': 0.05153116,\n",
      " 'Loss/regularization_loss': 0.15029405,\n",
      " 'Loss/total_loss': 0.31913453,\n",
      " 'learning_rate': 0.07956588}\n",
      "INFO:tensorflow:Step 3400 per-step time 0.102s\n",
      "I0501 17:15:53.928539 140436834506560 model_lib_v2.py:705] Step 3400 per-step time 0.102s\n",
      "INFO:tensorflow:{'Loss/classification_loss': 0.20866896,\n",
      " 'Loss/localization_loss': 0.1870471,\n",
      " 'Loss/regularization_loss': 0.14979362,\n",
      " 'Loss/total_loss': 0.5455097,\n",
      " 'learning_rate': 0.079527386}\n",
      "I0501 17:15:53.928834 140436834506560 model_lib_v2.py:708] {'Loss/classification_loss': 0.20866896,\n",
      " 'Loss/localization_loss': 0.1870471,\n",
      " 'Loss/regularization_loss': 0.14979362,\n",
      " 'Loss/total_loss': 0.5455097,\n",
      " 'learning_rate': 0.079527386}\n",
      "INFO:tensorflow:Step 3500 per-step time 0.103s\n",
      "I0501 17:16:04.201025 140436834506560 model_lib_v2.py:705] Step 3500 per-step time 0.103s\n",
      "INFO:tensorflow:{'Loss/classification_loss': 0.12612101,\n",
      " 'Loss/localization_loss': 0.13484797,\n",
      " 'Loss/regularization_loss': 0.14930348,\n",
      " 'Loss/total_loss': 0.41027248,\n",
      " 'learning_rate': 0.07948727}\n",
      "I0501 17:16:04.201328 140436834506560 model_lib_v2.py:708] {'Loss/classification_loss': 0.12612101,\n",
      " 'Loss/localization_loss': 0.13484797,\n",
      " 'Loss/regularization_loss': 0.14930348,\n",
      " 'Loss/total_loss': 0.41027248,\n",
      " 'learning_rate': 0.07948727}\n",
      "INFO:tensorflow:Step 3600 per-step time 0.104s\n",
      "I0501 17:16:14.630207 140436834506560 model_lib_v2.py:705] Step 3600 per-step time 0.104s\n",
      "INFO:tensorflow:{'Loss/classification_loss': 0.51094216,\n",
      " 'Loss/localization_loss': 0.4159553,\n",
      " 'Loss/regularization_loss': 0.14883907,\n",
      " 'Loss/total_loss': 1.0757365,\n",
      " 'learning_rate': 0.079445526}\n",
      "I0501 17:16:14.630502 140436834506560 model_lib_v2.py:708] {'Loss/classification_loss': 0.51094216,\n",
      " 'Loss/localization_loss': 0.4159553,\n",
      " 'Loss/regularization_loss': 0.14883907,\n",
      " 'Loss/total_loss': 1.0757365,\n",
      " 'learning_rate': 0.079445526}\n",
      "INFO:tensorflow:Step 3700 per-step time 0.103s\n",
      "I0501 17:16:24.886374 140436834506560 model_lib_v2.py:705] Step 3700 per-step time 0.103s\n",
      "INFO:tensorflow:{'Loss/classification_loss': 0.16696718,\n",
      " 'Loss/localization_loss': 0.19260944,\n",
      " 'Loss/regularization_loss': 0.14880775,\n",
      " 'Loss/total_loss': 0.5083844,\n",
      " 'learning_rate': 0.07940216}\n",
      "I0501 17:16:24.886721 140436834506560 model_lib_v2.py:708] {'Loss/classification_loss': 0.16696718,\n",
      " 'Loss/localization_loss': 0.19260944,\n",
      " 'Loss/regularization_loss': 0.14880775,\n",
      " 'Loss/total_loss': 0.5083844,\n",
      " 'learning_rate': 0.07940216}\n"
     ]
    },
    {
     "name": "stdout",
     "output_type": "stream",
     "text": [
      "INFO:tensorflow:Step 3800 per-step time 0.103s\n",
      "I0501 17:16:35.152437 140436834506560 model_lib_v2.py:705] Step 3800 per-step time 0.103s\n",
      "INFO:tensorflow:{'Loss/classification_loss': 0.13414541,\n",
      " 'Loss/localization_loss': 0.117789514,\n",
      " 'Loss/regularization_loss': 0.14835906,\n",
      " 'Loss/total_loss': 0.40029398,\n",
      " 'learning_rate': 0.079357184}\n",
      "I0501 17:16:35.152716 140436834506560 model_lib_v2.py:708] {'Loss/classification_loss': 0.13414541,\n",
      " 'Loss/localization_loss': 0.117789514,\n",
      " 'Loss/regularization_loss': 0.14835906,\n",
      " 'Loss/total_loss': 0.40029398,\n",
      " 'learning_rate': 0.079357184}\n",
      "INFO:tensorflow:Step 3900 per-step time 0.105s\n",
      "I0501 17:16:45.670361 140436834506560 model_lib_v2.py:705] Step 3900 per-step time 0.105s\n",
      "INFO:tensorflow:{'Loss/classification_loss': 0.35448042,\n",
      " 'Loss/localization_loss': 0.20051031,\n",
      " 'Loss/regularization_loss': 0.14805588,\n",
      " 'Loss/total_loss': 0.70304656,\n",
      " 'learning_rate': 0.07931058}\n",
      "I0501 17:16:45.670687 140436834506560 model_lib_v2.py:708] {'Loss/classification_loss': 0.35448042,\n",
      " 'Loss/localization_loss': 0.20051031,\n",
      " 'Loss/regularization_loss': 0.14805588,\n",
      " 'Loss/total_loss': 0.70304656,\n",
      " 'learning_rate': 0.07931058}\n",
      "INFO:tensorflow:Step 4000 per-step time 0.102s\n",
      "I0501 17:16:55.898963 140436834506560 model_lib_v2.py:705] Step 4000 per-step time 0.102s\n",
      "INFO:tensorflow:{'Loss/classification_loss': 0.17485836,\n",
      " 'Loss/localization_loss': 0.23030272,\n",
      " 'Loss/regularization_loss': 0.14770062,\n",
      " 'Loss/total_loss': 0.5528617,\n",
      " 'learning_rate': 0.07926236}\n",
      "I0501 17:16:55.899273 140436834506560 model_lib_v2.py:708] {'Loss/classification_loss': 0.17485836,\n",
      " 'Loss/localization_loss': 0.23030272,\n",
      " 'Loss/regularization_loss': 0.14770062,\n",
      " 'Loss/total_loss': 0.5528617,\n",
      " 'learning_rate': 0.07926236}\n",
      "INFO:tensorflow:Step 4100 per-step time 0.108s\n",
      "I0501 17:17:06.727058 140436834506560 model_lib_v2.py:705] Step 4100 per-step time 0.108s\n",
      "INFO:tensorflow:{'Loss/classification_loss': 0.15410982,\n",
      " 'Loss/localization_loss': 0.16932188,\n",
      " 'Loss/regularization_loss': 0.1472427,\n",
      " 'Loss/total_loss': 0.4706744,\n",
      " 'learning_rate': 0.07921253}\n",
      "I0501 17:17:06.727364 140436834506560 model_lib_v2.py:708] {'Loss/classification_loss': 0.15410982,\n",
      " 'Loss/localization_loss': 0.16932188,\n",
      " 'Loss/regularization_loss': 0.1472427,\n",
      " 'Loss/total_loss': 0.4706744,\n",
      " 'learning_rate': 0.07921253}\n",
      "INFO:tensorflow:Step 4200 per-step time 0.103s\n",
      "I0501 17:17:16.987494 140436834506560 model_lib_v2.py:705] Step 4200 per-step time 0.103s\n",
      "INFO:tensorflow:{'Loss/classification_loss': 0.13494429,\n",
      " 'Loss/localization_loss': 0.11901881,\n",
      " 'Loss/regularization_loss': 0.14667392,\n",
      " 'Loss/total_loss': 0.40063703,\n",
      " 'learning_rate': 0.07916109}\n",
      "I0501 17:17:16.987845 140436834506560 model_lib_v2.py:708] {'Loss/classification_loss': 0.13494429,\n",
      " 'Loss/localization_loss': 0.11901881,\n",
      " 'Loss/regularization_loss': 0.14667392,\n",
      " 'Loss/total_loss': 0.40063703,\n",
      " 'learning_rate': 0.07916109}\n",
      "INFO:tensorflow:Step 4300 per-step time 0.104s\n",
      "I0501 17:17:27.378113 140436834506560 model_lib_v2.py:705] Step 4300 per-step time 0.104s\n",
      "INFO:tensorflow:{'Loss/classification_loss': 0.09925432,\n",
      " 'Loss/localization_loss': 0.059097134,\n",
      " 'Loss/regularization_loss': 0.1462957,\n",
      " 'Loss/total_loss': 0.30464715,\n",
      " 'learning_rate': 0.07910804}\n",
      "I0501 17:17:27.378448 140436834506560 model_lib_v2.py:708] {'Loss/classification_loss': 0.09925432,\n",
      " 'Loss/localization_loss': 0.059097134,\n",
      " 'Loss/regularization_loss': 0.1462957,\n",
      " 'Loss/total_loss': 0.30464715,\n",
      " 'learning_rate': 0.07910804}\n",
      "INFO:tensorflow:Step 4400 per-step time 0.104s\n",
      "I0501 17:17:37.744270 140436834506560 model_lib_v2.py:705] Step 4400 per-step time 0.104s\n",
      "INFO:tensorflow:{'Loss/classification_loss': 0.10543508,\n",
      " 'Loss/localization_loss': 0.08604901,\n",
      " 'Loss/regularization_loss': 0.14635688,\n",
      " 'Loss/total_loss': 0.33784097,\n",
      " 'learning_rate': 0.07905338}\n",
      "I0501 17:17:37.744584 140436834506560 model_lib_v2.py:708] {'Loss/classification_loss': 0.10543508,\n",
      " 'Loss/localization_loss': 0.08604901,\n",
      " 'Loss/regularization_loss': 0.14635688,\n",
      " 'Loss/total_loss': 0.33784097,\n",
      " 'learning_rate': 0.07905338}\n",
      "INFO:tensorflow:Step 4500 per-step time 0.104s\n",
      "I0501 17:17:48.107248 140436834506560 model_lib_v2.py:705] Step 4500 per-step time 0.104s\n",
      "INFO:tensorflow:{'Loss/classification_loss': 0.13232954,\n",
      " 'Loss/localization_loss': 0.101096936,\n",
      " 'Loss/regularization_loss': 0.14584553,\n",
      " 'Loss/total_loss': 0.379272,\n",
      " 'learning_rate': 0.07899711}\n",
      "I0501 17:17:48.107547 140436834506560 model_lib_v2.py:708] {'Loss/classification_loss': 0.13232954,\n",
      " 'Loss/localization_loss': 0.101096936,\n",
      " 'Loss/regularization_loss': 0.14584553,\n",
      " 'Loss/total_loss': 0.379272,\n",
      " 'learning_rate': 0.07899711}\n",
      "INFO:tensorflow:Step 4600 per-step time 0.109s\n",
      "I0501 17:17:58.991188 140436834506560 model_lib_v2.py:705] Step 4600 per-step time 0.109s\n",
      "INFO:tensorflow:{'Loss/classification_loss': 0.11223026,\n",
      " 'Loss/localization_loss': 0.120545305,\n",
      " 'Loss/regularization_loss': 0.14537814,\n",
      " 'Loss/total_loss': 0.3781537,\n",
      " 'learning_rate': 0.078939244}\n",
      "I0501 17:17:58.991484 140436834506560 model_lib_v2.py:708] {'Loss/classification_loss': 0.11223026,\n",
      " 'Loss/localization_loss': 0.120545305,\n",
      " 'Loss/regularization_loss': 0.14537814,\n",
      " 'Loss/total_loss': 0.3781537,\n",
      " 'learning_rate': 0.078939244}\n",
      "INFO:tensorflow:Step 4700 per-step time 0.105s\n",
      "I0501 17:18:09.499700 140436834506560 model_lib_v2.py:705] Step 4700 per-step time 0.105s\n",
      "INFO:tensorflow:{'Loss/classification_loss': 0.1437491,\n",
      " 'Loss/localization_loss': 0.12611018,\n",
      " 'Loss/regularization_loss': 0.14515395,\n",
      " 'Loss/total_loss': 0.41501325,\n",
      " 'learning_rate': 0.07887978}\n",
      "I0501 17:18:09.500027 140436834506560 model_lib_v2.py:708] {'Loss/classification_loss': 0.1437491,\n",
      " 'Loss/localization_loss': 0.12611018,\n",
      " 'Loss/regularization_loss': 0.14515395,\n",
      " 'Loss/total_loss': 0.41501325,\n",
      " 'learning_rate': 0.07887978}\n",
      "INFO:tensorflow:Step 4800 per-step time 0.104s\n",
      "I0501 17:18:19.863904 140436834506560 model_lib_v2.py:705] Step 4800 per-step time 0.104s\n",
      "INFO:tensorflow:{'Loss/classification_loss': 0.14393927,\n",
      " 'Loss/localization_loss': 0.09036514,\n",
      " 'Loss/regularization_loss': 0.14480682,\n",
      " 'Loss/total_loss': 0.37911123,\n",
      " 'learning_rate': 0.07881871}\n",
      "I0501 17:18:19.864224 140436834506560 model_lib_v2.py:708] {'Loss/classification_loss': 0.14393927,\n",
      " 'Loss/localization_loss': 0.09036514,\n",
      " 'Loss/regularization_loss': 0.14480682,\n",
      " 'Loss/total_loss': 0.37911123,\n",
      " 'learning_rate': 0.07881871}\n",
      "INFO:tensorflow:Step 4900 per-step time 0.104s\n",
      "I0501 17:18:30.266343 140436834506560 model_lib_v2.py:705] Step 4900 per-step time 0.104s\n",
      "INFO:tensorflow:{'Loss/classification_loss': 0.1707999,\n",
      " 'Loss/localization_loss': 0.09741653,\n",
      " 'Loss/regularization_loss': 0.14437331,\n",
      " 'Loss/total_loss': 0.41258973,\n",
      " 'learning_rate': 0.07875605}\n",
      "I0501 17:18:30.266644 140436834506560 model_lib_v2.py:708] {'Loss/classification_loss': 0.1707999,\n",
      " 'Loss/localization_loss': 0.09741653,\n",
      " 'Loss/regularization_loss': 0.14437331,\n",
      " 'Loss/total_loss': 0.41258973,\n",
      " 'learning_rate': 0.07875605}\n",
      "INFO:tensorflow:Step 5000 per-step time 0.103s\n",
      "I0501 17:18:40.530984 140436834506560 model_lib_v2.py:705] Step 5000 per-step time 0.103s\n",
      "INFO:tensorflow:{'Loss/classification_loss': 0.27116722,\n",
      " 'Loss/localization_loss': 0.23276386,\n",
      " 'Loss/regularization_loss': 0.14382593,\n",
      " 'Loss/total_loss': 0.647757,\n",
      " 'learning_rate': 0.078691795}\n",
      "I0501 17:18:40.531299 140436834506560 model_lib_v2.py:708] {'Loss/classification_loss': 0.27116722,\n",
      " 'Loss/localization_loss': 0.23276386,\n",
      " 'Loss/regularization_loss': 0.14382593,\n",
      " 'Loss/total_loss': 0.647757,\n",
      " 'learning_rate': 0.078691795}\n",
      "INFO:tensorflow:Step 5100 per-step time 0.108s\n",
      "I0501 17:18:51.298691 140436834506560 model_lib_v2.py:705] Step 5100 per-step time 0.108s\n",
      "INFO:tensorflow:{'Loss/classification_loss': 0.09658333,\n",
      " 'Loss/localization_loss': 0.10363568,\n",
      " 'Loss/regularization_loss': 0.14333004,\n",
      " 'Loss/total_loss': 0.34354904,\n",
      " 'learning_rate': 0.07862595}\n",
      "I0501 17:18:51.298990 140436834506560 model_lib_v2.py:708] {'Loss/classification_loss': 0.09658333,\n",
      " 'Loss/localization_loss': 0.10363568,\n",
      " 'Loss/regularization_loss': 0.14333004,\n",
      " 'Loss/total_loss': 0.34354904,\n",
      " 'learning_rate': 0.07862595}\n",
      "INFO:tensorflow:Step 5200 per-step time 0.103s\n",
      "I0501 17:19:01.552462 140436834506560 model_lib_v2.py:705] Step 5200 per-step time 0.103s\n",
      "INFO:tensorflow:{'Loss/classification_loss': 0.11205487,\n",
      " 'Loss/localization_loss': 0.056591336,\n",
      " 'Loss/regularization_loss': 0.14275223,\n",
      " 'Loss/total_loss': 0.31139845,\n",
      " 'learning_rate': 0.07855851}\n",
      "I0501 17:19:01.552761 140436834506560 model_lib_v2.py:708] {'Loss/classification_loss': 0.11205487,\n",
      " 'Loss/localization_loss': 0.056591336,\n",
      " 'Loss/regularization_loss': 0.14275223,\n",
      " 'Loss/total_loss': 0.31139845,\n",
      " 'learning_rate': 0.07855851}\n"
     ]
    },
    {
     "name": "stdout",
     "output_type": "stream",
     "text": [
      "INFO:tensorflow:Step 5300 per-step time 0.103s\n",
      "I0501 17:19:11.837831 140436834506560 model_lib_v2.py:705] Step 5300 per-step time 0.103s\n",
      "INFO:tensorflow:{'Loss/classification_loss': 0.15129843,\n",
      " 'Loss/localization_loss': 0.109073274,\n",
      " 'Loss/regularization_loss': 0.14229582,\n",
      " 'Loss/total_loss': 0.40266752,\n",
      " 'learning_rate': 0.07848949}\n",
      "I0501 17:19:11.838144 140436834506560 model_lib_v2.py:708] {'Loss/classification_loss': 0.15129843,\n",
      " 'Loss/localization_loss': 0.109073274,\n",
      " 'Loss/regularization_loss': 0.14229582,\n",
      " 'Loss/total_loss': 0.40266752,\n",
      " 'learning_rate': 0.07848949}\n",
      "INFO:tensorflow:Step 5400 per-step time 0.104s\n",
      "I0501 17:19:22.196492 140436834506560 model_lib_v2.py:705] Step 5400 per-step time 0.104s\n",
      "INFO:tensorflow:{'Loss/classification_loss': 0.16392058,\n",
      " 'Loss/localization_loss': 0.19266313,\n",
      " 'Loss/regularization_loss': 0.14183669,\n",
      " 'Loss/total_loss': 0.49842042,\n",
      " 'learning_rate': 0.078418896}\n",
      "I0501 17:19:22.196787 140436834506560 model_lib_v2.py:708] {'Loss/classification_loss': 0.16392058,\n",
      " 'Loss/localization_loss': 0.19266313,\n",
      " 'Loss/regularization_loss': 0.14183669,\n",
      " 'Loss/total_loss': 0.49842042,\n",
      " 'learning_rate': 0.078418896}\n",
      "INFO:tensorflow:Step 5500 per-step time 0.103s\n",
      "I0501 17:19:32.508406 140436834506560 model_lib_v2.py:705] Step 5500 per-step time 0.103s\n",
      "INFO:tensorflow:{'Loss/classification_loss': 0.14446197,\n",
      " 'Loss/localization_loss': 0.14231536,\n",
      " 'Loss/regularization_loss': 0.14131767,\n",
      " 'Loss/total_loss': 0.42809498,\n",
      " 'learning_rate': 0.078346714}\n",
      "I0501 17:19:32.508758 140436834506560 model_lib_v2.py:708] {'Loss/classification_loss': 0.14446197,\n",
      " 'Loss/localization_loss': 0.14231536,\n",
      " 'Loss/regularization_loss': 0.14131767,\n",
      " 'Loss/total_loss': 0.42809498,\n",
      " 'learning_rate': 0.078346714}\n",
      "INFO:tensorflow:Step 5600 per-step time 0.103s\n",
      "I0501 17:19:42.849449 140436834506560 model_lib_v2.py:705] Step 5600 per-step time 0.103s\n",
      "INFO:tensorflow:{'Loss/classification_loss': 0.110967405,\n",
      " 'Loss/localization_loss': 0.0531155,\n",
      " 'Loss/regularization_loss': 0.14078301,\n",
      " 'Loss/total_loss': 0.3048659,\n",
      " 'learning_rate': 0.07827295}\n",
      "I0501 17:19:42.849805 140436834506560 model_lib_v2.py:708] {'Loss/classification_loss': 0.110967405,\n",
      " 'Loss/localization_loss': 0.0531155,\n",
      " 'Loss/regularization_loss': 0.14078301,\n",
      " 'Loss/total_loss': 0.3048659,\n",
      " 'learning_rate': 0.07827295}\n",
      "INFO:tensorflow:Step 5700 per-step time 0.103s\n",
      "I0501 17:19:53.183036 140436834506560 model_lib_v2.py:705] Step 5700 per-step time 0.103s\n",
      "INFO:tensorflow:{'Loss/classification_loss': 0.18120988,\n",
      " 'Loss/localization_loss': 0.13369355,\n",
      " 'Loss/regularization_loss': 0.1402504,\n",
      " 'Loss/total_loss': 0.45515382,\n",
      " 'learning_rate': 0.07819763}\n",
      "I0501 17:19:53.183337 140436834506560 model_lib_v2.py:708] {'Loss/classification_loss': 0.18120988,\n",
      " 'Loss/localization_loss': 0.13369355,\n",
      " 'Loss/regularization_loss': 0.1402504,\n",
      " 'Loss/total_loss': 0.45515382,\n",
      " 'learning_rate': 0.07819763}\n",
      "INFO:tensorflow:Step 5800 per-step time 0.103s\n",
      "I0501 17:20:03.446937 140436834506560 model_lib_v2.py:705] Step 5800 per-step time 0.103s\n",
      "INFO:tensorflow:{'Loss/classification_loss': 0.1593932,\n",
      " 'Loss/localization_loss': 0.21987112,\n",
      " 'Loss/regularization_loss': 0.1397524,\n",
      " 'Loss/total_loss': 0.51901674,\n",
      " 'learning_rate': 0.07812072}\n",
      "I0501 17:20:03.447263 140436834506560 model_lib_v2.py:708] {'Loss/classification_loss': 0.1593932,\n",
      " 'Loss/localization_loss': 0.21987112,\n",
      " 'Loss/regularization_loss': 0.1397524,\n",
      " 'Loss/total_loss': 0.51901674,\n",
      " 'learning_rate': 0.07812072}\n",
      "INFO:tensorflow:Step 5900 per-step time 0.103s\n",
      "I0501 17:20:13.703037 140436834506560 model_lib_v2.py:705] Step 5900 per-step time 0.103s\n",
      "INFO:tensorflow:{'Loss/classification_loss': 0.09449807,\n",
      " 'Loss/localization_loss': 0.070405886,\n",
      " 'Loss/regularization_loss': 0.13924196,\n",
      " 'Loss/total_loss': 0.30414593,\n",
      " 'learning_rate': 0.078042254}\n",
      "I0501 17:20:13.703330 140436834506560 model_lib_v2.py:708] {'Loss/classification_loss': 0.09449807,\n",
      " 'Loss/localization_loss': 0.070405886,\n",
      " 'Loss/regularization_loss': 0.13924196,\n",
      " 'Loss/total_loss': 0.30414593,\n",
      " 'learning_rate': 0.078042254}\n",
      "INFO:tensorflow:Step 6000 per-step time 0.103s\n",
      "I0501 17:20:24.053910 140436834506560 model_lib_v2.py:705] Step 6000 per-step time 0.103s\n",
      "INFO:tensorflow:{'Loss/classification_loss': 0.13460648,\n",
      " 'Loss/localization_loss': 0.09038966,\n",
      " 'Loss/regularization_loss': 0.13877165,\n",
      " 'Loss/total_loss': 0.3637678,\n",
      " 'learning_rate': 0.07796223}\n",
      "I0501 17:20:24.054245 140436834506560 model_lib_v2.py:708] {'Loss/classification_loss': 0.13460648,\n",
      " 'Loss/localization_loss': 0.09038966,\n",
      " 'Loss/regularization_loss': 0.13877165,\n",
      " 'Loss/total_loss': 0.3637678,\n",
      " 'learning_rate': 0.07796223}\n",
      "INFO:tensorflow:Step 6100 per-step time 0.108s\n",
      "I0501 17:20:34.807729 140436834506560 model_lib_v2.py:705] Step 6100 per-step time 0.108s\n",
      "INFO:tensorflow:{'Loss/classification_loss': 0.1397633,\n",
      " 'Loss/localization_loss': 0.12017962,\n",
      " 'Loss/regularization_loss': 0.13882114,\n",
      " 'Loss/total_loss': 0.39876407,\n",
      " 'learning_rate': 0.077880636}\n",
      "I0501 17:20:34.808056 140436834506560 model_lib_v2.py:708] {'Loss/classification_loss': 0.1397633,\n",
      " 'Loss/localization_loss': 0.12017962,\n",
      " 'Loss/regularization_loss': 0.13882114,\n",
      " 'Loss/total_loss': 0.39876407,\n",
      " 'learning_rate': 0.077880636}\n",
      "INFO:tensorflow:Step 6200 per-step time 0.104s\n",
      "I0501 17:20:45.209798 140436834506560 model_lib_v2.py:705] Step 6200 per-step time 0.104s\n",
      "INFO:tensorflow:{'Loss/classification_loss': 0.097286746,\n",
      " 'Loss/localization_loss': 0.09344276,\n",
      " 'Loss/regularization_loss': 0.13870953,\n",
      " 'Loss/total_loss': 0.32943904,\n",
      " 'learning_rate': 0.07779749}\n",
      "I0501 17:20:45.210134 140436834506560 model_lib_v2.py:708] {'Loss/classification_loss': 0.097286746,\n",
      " 'Loss/localization_loss': 0.09344276,\n",
      " 'Loss/regularization_loss': 0.13870953,\n",
      " 'Loss/total_loss': 0.32943904,\n",
      " 'learning_rate': 0.07779749}\n",
      "INFO:tensorflow:Step 6300 per-step time 0.103s\n",
      "I0501 17:20:55.552746 140436834506560 model_lib_v2.py:705] Step 6300 per-step time 0.103s\n",
      "INFO:tensorflow:{'Loss/classification_loss': 0.16779818,\n",
      " 'Loss/localization_loss': 0.14461583,\n",
      " 'Loss/regularization_loss': 0.13826467,\n",
      " 'Loss/total_loss': 0.45067865,\n",
      " 'learning_rate': 0.07771279}\n",
      "I0501 17:20:55.553041 140436834506560 model_lib_v2.py:708] {'Loss/classification_loss': 0.16779818,\n",
      " 'Loss/localization_loss': 0.14461583,\n",
      " 'Loss/regularization_loss': 0.13826467,\n",
      " 'Loss/total_loss': 0.45067865,\n",
      " 'learning_rate': 0.07771279}\n",
      "INFO:tensorflow:Step 6400 per-step time 0.104s\n",
      "I0501 17:21:05.954423 140436834506560 model_lib_v2.py:705] Step 6400 per-step time 0.104s\n",
      "INFO:tensorflow:{'Loss/classification_loss': 0.1338553,\n",
      " 'Loss/localization_loss': 0.11734114,\n",
      " 'Loss/regularization_loss': 0.13778977,\n",
      " 'Loss/total_loss': 0.38898623,\n",
      " 'learning_rate': 0.077626534}\n",
      "I0501 17:21:05.954725 140436834506560 model_lib_v2.py:708] {'Loss/classification_loss': 0.1338553,\n",
      " 'Loss/localization_loss': 0.11734114,\n",
      " 'Loss/regularization_loss': 0.13778977,\n",
      " 'Loss/total_loss': 0.38898623,\n",
      " 'learning_rate': 0.077626534}\n",
      "INFO:tensorflow:Step 6500 per-step time 0.103s\n",
      "I0501 17:21:16.262864 140436834506560 model_lib_v2.py:705] Step 6500 per-step time 0.103s\n",
      "INFO:tensorflow:{'Loss/classification_loss': 0.10483426,\n",
      " 'Loss/localization_loss': 0.06454203,\n",
      " 'Loss/regularization_loss': 0.13732368,\n",
      " 'Loss/total_loss': 0.30669996,\n",
      " 'learning_rate': 0.077538736}\n",
      "I0501 17:21:16.263176 140436834506560 model_lib_v2.py:708] {'Loss/classification_loss': 0.10483426,\n",
      " 'Loss/localization_loss': 0.06454203,\n",
      " 'Loss/regularization_loss': 0.13732368,\n",
      " 'Loss/total_loss': 0.30669996,\n",
      " 'learning_rate': 0.077538736}\n",
      "INFO:tensorflow:Step 6600 per-step time 0.104s\n",
      "I0501 17:21:26.647354 140436834506560 model_lib_v2.py:705] Step 6600 per-step time 0.104s\n",
      "INFO:tensorflow:{'Loss/classification_loss': 0.105902724,\n",
      " 'Loss/localization_loss': 0.13039087,\n",
      " 'Loss/regularization_loss': 0.13691497,\n",
      " 'Loss/total_loss': 0.37320855,\n",
      " 'learning_rate': 0.077449396}\n",
      "I0501 17:21:26.647664 140436834506560 model_lib_v2.py:708] {'Loss/classification_loss': 0.105902724,\n",
      " 'Loss/localization_loss': 0.13039087,\n",
      " 'Loss/regularization_loss': 0.13691497,\n",
      " 'Loss/total_loss': 0.37320855,\n",
      " 'learning_rate': 0.077449396}\n",
      "INFO:tensorflow:Step 6700 per-step time 0.104s\n",
      "I0501 17:21:37.067971 140436834506560 model_lib_v2.py:705] Step 6700 per-step time 0.104s\n",
      "INFO:tensorflow:{'Loss/classification_loss': 0.16198184,\n",
      " 'Loss/localization_loss': 0.13333715,\n",
      " 'Loss/regularization_loss': 0.13640617,\n",
      " 'Loss/total_loss': 0.43172514,\n",
      " 'learning_rate': 0.077358514}\n",
      "I0501 17:21:37.068654 140436834506560 model_lib_v2.py:708] {'Loss/classification_loss': 0.16198184,\n",
      " 'Loss/localization_loss': 0.13333715,\n",
      " 'Loss/regularization_loss': 0.13640617,\n",
      " 'Loss/total_loss': 0.43172514,\n",
      " 'learning_rate': 0.077358514}\n"
     ]
    },
    {
     "name": "stdout",
     "output_type": "stream",
     "text": [
      "INFO:tensorflow:Step 6800 per-step time 0.105s\n",
      "I0501 17:21:47.601620 140436834506560 model_lib_v2.py:705] Step 6800 per-step time 0.105s\n",
      "INFO:tensorflow:{'Loss/classification_loss': 0.09043849,\n",
      " 'Loss/localization_loss': 0.070676245,\n",
      " 'Loss/regularization_loss': 0.13610294,\n",
      " 'Loss/total_loss': 0.29721767,\n",
      " 'learning_rate': 0.0772661}\n",
      "I0501 17:21:47.601894 140436834506560 model_lib_v2.py:708] {'Loss/classification_loss': 0.09043849,\n",
      " 'Loss/localization_loss': 0.070676245,\n",
      " 'Loss/regularization_loss': 0.13610294,\n",
      " 'Loss/total_loss': 0.29721767,\n",
      " 'learning_rate': 0.0772661}\n",
      "INFO:tensorflow:Step 6900 per-step time 0.105s\n",
      "I0501 17:21:58.084041 140436834506560 model_lib_v2.py:705] Step 6900 per-step time 0.105s\n",
      "INFO:tensorflow:{'Loss/classification_loss': 0.12175227,\n",
      " 'Loss/localization_loss': 0.103331156,\n",
      " 'Loss/regularization_loss': 0.13561505,\n",
      " 'Loss/total_loss': 0.36069846,\n",
      " 'learning_rate': 0.077172145}\n",
      "I0501 17:21:58.084544 140436834506560 model_lib_v2.py:708] {'Loss/classification_loss': 0.12175227,\n",
      " 'Loss/localization_loss': 0.103331156,\n",
      " 'Loss/regularization_loss': 0.13561505,\n",
      " 'Loss/total_loss': 0.36069846,\n",
      " 'learning_rate': 0.077172145}\n",
      "INFO:tensorflow:Step 7000 per-step time 0.104s\n",
      "I0501 17:22:08.466300 140436834506560 model_lib_v2.py:705] Step 7000 per-step time 0.104s\n",
      "INFO:tensorflow:{'Loss/classification_loss': 0.1291457,\n",
      " 'Loss/localization_loss': 0.090990946,\n",
      " 'Loss/regularization_loss': 0.13517827,\n",
      " 'Loss/total_loss': 0.3553149,\n",
      " 'learning_rate': 0.07707667}\n",
      "I0501 17:22:08.466616 140436834506560 model_lib_v2.py:708] {'Loss/classification_loss': 0.1291457,\n",
      " 'Loss/localization_loss': 0.090990946,\n",
      " 'Loss/regularization_loss': 0.13517827,\n",
      " 'Loss/total_loss': 0.3553149,\n",
      " 'learning_rate': 0.07707667}\n",
      "INFO:tensorflow:Step 7100 per-step time 0.108s\n",
      "I0501 17:22:19.231770 140436834506560 model_lib_v2.py:705] Step 7100 per-step time 0.108s\n",
      "INFO:tensorflow:{'Loss/classification_loss': 0.12863952,\n",
      " 'Loss/localization_loss': 0.14377625,\n",
      " 'Loss/regularization_loss': 0.13477814,\n",
      " 'Loss/total_loss': 0.4071939,\n",
      " 'learning_rate': 0.07697967}\n",
      "I0501 17:22:19.232141 140436834506560 model_lib_v2.py:708] {'Loss/classification_loss': 0.12863952,\n",
      " 'Loss/localization_loss': 0.14377625,\n",
      " 'Loss/regularization_loss': 0.13477814,\n",
      " 'Loss/total_loss': 0.4071939,\n",
      " 'learning_rate': 0.07697967}\n",
      "INFO:tensorflow:Step 7200 per-step time 0.104s\n",
      "I0501 17:22:29.618421 140436834506560 model_lib_v2.py:705] Step 7200 per-step time 0.104s\n",
      "INFO:tensorflow:{'Loss/classification_loss': 0.099779695,\n",
      " 'Loss/localization_loss': 0.049607087,\n",
      " 'Loss/regularization_loss': 0.13434702,\n",
      " 'Loss/total_loss': 0.2837338,\n",
      " 'learning_rate': 0.07688115}\n",
      "I0501 17:22:29.618730 140436834506560 model_lib_v2.py:708] {'Loss/classification_loss': 0.099779695,\n",
      " 'Loss/localization_loss': 0.049607087,\n",
      " 'Loss/regularization_loss': 0.13434702,\n",
      " 'Loss/total_loss': 0.2837338,\n",
      " 'learning_rate': 0.07688115}\n",
      "INFO:tensorflow:Step 7300 per-step time 0.103s\n",
      "I0501 17:22:39.956381 140436834506560 model_lib_v2.py:705] Step 7300 per-step time 0.103s\n",
      "INFO:tensorflow:{'Loss/classification_loss': 0.082659185,\n",
      " 'Loss/localization_loss': 0.06381579,\n",
      " 'Loss/regularization_loss': 0.13393478,\n",
      " 'Loss/total_loss': 0.28040975,\n",
      " 'learning_rate': 0.07678111}\n",
      "I0501 17:22:39.956723 140436834506560 model_lib_v2.py:708] {'Loss/classification_loss': 0.082659185,\n",
      " 'Loss/localization_loss': 0.06381579,\n",
      " 'Loss/regularization_loss': 0.13393478,\n",
      " 'Loss/total_loss': 0.28040975,\n",
      " 'learning_rate': 0.07678111}\n",
      "INFO:tensorflow:Step 7400 per-step time 0.104s\n",
      "I0501 17:22:50.316860 140436834506560 model_lib_v2.py:705] Step 7400 per-step time 0.104s\n",
      "INFO:tensorflow:{'Loss/classification_loss': 0.26821423,\n",
      " 'Loss/localization_loss': 0.13667676,\n",
      " 'Loss/regularization_loss': 0.13352387,\n",
      " 'Loss/total_loss': 0.53841484,\n",
      " 'learning_rate': 0.076679565}\n",
      "I0501 17:22:50.317144 140436834506560 model_lib_v2.py:708] {'Loss/classification_loss': 0.26821423,\n",
      " 'Loss/localization_loss': 0.13667676,\n",
      " 'Loss/regularization_loss': 0.13352387,\n",
      " 'Loss/total_loss': 0.53841484,\n",
      " 'learning_rate': 0.076679565}\n",
      "INFO:tensorflow:Step 7500 per-step time 0.106s\n",
      "I0501 17:23:00.901817 140436834506560 model_lib_v2.py:705] Step 7500 per-step time 0.106s\n",
      "INFO:tensorflow:{'Loss/classification_loss': 0.07636333,\n",
      " 'Loss/localization_loss': 0.0684261,\n",
      " 'Loss/regularization_loss': 0.13301693,\n",
      " 'Loss/total_loss': 0.27780634,\n",
      " 'learning_rate': 0.0765765}\n",
      "I0501 17:23:00.902122 140436834506560 model_lib_v2.py:708] {'Loss/classification_loss': 0.07636333,\n",
      " 'Loss/localization_loss': 0.0684261,\n",
      " 'Loss/regularization_loss': 0.13301693,\n",
      " 'Loss/total_loss': 0.27780634,\n",
      " 'learning_rate': 0.0765765}\n",
      "INFO:tensorflow:Step 7600 per-step time 0.105s\n",
      "I0501 17:23:11.396981 140436834506560 model_lib_v2.py:705] Step 7600 per-step time 0.105s\n",
      "INFO:tensorflow:{'Loss/classification_loss': 0.11152907,\n",
      " 'Loss/localization_loss': 0.105642,\n",
      " 'Loss/regularization_loss': 0.13248737,\n",
      " 'Loss/total_loss': 0.34965843,\n",
      " 'learning_rate': 0.07647194}\n",
      "I0501 17:23:11.397365 140436834506560 model_lib_v2.py:708] {'Loss/classification_loss': 0.11152907,\n",
      " 'Loss/localization_loss': 0.105642,\n",
      " 'Loss/regularization_loss': 0.13248737,\n",
      " 'Loss/total_loss': 0.34965843,\n",
      " 'learning_rate': 0.07647194}\n",
      "INFO:tensorflow:Step 7700 per-step time 0.106s\n",
      "I0501 17:23:22.007995 140436834506560 model_lib_v2.py:705] Step 7700 per-step time 0.106s\n",
      "INFO:tensorflow:{'Loss/classification_loss': 0.09051701,\n",
      " 'Loss/localization_loss': 0.05356734,\n",
      " 'Loss/regularization_loss': 0.13197471,\n",
      " 'Loss/total_loss': 0.27605906,\n",
      " 'learning_rate': 0.07636588}\n",
      "I0501 17:23:22.008351 140436834506560 model_lib_v2.py:708] {'Loss/classification_loss': 0.09051701,\n",
      " 'Loss/localization_loss': 0.05356734,\n",
      " 'Loss/regularization_loss': 0.13197471,\n",
      " 'Loss/total_loss': 0.27605906,\n",
      " 'learning_rate': 0.07636588}\n",
      "INFO:tensorflow:Step 7800 per-step time 0.104s\n",
      "I0501 17:23:32.375600 140436834506560 model_lib_v2.py:705] Step 7800 per-step time 0.104s\n",
      "INFO:tensorflow:{'Loss/classification_loss': 0.1415126,\n",
      " 'Loss/localization_loss': 0.055077422,\n",
      " 'Loss/regularization_loss': 0.13150513,\n",
      " 'Loss/total_loss': 0.32809514,\n",
      " 'learning_rate': 0.07625833}\n",
      "I0501 17:23:32.375922 140436834506560 model_lib_v2.py:708] {'Loss/classification_loss': 0.1415126,\n",
      " 'Loss/localization_loss': 0.055077422,\n",
      " 'Loss/regularization_loss': 0.13150513,\n",
      " 'Loss/total_loss': 0.32809514,\n",
      " 'learning_rate': 0.07625833}\n",
      "INFO:tensorflow:Step 7900 per-step time 0.106s\n",
      "I0501 17:23:42.997076 140436834506560 model_lib_v2.py:705] Step 7900 per-step time 0.106s\n",
      "INFO:tensorflow:{'Loss/classification_loss': 0.121702954,\n",
      " 'Loss/localization_loss': 0.0758596,\n",
      " 'Loss/regularization_loss': 0.13099112,\n",
      " 'Loss/total_loss': 0.32855368,\n",
      " 'learning_rate': 0.07614928}\n",
      "I0501 17:23:42.997412 140436834506560 model_lib_v2.py:708] {'Loss/classification_loss': 0.121702954,\n",
      " 'Loss/localization_loss': 0.0758596,\n",
      " 'Loss/regularization_loss': 0.13099112,\n",
      " 'Loss/total_loss': 0.32855368,\n",
      " 'learning_rate': 0.07614928}\n",
      "INFO:tensorflow:Step 8000 per-step time 0.106s\n",
      "I0501 17:23:53.565285 140436834506560 model_lib_v2.py:705] Step 8000 per-step time 0.106s\n",
      "INFO:tensorflow:{'Loss/classification_loss': 0.083482884,\n",
      " 'Loss/localization_loss': 0.055080082,\n",
      " 'Loss/regularization_loss': 0.13096865,\n",
      " 'Loss/total_loss': 0.2695316,\n",
      " 'learning_rate': 0.07603875}\n",
      "I0501 17:23:53.565563 140436834506560 model_lib_v2.py:708] {'Loss/classification_loss': 0.083482884,\n",
      " 'Loss/localization_loss': 0.055080082,\n",
      " 'Loss/regularization_loss': 0.13096865,\n",
      " 'Loss/total_loss': 0.2695316,\n",
      " 'learning_rate': 0.07603875}\n",
      "INFO:tensorflow:Step 8100 per-step time 0.110s\n",
      "I0501 17:24:04.553436 140436834506560 model_lib_v2.py:705] Step 8100 per-step time 0.110s\n",
      "INFO:tensorflow:{'Loss/classification_loss': 0.23200405,\n",
      " 'Loss/localization_loss': 0.25836366,\n",
      " 'Loss/regularization_loss': 0.13049088,\n",
      " 'Loss/total_loss': 0.6208586,\n",
      " 'learning_rate': 0.07592674}\n",
      "I0501 17:24:04.553739 140436834506560 model_lib_v2.py:708] {'Loss/classification_loss': 0.23200405,\n",
      " 'Loss/localization_loss': 0.25836366,\n",
      " 'Loss/regularization_loss': 0.13049088,\n",
      " 'Loss/total_loss': 0.6208586,\n",
      " 'learning_rate': 0.07592674}\n",
      "INFO:tensorflow:Step 8200 per-step time 0.104s\n",
      "I0501 17:24:14.957117 140436834506560 model_lib_v2.py:705] Step 8200 per-step time 0.104s\n",
      "INFO:tensorflow:{'Loss/classification_loss': 0.102437526,\n",
      " 'Loss/localization_loss': 0.050697856,\n",
      " 'Loss/regularization_loss': 0.13007107,\n",
      " 'Loss/total_loss': 0.28320646,\n",
      " 'learning_rate': 0.075813256}\n",
      "I0501 17:24:14.957555 140436834506560 model_lib_v2.py:708] {'Loss/classification_loss': 0.102437526,\n",
      " 'Loss/localization_loss': 0.050697856,\n",
      " 'Loss/regularization_loss': 0.13007107,\n",
      " 'Loss/total_loss': 0.28320646,\n",
      " 'learning_rate': 0.075813256}\n"
     ]
    },
    {
     "name": "stdout",
     "output_type": "stream",
     "text": [
      "INFO:tensorflow:Step 8300 per-step time 0.104s\n",
      "I0501 17:24:25.365121 140436834506560 model_lib_v2.py:705] Step 8300 per-step time 0.104s\n",
      "INFO:tensorflow:{'Loss/classification_loss': 0.106021605,\n",
      " 'Loss/localization_loss': 0.18284892,\n",
      " 'Loss/regularization_loss': 0.12958448,\n",
      " 'Loss/total_loss': 0.418455,\n",
      " 'learning_rate': 0.07569829}\n",
      "I0501 17:24:25.365420 140436834506560 model_lib_v2.py:708] {'Loss/classification_loss': 0.106021605,\n",
      " 'Loss/localization_loss': 0.18284892,\n",
      " 'Loss/regularization_loss': 0.12958448,\n",
      " 'Loss/total_loss': 0.418455,\n",
      " 'learning_rate': 0.07569829}\n",
      "INFO:tensorflow:Step 8400 per-step time 0.104s\n",
      "I0501 17:24:35.760452 140436834506560 model_lib_v2.py:705] Step 8400 per-step time 0.104s\n",
      "INFO:tensorflow:{'Loss/classification_loss': 0.17391157,\n",
      " 'Loss/localization_loss': 0.12802869,\n",
      " 'Loss/regularization_loss': 0.12909484,\n",
      " 'Loss/total_loss': 0.4310351,\n",
      " 'learning_rate': 0.07558186}\n",
      "I0501 17:24:35.760783 140436834506560 model_lib_v2.py:708] {'Loss/classification_loss': 0.17391157,\n",
      " 'Loss/localization_loss': 0.12802869,\n",
      " 'Loss/regularization_loss': 0.12909484,\n",
      " 'Loss/total_loss': 0.4310351,\n",
      " 'learning_rate': 0.07558186}\n",
      "INFO:tensorflow:Step 8500 per-step time 0.104s\n",
      "I0501 17:24:46.164857 140436834506560 model_lib_v2.py:705] Step 8500 per-step time 0.104s\n",
      "INFO:tensorflow:{'Loss/classification_loss': 0.11692439,\n",
      " 'Loss/localization_loss': 0.12722327,\n",
      " 'Loss/regularization_loss': 0.12865622,\n",
      " 'Loss/total_loss': 0.37280387,\n",
      " 'learning_rate': 0.07546397}\n",
      "I0501 17:24:46.165158 140436834506560 model_lib_v2.py:708] {'Loss/classification_loss': 0.11692439,\n",
      " 'Loss/localization_loss': 0.12722327,\n",
      " 'Loss/regularization_loss': 0.12865622,\n",
      " 'Loss/total_loss': 0.37280387,\n",
      " 'learning_rate': 0.07546397}\n",
      "INFO:tensorflow:Step 8600 per-step time 0.103s\n",
      "I0501 17:24:56.512804 140436834506560 model_lib_v2.py:705] Step 8600 per-step time 0.103s\n",
      "INFO:tensorflow:{'Loss/classification_loss': 0.109565385,\n",
      " 'Loss/localization_loss': 0.043772765,\n",
      " 'Loss/regularization_loss': 0.12823798,\n",
      " 'Loss/total_loss': 0.28157613,\n",
      " 'learning_rate': 0.075344615}\n",
      "I0501 17:24:56.513112 140436834506560 model_lib_v2.py:708] {'Loss/classification_loss': 0.109565385,\n",
      " 'Loss/localization_loss': 0.043772765,\n",
      " 'Loss/regularization_loss': 0.12823798,\n",
      " 'Loss/total_loss': 0.28157613,\n",
      " 'learning_rate': 0.075344615}\n",
      "INFO:tensorflow:Step 8700 per-step time 0.103s\n",
      "I0501 17:25:06.861159 140436834506560 model_lib_v2.py:705] Step 8700 per-step time 0.103s\n",
      "INFO:tensorflow:{'Loss/classification_loss': 0.070362225,\n",
      " 'Loss/localization_loss': 0.049546715,\n",
      " 'Loss/regularization_loss': 0.12771985,\n",
      " 'Loss/total_loss': 0.2476288,\n",
      " 'learning_rate': 0.07522382}\n",
      "I0501 17:25:06.861463 140436834506560 model_lib_v2.py:708] {'Loss/classification_loss': 0.070362225,\n",
      " 'Loss/localization_loss': 0.049546715,\n",
      " 'Loss/regularization_loss': 0.12771985,\n",
      " 'Loss/total_loss': 0.2476288,\n",
      " 'learning_rate': 0.07522382}\n",
      "INFO:tensorflow:Step 8800 per-step time 0.104s\n",
      "I0501 17:25:17.228398 140436834506560 model_lib_v2.py:705] Step 8800 per-step time 0.104s\n",
      "INFO:tensorflow:{'Loss/classification_loss': 0.068682484,\n",
      " 'Loss/localization_loss': 0.069368504,\n",
      " 'Loss/regularization_loss': 0.12730744,\n",
      " 'Loss/total_loss': 0.26535845,\n",
      " 'learning_rate': 0.07510157}\n",
      "I0501 17:25:17.228692 140436834506560 model_lib_v2.py:708] {'Loss/classification_loss': 0.068682484,\n",
      " 'Loss/localization_loss': 0.069368504,\n",
      " 'Loss/regularization_loss': 0.12730744,\n",
      " 'Loss/total_loss': 0.26535845,\n",
      " 'learning_rate': 0.07510157}\n",
      "INFO:tensorflow:Step 8900 per-step time 0.104s\n",
      "I0501 17:25:27.603681 140436834506560 model_lib_v2.py:705] Step 8900 per-step time 0.104s\n",
      "INFO:tensorflow:{'Loss/classification_loss': 0.086828455,\n",
      " 'Loss/localization_loss': 0.0559186,\n",
      " 'Loss/regularization_loss': 0.126849,\n",
      " 'Loss/total_loss': 0.26959604,\n",
      " 'learning_rate': 0.074977875}\n",
      "I0501 17:25:27.604043 140436834506560 model_lib_v2.py:708] {'Loss/classification_loss': 0.086828455,\n",
      " 'Loss/localization_loss': 0.0559186,\n",
      " 'Loss/regularization_loss': 0.126849,\n",
      " 'Loss/total_loss': 0.26959604,\n",
      " 'learning_rate': 0.074977875}\n",
      "INFO:tensorflow:Step 9000 per-step time 0.104s\n",
      "I0501 17:25:37.956294 140436834506560 model_lib_v2.py:705] Step 9000 per-step time 0.104s\n",
      "INFO:tensorflow:{'Loss/classification_loss': 0.12814362,\n",
      " 'Loss/localization_loss': 0.0432131,\n",
      " 'Loss/regularization_loss': 0.12634213,\n",
      " 'Loss/total_loss': 0.29769886,\n",
      " 'learning_rate': 0.07485275}\n",
      "I0501 17:25:37.956601 140436834506560 model_lib_v2.py:708] {'Loss/classification_loss': 0.12814362,\n",
      " 'Loss/localization_loss': 0.0432131,\n",
      " 'Loss/regularization_loss': 0.12634213,\n",
      " 'Loss/total_loss': 0.29769886,\n",
      " 'learning_rate': 0.07485275}\n",
      "INFO:tensorflow:Step 9100 per-step time 0.107s\n",
      "I0501 17:25:48.666152 140436834506560 model_lib_v2.py:705] Step 9100 per-step time 0.107s\n",
      "INFO:tensorflow:{'Loss/classification_loss': 0.076813266,\n",
      " 'Loss/localization_loss': 0.051495347,\n",
      " 'Loss/regularization_loss': 0.12595019,\n",
      " 'Loss/total_loss': 0.2542588,\n",
      " 'learning_rate': 0.07472619}\n",
      "I0501 17:25:48.666459 140436834506560 model_lib_v2.py:708] {'Loss/classification_loss': 0.076813266,\n",
      " 'Loss/localization_loss': 0.051495347,\n",
      " 'Loss/regularization_loss': 0.12595019,\n",
      " 'Loss/total_loss': 0.2542588,\n",
      " 'learning_rate': 0.07472619}\n",
      "INFO:tensorflow:Step 9200 per-step time 0.104s\n",
      "I0501 17:25:59.045834 140436834506560 model_lib_v2.py:705] Step 9200 per-step time 0.104s\n",
      "INFO:tensorflow:{'Loss/classification_loss': 0.16065048,\n",
      " 'Loss/localization_loss': 0.13015935,\n",
      " 'Loss/regularization_loss': 0.12548102,\n",
      " 'Loss/total_loss': 0.41629082,\n",
      " 'learning_rate': 0.07459819}\n",
      "I0501 17:25:59.046165 140436834506560 model_lib_v2.py:708] {'Loss/classification_loss': 0.16065048,\n",
      " 'Loss/localization_loss': 0.13015935,\n",
      " 'Loss/regularization_loss': 0.12548102,\n",
      " 'Loss/total_loss': 0.41629082,\n",
      " 'learning_rate': 0.07459819}\n",
      "INFO:tensorflow:Step 9300 per-step time 0.103s\n",
      "I0501 17:26:09.358308 140436834506560 model_lib_v2.py:705] Step 9300 per-step time 0.103s\n",
      "INFO:tensorflow:{'Loss/classification_loss': 0.11629338,\n",
      " 'Loss/localization_loss': 0.060072634,\n",
      " 'Loss/regularization_loss': 0.12499053,\n",
      " 'Loss/total_loss': 0.30135655,\n",
      " 'learning_rate': 0.074468784}\n",
      "I0501 17:26:09.358619 140436834506560 model_lib_v2.py:708] {'Loss/classification_loss': 0.11629338,\n",
      " 'Loss/localization_loss': 0.060072634,\n",
      " 'Loss/regularization_loss': 0.12499053,\n",
      " 'Loss/total_loss': 0.30135655,\n",
      " 'learning_rate': 0.074468784}\n",
      "INFO:tensorflow:Step 9400 per-step time 0.105s\n",
      "I0501 17:26:19.866126 140436834506560 model_lib_v2.py:705] Step 9400 per-step time 0.105s\n",
      "INFO:tensorflow:{'Loss/classification_loss': 0.12701242,\n",
      " 'Loss/localization_loss': 0.1053328,\n",
      " 'Loss/regularization_loss': 0.12452961,\n",
      " 'Loss/total_loss': 0.35687482,\n",
      " 'learning_rate': 0.074337944}\n",
      "I0501 17:26:19.866453 140436834506560 model_lib_v2.py:708] {'Loss/classification_loss': 0.12701242,\n",
      " 'Loss/localization_loss': 0.1053328,\n",
      " 'Loss/regularization_loss': 0.12452961,\n",
      " 'Loss/total_loss': 0.35687482,\n",
      " 'learning_rate': 0.074337944}\n",
      "INFO:tensorflow:Step 9500 per-step time 0.104s\n",
      "I0501 17:26:30.270370 140436834506560 model_lib_v2.py:705] Step 9500 per-step time 0.104s\n",
      "INFO:tensorflow:{'Loss/classification_loss': 0.10249182,\n",
      " 'Loss/localization_loss': 0.05749063,\n",
      " 'Loss/regularization_loss': 0.124062724,\n",
      " 'Loss/total_loss': 0.28404516,\n",
      " 'learning_rate': 0.074205704}\n",
      "I0501 17:26:30.270685 140436834506560 model_lib_v2.py:708] {'Loss/classification_loss': 0.10249182,\n",
      " 'Loss/localization_loss': 0.05749063,\n",
      " 'Loss/regularization_loss': 0.124062724,\n",
      " 'Loss/total_loss': 0.28404516,\n",
      " 'learning_rate': 0.074205704}\n",
      "INFO:tensorflow:Step 9600 per-step time 0.107s\n",
      "I0501 17:26:40.957958 140436834506560 model_lib_v2.py:705] Step 9600 per-step time 0.107s\n",
      "INFO:tensorflow:{'Loss/classification_loss': 0.13866015,\n",
      " 'Loss/localization_loss': 0.067577526,\n",
      " 'Loss/regularization_loss': 0.12356427,\n",
      " 'Loss/total_loss': 0.32980195,\n",
      " 'learning_rate': 0.07407206}\n",
      "I0501 17:26:40.958266 140436834506560 model_lib_v2.py:708] {'Loss/classification_loss': 0.13866015,\n",
      " 'Loss/localization_loss': 0.067577526,\n",
      " 'Loss/regularization_loss': 0.12356427,\n",
      " 'Loss/total_loss': 0.32980195,\n",
      " 'learning_rate': 0.07407206}\n",
      "INFO:tensorflow:Step 9700 per-step time 0.104s\n",
      "I0501 17:26:51.330730 140436834506560 model_lib_v2.py:705] Step 9700 per-step time 0.104s\n",
      "INFO:tensorflow:{'Loss/classification_loss': 0.09282979,\n",
      " 'Loss/localization_loss': 0.047249928,\n",
      " 'Loss/regularization_loss': 0.12313394,\n",
      " 'Loss/total_loss': 0.26321366,\n",
      " 'learning_rate': 0.073937014}\n",
      "I0501 17:26:51.331025 140436834506560 model_lib_v2.py:708] {'Loss/classification_loss': 0.09282979,\n",
      " 'Loss/localization_loss': 0.047249928,\n",
      " 'Loss/regularization_loss': 0.12313394,\n",
      " 'Loss/total_loss': 0.26321366,\n",
      " 'learning_rate': 0.073937014}\n"
     ]
    },
    {
     "name": "stdout",
     "output_type": "stream",
     "text": [
      "INFO:tensorflow:Step 9800 per-step time 0.105s\n",
      "I0501 17:27:01.819067 140436834506560 model_lib_v2.py:705] Step 9800 per-step time 0.105s\n",
      "INFO:tensorflow:{'Loss/classification_loss': 0.070866525,\n",
      " 'Loss/localization_loss': 0.032527562,\n",
      " 'Loss/regularization_loss': 0.122705124,\n",
      " 'Loss/total_loss': 0.22609922,\n",
      " 'learning_rate': 0.07380057}\n",
      "I0501 17:27:01.819370 140436834506560 model_lib_v2.py:708] {'Loss/classification_loss': 0.070866525,\n",
      " 'Loss/localization_loss': 0.032527562,\n",
      " 'Loss/regularization_loss': 0.122705124,\n",
      " 'Loss/total_loss': 0.22609922,\n",
      " 'learning_rate': 0.07380057}\n",
      "INFO:tensorflow:Step 9900 per-step time 0.104s\n",
      "I0501 17:27:12.199084 140436834506560 model_lib_v2.py:705] Step 9900 per-step time 0.104s\n",
      "INFO:tensorflow:{'Loss/classification_loss': 0.1565748,\n",
      " 'Loss/localization_loss': 0.15929681,\n",
      " 'Loss/regularization_loss': 0.12225411,\n",
      " 'Loss/total_loss': 0.4381257,\n",
      " 'learning_rate': 0.073662736}\n",
      "I0501 17:27:12.199410 140436834506560 model_lib_v2.py:708] {'Loss/classification_loss': 0.1565748,\n",
      " 'Loss/localization_loss': 0.15929681,\n",
      " 'Loss/regularization_loss': 0.12225411,\n",
      " 'Loss/total_loss': 0.4381257,\n",
      " 'learning_rate': 0.073662736}\n",
      "INFO:tensorflow:Step 10000 per-step time 0.102s\n",
      "I0501 17:27:22.431158 140436834506560 model_lib_v2.py:705] Step 10000 per-step time 0.102s\n",
      "INFO:tensorflow:{'Loss/classification_loss': 0.082334645,\n",
      " 'Loss/localization_loss': 0.09242215,\n",
      " 'Loss/regularization_loss': 0.121818095,\n",
      " 'Loss/total_loss': 0.2965749,\n",
      " 'learning_rate': 0.07352352}\n",
      "I0501 17:27:22.431454 140436834506560 model_lib_v2.py:708] {'Loss/classification_loss': 0.082334645,\n",
      " 'Loss/localization_loss': 0.09242215,\n",
      " 'Loss/regularization_loss': 0.121818095,\n",
      " 'Loss/total_loss': 0.2965749,\n",
      " 'learning_rate': 0.07352352}\n"
     ]
    }
   ],
   "source": [
    "!{command}"
   ]
  },
  {
   "cell_type": "markdown",
   "metadata": {
    "id": "4_YRZu7npfDH"
   },
   "source": [
    "# 7. Evaluate the Model"
   ]
  },
  {
   "cell_type": "code",
   "execution_count": 20,
   "metadata": {
    "id": "80L7-fdPpfDH"
   },
   "outputs": [],
   "source": [
    "command = \"python {} --model_dir={} --pipeline_config_path={} --checkpoint_dir={}\".format(TRAINING_SCRIPT, paths['CHECKPOINT_PATH'],files['PIPELINE_CONFIG'], paths['CHECKPOINT_PATH'])"
   ]
  },
  {
   "cell_type": "code",
   "execution_count": 21,
   "metadata": {
    "colab": {
     "base_uri": "https://localhost:8080/"
    },
    "id": "lYsgEPx9pfDH",
    "outputId": "8632d48b-91d2-45d9-bcb8-c1b172bf6eed"
   },
   "outputs": [
    {
     "name": "stdout",
     "output_type": "stream",
     "text": [
      "python Tensorflow\\models\\research\\object_detection\\model_main_tf2.py --model_dir=Tensorflow\\workspace\\models\\my_ssd_mobnet --pipeline_config_path=Tensorflow\\workspace\\models\\my_ssd_mobnet\\pipeline.config --checkpoint_dir=Tensorflow\\workspace\\models\\my_ssd_mobnet\n"
     ]
    }
   ],
   "source": [
    "print(command)"
   ]
  },
  {
   "cell_type": "code",
   "execution_count": 22,
   "metadata": {
    "id": "lqTV2jGBpfDH"
   },
   "outputs": [
    {
     "name": "stdout",
     "output_type": "stream",
     "text": [
      "^C\n"
     ]
    }
   ],
   "source": [
    "!{command}"
   ]
  },
  {
   "cell_type": "markdown",
   "metadata": {
    "id": "orvRk02UpfDI"
   },
   "source": [
    "# 8. Load Train Model From Checkpoint"
   ]
  },
  {
   "cell_type": "code",
   "execution_count": 11,
   "metadata": {
    "id": "8TYk4_oIpfDI"
   },
   "outputs": [],
   "source": [
    "import os\n",
    "import tensorflow as tf\n",
    "from object_detection.utils import label_map_util\n",
    "from object_detection.utils import visualization_utils as viz_utils\n",
    "from object_detection.builders import model_builder\n",
    "from object_detection.utils import config_util"
   ]
  },
  {
   "cell_type": "code",
   "execution_count": 12,
   "metadata": {
    "id": "tDnQg-cYpfDI"
   },
   "outputs": [
    {
     "name": "stderr",
     "output_type": "stream",
     "text": [
      "2022-05-02 04:02:01.990305: I tensorflow/stream_executor/cuda/cuda_gpu_executor.cc:936] successful NUMA node read from SysFS had negative value (-1), but there must be at least one NUMA node, so returning NUMA node zero\n",
      "2022-05-02 04:02:01.999978: I tensorflow/stream_executor/cuda/cuda_gpu_executor.cc:936] successful NUMA node read from SysFS had negative value (-1), but there must be at least one NUMA node, so returning NUMA node zero\n",
      "2022-05-02 04:02:02.000643: I tensorflow/stream_executor/cuda/cuda_gpu_executor.cc:936] successful NUMA node read from SysFS had negative value (-1), but there must be at least one NUMA node, so returning NUMA node zero\n",
      "2022-05-02 04:02:02.002344: I tensorflow/core/platform/cpu_feature_guard.cc:151] This TensorFlow binary is optimized with oneAPI Deep Neural Network Library (oneDNN) to use the following CPU instructions in performance-critical operations:  AVX2 FMA\n",
      "To enable them in other operations, rebuild TensorFlow with the appropriate compiler flags.\n",
      "2022-05-02 04:02:02.022042: I tensorflow/stream_executor/cuda/cuda_gpu_executor.cc:936] successful NUMA node read from SysFS had negative value (-1), but there must be at least one NUMA node, so returning NUMA node zero\n",
      "2022-05-02 04:02:02.022946: I tensorflow/stream_executor/cuda/cuda_gpu_executor.cc:936] successful NUMA node read from SysFS had negative value (-1), but there must be at least one NUMA node, so returning NUMA node zero\n",
      "2022-05-02 04:02:02.023574: I tensorflow/stream_executor/cuda/cuda_gpu_executor.cc:936] successful NUMA node read from SysFS had negative value (-1), but there must be at least one NUMA node, so returning NUMA node zero\n",
      "2022-05-02 04:02:02.884311: I tensorflow/stream_executor/cuda/cuda_gpu_executor.cc:936] successful NUMA node read from SysFS had negative value (-1), but there must be at least one NUMA node, so returning NUMA node zero\n",
      "2022-05-02 04:02:02.884895: I tensorflow/stream_executor/cuda/cuda_gpu_executor.cc:936] successful NUMA node read from SysFS had negative value (-1), but there must be at least one NUMA node, so returning NUMA node zero\n",
      "2022-05-02 04:02:02.885582: I tensorflow/stream_executor/cuda/cuda_gpu_executor.cc:936] successful NUMA node read from SysFS had negative value (-1), but there must be at least one NUMA node, so returning NUMA node zero\n",
      "2022-05-02 04:02:02.886145: I tensorflow/core/common_runtime/gpu/gpu_device.cc:1525] Created device /job:localhost/replica:0/task:0/device:GPU:0 with 7241 MB memory:  -> device: 0, name: NVIDIA Quadro P4000, pci bus id: 0000:00:05.0, compute capability: 6.1\n"
     ]
    }
   ],
   "source": [
    "# Load pipeline config and build a detection model\n",
    "configs = config_util.get_configs_from_pipeline_file(files['PIPELINE_CONFIG'])\n",
    "detection_model = model_builder.build(model_config=configs['model'], is_training=False)\n",
    "\n",
    "# Restore checkpoint\n",
    "ckpt = tf.compat.v2.train.Checkpoint(model=detection_model)\n",
    "ckpt.restore(os.path.join(paths['CHECKPOINT_PATH'], 'ckpt-11')).expect_partial()\n",
    "\n",
    "@tf.function\n",
    "def detect_fn(image):\n",
    "    image, shapes = detection_model.preprocess(image)\n",
    "    prediction_dict = detection_model.predict(image, shapes)\n",
    "    detections = detection_model.postprocess(prediction_dict, shapes)\n",
    "    return detections"
   ]
  },
  {
   "cell_type": "markdown",
   "metadata": {
    "id": "0EmsmbBZpfDI"
   },
   "source": [
    "# 9. Detect from an Image"
   ]
  },
  {
   "cell_type": "code",
   "execution_count": 13,
   "metadata": {
    "id": "Y_MKiuZ4pfDI"
   },
   "outputs": [],
   "source": [
    "import cv2 \n",
    "import numpy as np\n",
    "from matplotlib import pyplot as plt\n",
    "%matplotlib inline"
   ]
  },
  {
   "cell_type": "code",
   "execution_count": 14,
   "metadata": {
    "id": "cBDbIhNapfDI"
   },
   "outputs": [],
   "source": [
    "category_index = label_map_util.create_category_index_from_labelmap(files['LABELMAP'])"
   ]
  },
  {
   "cell_type": "code",
   "execution_count": 15,
   "metadata": {
    "id": "Lx3crOhOzITB"
   },
   "outputs": [],
   "source": [
    "IMAGE_PATH = os.path.join(paths['IMAGE_PATH'], 'test', 'Cars402.png')"
   ]
  },
  {
   "cell_type": "code",
   "execution_count": 16,
   "metadata": {
    "colab": {
     "base_uri": "https://localhost:8080/",
     "height": 269
    },
    "id": "Tpzn1SMry1yK",
    "outputId": "c392a2c5-10fe-4fc4-9998-a1d4c7db2bd3"
   },
   "outputs": [
    {
     "name": "stderr",
     "output_type": "stream",
     "text": [
      "2022-05-02 04:02:50.896879: I tensorflow/stream_executor/cuda/cuda_dnn.cc:368] Loaded cuDNN version 8201\n",
      "2022-05-02 04:02:51.320290: I tensorflow/core/platform/default/subprocess.cc:304] Start cannot spawn child process: No such file or directory\n"
     ]
    },
    {
     "data": {
      "image/png": "[encoded data removed]",
      "text/plain": [
       "<Figure size 432x288 with 1 Axes>"
      ]
     },
     "metadata": {
      "needs_background": "light"
     },
     "output_type": "display_data"
    }
   ],
   "source": [
    "img = cv2.imread(IMAGE_PATH)\n",
    "image_np = np.array(img)\n",
    "\n",
    "input_tensor = tf.convert_to_tensor(np.expand_dims(image_np, 0), dtype=tf.float32)\n",
    "detections = detect_fn(input_tensor)\n",
    "\n",
    "num_detections = int(detections.pop('num_detections'))\n",
    "detections = {key: value[0, :num_detections].numpy()\n",
    "              for key, value in detections.items()}\n",
    "detections['num_detections'] = num_detections\n",
    "\n",
    "# detection_classes should be ints.\n",
    "detections['detection_classes'] = detections['detection_classes'].astype(np.int64)\n",
    "\n",
    "label_id_offset = 1\n",
    "image_np_with_detections = image_np.copy()\n",
    "\n",
    "viz_utils.visualize_boxes_and_labels_on_image_array(\n",
    "            image_np_with_detections,\n",
    "            detections['detection_boxes'],\n",
    "            detections['detection_classes']+label_id_offset,\n",
    "            detections['detection_scores'],\n",
    "            category_index,\n",
    "            use_normalized_coordinates=True,\n",
    "            max_boxes_to_draw=5,\n",
    "            min_score_thresh=.6,\n",
    "            agnostic_mode=False)\n",
    "\n",
    "plt.imshow(cv2.cvtColor(image_np_with_detections, cv2.COLOR_BGR2RGB))\n",
    "plt.show()"
   ]
  },
  {
   "cell_type": "markdown",
   "metadata": {
    "id": "IsNAaYAo0WVL"
   },
   "source": [
    "# 10. Real Time Detections from your Webcam"
   ]
  },
  {
   "cell_type": "code",
   "execution_count": null,
   "metadata": {},
   "outputs": [],
   "source": [
    "!pip uninstall opencv-python-headless -y"
   ]
  },
  {
   "cell_type": "code",
   "execution_count": 14,
   "metadata": {
    "id": "o_grs6OGpfDJ"
   },
   "outputs": [],
   "source": [
    "cap = cv2.VideoCapture(0)\n",
    "width = int(cap.get(cv2.CAP_PROP_FRAME_WIDTH))\n",
    "height = int(cap.get(cv2.CAP_PROP_FRAME_HEIGHT))\n",
    "\n",
    "while cap.isOpened(): \n",
    "    ret, frame = cap.read()\n",
    "    image_np = np.array(frame)\n",
    "    \n",
    "    input_tensor = tf.convert_to_tensor(np.expand_dims(image_np, 0), dtype=tf.float32)\n",
    "    detections = detect_fn(input_tensor)\n",
    "    \n",
    "    num_detections = int(detections.pop('num_detections'))\n",
    "    detections = {key: value[0, :num_detections].numpy()\n",
    "                  for key, value in detections.items()}\n",
    "    detections['num_detections'] = num_detections\n",
    "\n",
    "    # detection_classes should be ints.\n",
    "    detections['detection_classes'] = detections['detection_classes'].astype(np.int64)\n",
    "\n",
    "    label_id_offset = 1\n",
    "    image_np_with_detections = image_np.copy()\n",
    "\n",
    "    viz_utils.visualize_boxes_and_labels_on_image_array(\n",
    "                image_np_with_detections,\n",
    "                detections['detection_boxes'],\n",
    "                detections['detection_classes']+label_id_offset,\n",
    "                detections['detection_scores'],\n",
    "                category_index,\n",
    "                use_normalized_coordinates=True,\n",
    "                max_boxes_to_draw=5,\n",
    "                min_score_thresh=.8,\n",
    "                agnostic_mode=False)\n",
    "\n",
    "    cv2.imshow('object detection',  cv2.resize(image_np_with_detections, (800, 600)))\n",
    "    \n",
    "    if cv2.waitKey(10) & 0xFF == ord('q'):\n",
    "        cap.release()\n",
    "        cv2.destroyAllWindows()\n",
    "        break"
   ]
  },
  {
   "cell_type": "markdown",
   "metadata": {
    "id": "rzlM4jt0pfDJ"
   },
   "source": [
    "# 10. Freezing the Graph"
   ]
  },
  {
   "cell_type": "code",
   "execution_count": 21,
   "metadata": {},
   "outputs": [
    {
     "data": {
      "text/plain": [
       "'Tensorflow/models'"
      ]
     },
     "execution_count": 21,
     "metadata": {},
     "output_type": "execute_result"
    }
   ],
   "source": [
    "paths['APIMODEL_PATH']"
   ]
  },
  {
   "cell_type": "code",
   "execution_count": 22,
   "metadata": {
    "id": "n4olHB2npfDJ"
   },
   "outputs": [],
   "source": [
    "FREEZE_SCRIPT = os.path.join(paths['APIMODEL_PATH'], 'research', 'object_detection', 'exporter_main_v2.py ')"
   ]
  },
  {
   "cell_type": "code",
   "execution_count": 23,
   "metadata": {
    "id": "0AjO93QDpfDJ"
   },
   "outputs": [],
   "source": [
    "command = \"python3 {} --input_type=image_tensor --pipeline_config_path={} --trained_checkpoint_dir={} --output_directory={}\".format(FREEZE_SCRIPT ,files['PIPELINE_CONFIG'], paths['CHECKPOINT_PATH'], paths['OUTPUT_PATH'])"
   ]
  },
  {
   "cell_type": "code",
   "execution_count": 24,
   "metadata": {
    "colab": {
     "base_uri": "https://localhost:8080/"
    },
    "id": "F6Lsp3tCpfDJ",
    "outputId": "c3828529-bf06-4df5-d7f3-145890ec3edd"
   },
   "outputs": [
    {
     "name": "stdout",
     "output_type": "stream",
     "text": [
      "python3 Tensorflow/models/research/object_detection/exporter_main_v2.py  --input_type=image_tensor --pipeline_config_path=Tensorflow/workspace/models/my_ssd_mobnet/pipeline.config --trained_checkpoint_dir=Tensorflow/workspace/models/my_ssd_mobnet --output_directory=Tensorflow/workspace/models/my_ssd_mobnet/export\n"
     ]
    }
   ],
   "source": [
    "print(command)"
   ]
  },
  {
   "cell_type": "code",
   "execution_count": 25,
   "metadata": {
    "colab": {
     "base_uri": "https://localhost:8080/"
    },
    "id": "1Sw1ULgHpfDJ",
    "outputId": "6fd441e1-9fc9-4889-d072-3395c21e40b6"
   },
   "outputs": [
    {
     "name": "stdout",
     "output_type": "stream",
     "text": [
      "2022-05-02 02:40:13.947421: I tensorflow/stream_executor/cuda/cuda_gpu_executor.cc:936] successful NUMA node read from SysFS had negative value (-1), but there must be at least one NUMA node, so returning NUMA node zero\n",
      "2022-05-02 02:40:13.955751: I tensorflow/stream_executor/cuda/cuda_gpu_executor.cc:936] successful NUMA node read from SysFS had negative value (-1), but there must be at least one NUMA node, so returning NUMA node zero\n",
      "2022-05-02 02:40:13.956115: I tensorflow/stream_executor/cuda/cuda_gpu_executor.cc:936] successful NUMA node read from SysFS had negative value (-1), but there must be at least one NUMA node, so returning NUMA node zero\n",
      "2022-05-02 02:40:13.963270: I tensorflow/core/platform/cpu_feature_guard.cc:151] This TensorFlow binary is optimized with oneAPI Deep Neural Network Library (oneDNN) to use the following CPU instructions in performance-critical operations:  AVX2 FMA\n",
      "To enable them in other operations, rebuild TensorFlow with the appropriate compiler flags.\n",
      "2022-05-02 02:40:13.963816: I tensorflow/stream_executor/cuda/cuda_gpu_executor.cc:936] successful NUMA node read from SysFS had negative value (-1), but there must be at least one NUMA node, so returning NUMA node zero\n",
      "2022-05-02 02:40:13.964136: I tensorflow/stream_executor/cuda/cuda_gpu_executor.cc:936] successful NUMA node read from SysFS had negative value (-1), but there must be at least one NUMA node, so returning NUMA node zero\n",
      "2022-05-02 02:40:13.964408: I tensorflow/stream_executor/cuda/cuda_gpu_executor.cc:936] successful NUMA node read from SysFS had negative value (-1), but there must be at least one NUMA node, so returning NUMA node zero\n",
      "2022-05-02 02:40:14.809387: I tensorflow/stream_executor/cuda/cuda_gpu_executor.cc:936] successful NUMA node read from SysFS had negative value (-1), but there must be at least one NUMA node, so returning NUMA node zero\n",
      "2022-05-02 02:40:14.809742: I tensorflow/stream_executor/cuda/cuda_gpu_executor.cc:936] successful NUMA node read from SysFS had negative value (-1), but there must be at least one NUMA node, so returning NUMA node zero\n",
      "2022-05-02 02:40:14.810113: I tensorflow/stream_executor/cuda/cuda_gpu_executor.cc:936] successful NUMA node read from SysFS had negative value (-1), but there must be at least one NUMA node, so returning NUMA node zero\n",
      "2022-05-02 02:40:14.810370: I tensorflow/core/common_runtime/gpu/gpu_device.cc:1525] Created device /job:localhost/replica:0/task:0/device:GPU:0 with 164 MB memory:  -> device: 0, name: NVIDIA Quadro P4000, pci bus id: 0000:00:05.0, compute capability: 6.1\n",
      "2022-05-02 02:40:14.814293: I tensorflow/stream_executor/cuda/cuda_driver.cc:739] failed to allocate 164.12M (172097536 bytes) from device: CUDA_ERROR_OUT_OF_MEMORY: out of memory\n",
      "WARNING:tensorflow:From /home/paperspace/.local/lib/python3.8/site-packages/tensorflow/python/autograph/impl/api.py:458: calling map_fn_v2 (from tensorflow.python.ops.map_fn) with back_prop=False is deprecated and will be removed in a future version.\n",
      "Instructions for updating:\n",
      "back_prop=False is deprecated. Consider using tf.stop_gradient instead.\n",
      "Instead of:\n",
      "results = tf.map_fn(fn, elems, back_prop=False)\n",
      "Use:\n",
      "results = tf.nest.map_structure(tf.stop_gradient, tf.map_fn(fn, elems))\n",
      "W0502 02:40:14.965399 140314891806528 deprecation.py:610] From /home/paperspace/.local/lib/python3.8/site-packages/tensorflow/python/autograph/impl/api.py:458: calling map_fn_v2 (from tensorflow.python.ops.map_fn) with back_prop=False is deprecated and will be removed in a future version.\n",
      "Instructions for updating:\n",
      "back_prop=False is deprecated. Consider using tf.stop_gradient instead.\n",
      "Instead of:\n",
      "results = tf.map_fn(fn, elems, back_prop=False)\n",
      "Use:\n",
      "results = tf.nest.map_structure(tf.stop_gradient, tf.map_fn(fn, elems))\n",
      "2022-05-02 02:40:31.413682: W tensorflow/python/util/util.cc:368] Sets are not currently considered sequences, but this may change in the future, so consider avoiding using them.\n",
      "WARNING:tensorflow:Skipping full serialization of Keras layer <object_detection.meta_architectures.ssd_meta_arch.SSDMetaArch object at 0x7f9d107ab8e0>, because it is not built.\n",
      "W0502 02:40:34.309480 140314891806528 save_impl.py:71] Skipping full serialization of Keras layer <object_detection.meta_architectures.ssd_meta_arch.SSDMetaArch object at 0x7f9d107ab8e0>, because it is not built.\n",
      "WARNING:tensorflow:Skipping full serialization of Keras layer <keras.layers.convolutional.SeparableConv2D object at 0x7f9d10723580>, because it is not built.\n",
      "W0502 02:40:34.801063 140314891806528 save_impl.py:71] Skipping full serialization of Keras layer <keras.layers.convolutional.SeparableConv2D object at 0x7f9d10723580>, because it is not built.\n",
      "WARNING:tensorflow:Skipping full serialization of Keras layer <object_detection.core.freezable_batch_norm.FreezableBatchNorm object at 0x7f9c907e6c70>, because it is not built.\n",
      "W0502 02:40:34.801327 140314891806528 save_impl.py:71] Skipping full serialization of Keras layer <object_detection.core.freezable_batch_norm.FreezableBatchNorm object at 0x7f9c907e6c70>, because it is not built.\n",
      "WARNING:tensorflow:Skipping full serialization of Keras layer <keras.layers.core.lambda_layer.Lambda object at 0x7f9c907ec5b0>, because it is not built.\n",
      "W0502 02:40:34.801476 140314891806528 save_impl.py:71] Skipping full serialization of Keras layer <keras.layers.core.lambda_layer.Lambda object at 0x7f9c907ec5b0>, because it is not built.\n",
      "WARNING:tensorflow:Skipping full serialization of Keras layer <keras.layers.convolutional.SeparableConv2D object at 0x7f9c907ec370>, because it is not built.\n",
      "W0502 02:40:34.801618 140314891806528 save_impl.py:71] Skipping full serialization of Keras layer <keras.layers.convolutional.SeparableConv2D object at 0x7f9c907ec370>, because it is not built.\n",
      "WARNING:tensorflow:Skipping full serialization of Keras layer <object_detection.core.freezable_batch_norm.FreezableBatchNorm object at 0x7f9c907ecaf0>, because it is not built.\n",
      "W0502 02:40:34.801734 140314891806528 save_impl.py:71] Skipping full serialization of Keras layer <object_detection.core.freezable_batch_norm.FreezableBatchNorm object at 0x7f9c907ecaf0>, because it is not built.\n",
      "WARNING:tensorflow:Skipping full serialization of Keras layer <keras.layers.core.lambda_layer.Lambda object at 0x7f9c907ec670>, because it is not built.\n",
      "W0502 02:40:34.801824 140314891806528 save_impl.py:71] Skipping full serialization of Keras layer <keras.layers.core.lambda_layer.Lambda object at 0x7f9c907ec670>, because it is not built.\n",
      "WARNING:tensorflow:Skipping full serialization of Keras layer <keras.layers.convolutional.SeparableConv2D object at 0x7f9c907ecd90>, because it is not built.\n",
      "W0502 02:40:34.801931 140314891806528 save_impl.py:71] Skipping full serialization of Keras layer <keras.layers.convolutional.SeparableConv2D object at 0x7f9c907ecd90>, because it is not built.\n",
      "WARNING:tensorflow:Skipping full serialization of Keras layer <object_detection.core.freezable_batch_norm.FreezableBatchNorm object at 0x7f9cb95da220>, because it is not built.\n",
      "W0502 02:40:34.802019 140314891806528 save_impl.py:71] Skipping full serialization of Keras layer <object_detection.core.freezable_batch_norm.FreezableBatchNorm object at 0x7f9cb95da220>, because it is not built.\n",
      "WARNING:tensorflow:Skipping full serialization of Keras layer <keras.layers.core.lambda_layer.Lambda object at 0x7f9cb94c31c0>, because it is not built.\n",
      "W0502 02:40:34.802104 140314891806528 save_impl.py:71] Skipping full serialization of Keras layer <keras.layers.core.lambda_layer.Lambda object at 0x7f9cb94c31c0>, because it is not built.\n",
      "WARNING:tensorflow:Skipping full serialization of Keras layer <keras.layers.convolutional.SeparableConv2D object at 0x7f9cb94c3e80>, because it is not built.\n",
      "W0502 02:40:34.802204 140314891806528 save_impl.py:71] Skipping full serialization of Keras layer <keras.layers.convolutional.SeparableConv2D object at 0x7f9cb94c3e80>, because it is not built.\n",
      "WARNING:tensorflow:Skipping full serialization of Keras layer <object_detection.core.freezable_batch_norm.FreezableBatchNorm object at 0x7f9d104a0c70>, because it is not built.\n",
      "W0502 02:40:34.802291 140314891806528 save_impl.py:71] Skipping full serialization of Keras layer <object_detection.core.freezable_batch_norm.FreezableBatchNorm object at 0x7f9d104a0c70>, because it is not built.\n",
      "WARNING:tensorflow:Skipping full serialization of Keras layer <keras.layers.core.lambda_layer.Lambda object at 0x7f9cb94c9790>, because it is not built.\n",
      "W0502 02:40:34.802376 140314891806528 save_impl.py:71] Skipping full serialization of Keras layer <keras.layers.core.lambda_layer.Lambda object at 0x7f9cb94c9790>, because it is not built.\n",
      "WARNING:tensorflow:Skipping full serialization of Keras layer <object_detection.core.freezable_batch_norm.FreezableBatchNorm object at 0x7f9d10723b50>, because it is not built.\n",
      "W0502 02:40:34.802462 140314891806528 save_impl.py:71] Skipping full serialization of Keras layer <object_detection.core.freezable_batch_norm.FreezableBatchNorm object at 0x7f9d10723b50>, because it is not built.\n",
      "WARNING:tensorflow:Skipping full serialization of Keras layer <keras.layers.core.lambda_layer.Lambda object at 0x7f9cb9499760>, because it is not built.\n",
      "W0502 02:40:34.802548 140314891806528 save_impl.py:71] Skipping full serialization of Keras layer <keras.layers.core.lambda_layer.Lambda object at 0x7f9cb9499760>, because it is not built.\n",
      "WARNING:tensorflow:Skipping full serialization of Keras layer <object_detection.core.freezable_batch_norm.FreezableBatchNorm object at 0x7f9c907efa00>, because it is not built.\n",
      "W0502 02:40:34.802634 140314891806528 save_impl.py:71] Skipping full serialization of Keras layer <object_detection.core.freezable_batch_norm.FreezableBatchNorm object at 0x7f9c907efa00>, because it is not built.\n",
      "WARNING:tensorflow:Skipping full serialization of Keras layer <keras.layers.core.lambda_layer.Lambda object at 0x7f9c907ef970>, because it is not built.\n",
      "W0502 02:40:34.802720 140314891806528 save_impl.py:71] Skipping full serialization of Keras layer <keras.layers.core.lambda_layer.Lambda object at 0x7f9c907ef970>, because it is not built.\n",
      "WARNING:tensorflow:Skipping full serialization of Keras layer <object_detection.core.freezable_batch_norm.FreezableBatchNorm object at 0x7f9c907ef520>, because it is not built.\n",
      "W0502 02:40:34.802805 140314891806528 save_impl.py:71] Skipping full serialization of Keras layer <object_detection.core.freezable_batch_norm.FreezableBatchNorm object at 0x7f9c907ef520>, because it is not built.\n",
      "WARNING:tensorflow:Skipping full serialization of Keras layer <keras.layers.core.lambda_layer.Lambda object at 0x7f9c907ef9a0>, because it is not built.\n",
      "W0502 02:40:34.802890 140314891806528 save_impl.py:71] Skipping full serialization of Keras layer <keras.layers.core.lambda_layer.Lambda object at 0x7f9c907ef9a0>, because it is not built.\n",
      "WARNING:tensorflow:Skipping full serialization of Keras layer <object_detection.core.freezable_batch_norm.FreezableBatchNorm object at 0x7f9c907ef790>, because it is not built.\n",
      "W0502 02:40:34.802976 140314891806528 save_impl.py:71] Skipping full serialization of Keras layer <object_detection.core.freezable_batch_norm.FreezableBatchNorm object at 0x7f9c907ef790>, because it is not built.\n",
      "WARNING:tensorflow:Skipping full serialization of Keras layer <keras.layers.core.lambda_layer.Lambda object at 0x7f9c907efc70>, because it is not built.\n",
      "W0502 02:40:34.803061 140314891806528 save_impl.py:71] Skipping full serialization of Keras layer <keras.layers.core.lambda_layer.Lambda object at 0x7f9c907efc70>, because it is not built.\n",
      "WARNING:tensorflow:Skipping full serialization of Keras layer <object_detection.core.freezable_batch_norm.FreezableBatchNorm object at 0x7f9d10723b80>, because it is not built.\n",
      "W0502 02:40:34.803147 140314891806528 save_impl.py:71] Skipping full serialization of Keras layer <object_detection.core.freezable_batch_norm.FreezableBatchNorm object at 0x7f9d10723b80>, because it is not built.\n",
      "WARNING:tensorflow:Skipping full serialization of Keras layer <keras.layers.core.lambda_layer.Lambda object at 0x7f9d1007fb20>, because it is not built.\n",
      "W0502 02:40:34.803233 140314891806528 save_impl.py:71] Skipping full serialization of Keras layer <keras.layers.core.lambda_layer.Lambda object at 0x7f9d1007fb20>, because it is not built.\n",
      "WARNING:tensorflow:Skipping full serialization of Keras layer <object_detection.core.freezable_batch_norm.FreezableBatchNorm object at 0x7f9c90758b20>, because it is not built.\n",
      "W0502 02:40:34.803318 140314891806528 save_impl.py:71] Skipping full serialization of Keras layer <object_detection.core.freezable_batch_norm.FreezableBatchNorm object at 0x7f9c90758b20>, because it is not built.\n",
      "WARNING:tensorflow:Skipping full serialization of Keras layer <keras.layers.core.lambda_layer.Lambda object at 0x7f9c90758a30>, because it is not built.\n",
      "W0502 02:40:34.803404 140314891806528 save_impl.py:71] Skipping full serialization of Keras layer <keras.layers.core.lambda_layer.Lambda object at 0x7f9c90758a30>, because it is not built.\n",
      "WARNING:tensorflow:Skipping full serialization of Keras layer <object_detection.core.freezable_batch_norm.FreezableBatchNorm object at 0x7f9c90758670>, because it is not built.\n",
      "W0502 02:40:34.803489 140314891806528 save_impl.py:71] Skipping full serialization of Keras layer <object_detection.core.freezable_batch_norm.FreezableBatchNorm object at 0x7f9c90758670>, because it is not built.\n",
      "WARNING:tensorflow:Skipping full serialization of Keras layer <keras.layers.core.lambda_layer.Lambda object at 0x7f9c907585b0>, because it is not built.\n",
      "W0502 02:40:34.803573 140314891806528 save_impl.py:71] Skipping full serialization of Keras layer <keras.layers.core.lambda_layer.Lambda object at 0x7f9c907585b0>, because it is not built.\n",
      "WARNING:tensorflow:Skipping full serialization of Keras layer <object_detection.core.freezable_batch_norm.FreezableBatchNorm object at 0x7f9c907340d0>, because it is not built.\n",
      "W0502 02:40:34.803657 140314891806528 save_impl.py:71] Skipping full serialization of Keras layer <object_detection.core.freezable_batch_norm.FreezableBatchNorm object at 0x7f9c907340d0>, because it is not built.\n",
      "WARNING:tensorflow:Skipping full serialization of Keras layer <keras.layers.core.lambda_layer.Lambda object at 0x7f9c90734430>, because it is not built.\n",
      "W0502 02:40:34.803742 140314891806528 save_impl.py:71] Skipping full serialization of Keras layer <keras.layers.core.lambda_layer.Lambda object at 0x7f9c90734430>, because it is not built.\n",
      "WARNING:tensorflow:Skipping full serialization of Keras layer <object_detection.core.freezable_batch_norm.FreezableBatchNorm object at 0x7f9d10723bb0>, because it is not built.\n",
      "W0502 02:40:34.803827 140314891806528 save_impl.py:71] Skipping full serialization of Keras layer <object_detection.core.freezable_batch_norm.FreezableBatchNorm object at 0x7f9d10723bb0>, because it is not built.\n",
      "WARNING:tensorflow:Skipping full serialization of Keras layer <keras.layers.core.lambda_layer.Lambda object at 0x7f9c9073b790>, because it is not built.\n",
      "W0502 02:40:34.803911 140314891806528 save_impl.py:71] Skipping full serialization of Keras layer <keras.layers.core.lambda_layer.Lambda object at 0x7f9c9073b790>, because it is not built.\n",
      "WARNING:tensorflow:Skipping full serialization of Keras layer <object_detection.core.freezable_batch_norm.FreezableBatchNorm object at 0x7f9c906c05b0>, because it is not built.\n",
      "W0502 02:40:34.803996 140314891806528 save_impl.py:71] Skipping full serialization of Keras layer <object_detection.core.freezable_batch_norm.FreezableBatchNorm object at 0x7f9c906c05b0>, because it is not built.\n",
      "WARNING:tensorflow:Skipping full serialization of Keras layer <keras.layers.core.lambda_layer.Lambda object at 0x7f9c906c08b0>, because it is not built.\n",
      "W0502 02:40:34.804081 140314891806528 save_impl.py:71] Skipping full serialization of Keras layer <keras.layers.core.lambda_layer.Lambda object at 0x7f9c906c08b0>, because it is not built.\n",
      "WARNING:tensorflow:Skipping full serialization of Keras layer <object_detection.core.freezable_batch_norm.FreezableBatchNorm object at 0x7f9c906c09d0>, because it is not built.\n",
      "W0502 02:40:34.804166 140314891806528 save_impl.py:71] Skipping full serialization of Keras layer <object_detection.core.freezable_batch_norm.FreezableBatchNorm object at 0x7f9c906c09d0>, because it is not built.\n",
      "WARNING:tensorflow:Skipping full serialization of Keras layer <keras.layers.core.lambda_layer.Lambda object at 0x7f9c906c0a00>, because it is not built.\n",
      "W0502 02:40:34.804250 140314891806528 save_impl.py:71] Skipping full serialization of Keras layer <keras.layers.core.lambda_layer.Lambda object at 0x7f9c906c0a00>, because it is not built.\n",
      "WARNING:tensorflow:Skipping full serialization of Keras layer <object_detection.core.freezable_batch_norm.FreezableBatchNorm object at 0x7f9c906c0940>, because it is not built.\n",
      "W0502 02:40:34.804335 140314891806528 save_impl.py:71] Skipping full serialization of Keras layer <object_detection.core.freezable_batch_norm.FreezableBatchNorm object at 0x7f9c906c0940>, because it is not built.\n",
      "WARNING:tensorflow:Skipping full serialization of Keras layer <keras.layers.core.lambda_layer.Lambda object at 0x7f9c906c0ee0>, because it is not built.\n",
      "W0502 02:40:34.804427 140314891806528 save_impl.py:71] Skipping full serialization of Keras layer <keras.layers.core.lambda_layer.Lambda object at 0x7f9c906c0ee0>, because it is not built.\n",
      "WARNING:tensorflow:Skipping full serialization of Keras layer <object_detection.core.freezable_batch_norm.FreezableBatchNorm object at 0x7f9c906c3fa0>, because it is not built.\n",
      "W0502 02:40:34.804514 140314891806528 save_impl.py:71] Skipping full serialization of Keras layer <object_detection.core.freezable_batch_norm.FreezableBatchNorm object at 0x7f9c906c3fa0>, because it is not built.\n",
      "WARNING:tensorflow:Skipping full serialization of Keras layer <keras.layers.core.lambda_layer.Lambda object at 0x7f9c906c5790>, because it is not built.\n",
      "W0502 02:40:34.804599 140314891806528 save_impl.py:71] Skipping full serialization of Keras layer <keras.layers.core.lambda_layer.Lambda object at 0x7f9c906c5790>, because it is not built.\n",
      "WARNING:tensorflow:Skipping full serialization of Keras layer <object_detection.core.freezable_batch_norm.FreezableBatchNorm object at 0x7f9c907ee3a0>, because it is not built.\n",
      "W0502 02:40:34.804685 140314891806528 save_impl.py:71] Skipping full serialization of Keras layer <object_detection.core.freezable_batch_norm.FreezableBatchNorm object at 0x7f9c907ee3a0>, because it is not built.\n",
      "WARNING:tensorflow:Skipping full serialization of Keras layer <keras.layers.core.lambda_layer.Lambda object at 0x7f9c907ee3d0>, because it is not built.\n",
      "W0502 02:40:34.804769 140314891806528 save_impl.py:71] Skipping full serialization of Keras layer <keras.layers.core.lambda_layer.Lambda object at 0x7f9c907ee3d0>, because it is not built.\n",
      "WARNING:tensorflow:Skipping full serialization of Keras layer <object_detection.core.freezable_batch_norm.FreezableBatchNorm object at 0x7f9c907ee700>, because it is not built.\n",
      "W0502 02:40:34.804853 140314891806528 save_impl.py:71] Skipping full serialization of Keras layer <object_detection.core.freezable_batch_norm.FreezableBatchNorm object at 0x7f9c907ee700>, because it is not built.\n",
      "WARNING:tensorflow:Skipping full serialization of Keras layer <keras.layers.core.lambda_layer.Lambda object at 0x7f9c907ee910>, because it is not built.\n",
      "W0502 02:40:34.804938 140314891806528 save_impl.py:71] Skipping full serialization of Keras layer <keras.layers.core.lambda_layer.Lambda object at 0x7f9c907ee910>, because it is not built.\n",
      "WARNING:tensorflow:Skipping full serialization of Keras layer <object_detection.core.freezable_batch_norm.FreezableBatchNorm object at 0x7f9c907eec70>, because it is not built.\n",
      "W0502 02:40:34.805047 140314891806528 save_impl.py:71] Skipping full serialization of Keras layer <object_detection.core.freezable_batch_norm.FreezableBatchNorm object at 0x7f9c907eec70>, because it is not built.\n",
      "WARNING:tensorflow:Skipping full serialization of Keras layer <keras.layers.core.lambda_layer.Lambda object at 0x7f9c907ee970>, because it is not built.\n",
      "W0502 02:40:34.805156 140314891806528 save_impl.py:71] Skipping full serialization of Keras layer <keras.layers.core.lambda_layer.Lambda object at 0x7f9c907ee970>, because it is not built.\n"
     ]
    },
    {
     "name": "stdout",
     "output_type": "stream",
     "text": [
      "W0502 02:40:53.335837 140314891806528 save.py:260] Found untraced functions such as WeightSharedConvolutionalBoxPredictor_layer_call_fn, WeightSharedConvolutionalBoxPredictor_layer_call_and_return_conditional_losses, WeightSharedConvolutionalBoxHead_layer_call_fn, WeightSharedConvolutionalBoxHead_layer_call_and_return_conditional_losses, WeightSharedConvolutionalClassHead_layer_call_fn while saving (showing 5 of 104). These functions will not be directly callable after loading.\n",
      "INFO:tensorflow:Assets written to: Tensorflow/workspace/models/my_ssd_mobnet/export/saved_model/assets\n",
      "I0502 02:40:59.077809 140314891806528 builder_impl.py:779] Assets written to: Tensorflow/workspace/models/my_ssd_mobnet/export/saved_model/assets\n",
      "INFO:tensorflow:Writing pipeline config file to Tensorflow/workspace/models/my_ssd_mobnet/export/pipeline.config\n",
      "I0502 02:40:59.931547 140314891806528 config_util.py:253] Writing pipeline config file to Tensorflow/workspace/models/my_ssd_mobnet/export/pipeline.config\n"
     ]
    }
   ],
   "source": [
    "!{command}"
   ]
  },
  {
   "cell_type": "markdown",
   "metadata": {
    "id": "wTPmdqaXpfDK"
   },
   "source": [
    "# 11. Conversion to TFJS"
   ]
  },
  {
   "cell_type": "code",
   "execution_count": 26,
   "metadata": {
    "colab": {
     "base_uri": "https://localhost:8080/"
    },
    "id": "gZ6UzY_fpfDK",
    "outputId": "0c84722e-1c2b-4002-d857-80827ade828a",
    "scrolled": true
   },
   "outputs": [
    {
     "name": "stdout",
     "output_type": "stream",
     "text": [
      "Defaulting to user installation because normal site-packages is not writeable\n",
      "Collecting tensorflowjs\n",
      "  Downloading tensorflowjs-3.15.0-py3-none-any.whl (77 kB)\n",
      "\u001b[2K     \u001b[38;2;114;156;31m━━━━━━━━━━━━━━━━━━━━━━━━━━━━━━━━━━━━━━━━\u001b[0m \u001b[32m77.4/77.4 KB\u001b[0m \u001b[31m12.5 MB/s\u001b[0m eta \u001b[36m0:00:00\u001b[0m\n",
      "\u001b[?25hRequirement already satisfied: tensorflow-hub<0.13,>=0.7.0 in /home/paperspace/.local/lib/python3.8/site-packages (from tensorflowjs) (0.12.0)\n",
      "Requirement already satisfied: six<2,>=1.12.0 in /home/paperspace/.local/lib/python3.8/site-packages (from tensorflowjs) (1.15.0)\n",
      "Requirement already satisfied: tensorflow<3,>=2.1.0 in /home/paperspace/.local/lib/python3.8/site-packages (from tensorflowjs) (2.8.0)\n",
      "Requirement already satisfied: h5py>=2.9.0 in /home/paperspace/.local/lib/python3.8/site-packages (from tensorflow<3,>=2.1.0->tensorflowjs) (3.1.0)\n",
      "Requirement already satisfied: astunparse>=1.6.0 in /home/paperspace/.local/lib/python3.8/site-packages (from tensorflow<3,>=2.1.0->tensorflowjs) (1.6.3)\n",
      "Requirement already satisfied: numpy>=1.20 in /home/paperspace/.local/lib/python3.8/site-packages (from tensorflow<3,>=2.1.0->tensorflowjs) (1.21.6)\n",
      "Requirement already satisfied: tensorboard<2.9,>=2.8 in /home/paperspace/.local/lib/python3.8/site-packages (from tensorflow<3,>=2.1.0->tensorflowjs) (2.8.0)\n",
      "Requirement already satisfied: protobuf>=3.9.2 in /home/paperspace/.local/lib/python3.8/site-packages (from tensorflow<3,>=2.1.0->tensorflowjs) (3.19.4)\n",
      "Requirement already satisfied: libclang>=9.0.1 in /home/paperspace/.local/lib/python3.8/site-packages (from tensorflow<3,>=2.1.0->tensorflowjs) (13.0.0)\n",
      "Requirement already satisfied: flatbuffers>=1.12 in /home/paperspace/.local/lib/python3.8/site-packages (from tensorflow<3,>=2.1.0->tensorflowjs) (1.12)\n",
      "Requirement already satisfied: grpcio<2.0,>=1.24.3 in /home/paperspace/.local/lib/python3.8/site-packages (from tensorflow<3,>=2.1.0->tensorflowjs) (1.34.1)\n",
      "Requirement already satisfied: keras-preprocessing>=1.1.1 in /home/paperspace/.local/lib/python3.8/site-packages (from tensorflow<3,>=2.1.0->tensorflowjs) (1.1.2)\n",
      "Requirement already satisfied: gast>=0.2.1 in /home/paperspace/.local/lib/python3.8/site-packages (from tensorflow<3,>=2.1.0->tensorflowjs) (0.4.0)\n",
      "Requirement already satisfied: wrapt>=1.11.0 in /home/paperspace/.local/lib/python3.8/site-packages (from tensorflow<3,>=2.1.0->tensorflowjs) (1.12.1)\n",
      "Requirement already satisfied: keras<2.9,>=2.8.0rc0 in /home/paperspace/.local/lib/python3.8/site-packages (from tensorflow<3,>=2.1.0->tensorflowjs) (2.8.0)\n",
      "Requirement already satisfied: setuptools in /usr/lib/python3/dist-packages (from tensorflow<3,>=2.1.0->tensorflowjs) (45.2.0)\n",
      "Requirement already satisfied: tensorflow-io-gcs-filesystem>=0.23.1 in /home/paperspace/.local/lib/python3.8/site-packages (from tensorflow<3,>=2.1.0->tensorflowjs) (0.24.0)\n",
      "Requirement already satisfied: tf-estimator-nightly==2.8.0.dev2021122109 in /home/paperspace/.local/lib/python3.8/site-packages (from tensorflow<3,>=2.1.0->tensorflowjs) (2.8.0.dev2021122109)\n",
      "Requirement already satisfied: google-pasta>=0.1.1 in /home/paperspace/.local/lib/python3.8/site-packages (from tensorflow<3,>=2.1.0->tensorflowjs) (0.2.0)\n",
      "Requirement already satisfied: typing-extensions>=3.6.6 in /home/paperspace/.local/lib/python3.8/site-packages (from tensorflow<3,>=2.1.0->tensorflowjs) (3.7.4.3)\n",
      "Requirement already satisfied: absl-py>=0.4.0 in /home/paperspace/.local/lib/python3.8/site-packages (from tensorflow<3,>=2.1.0->tensorflowjs) (0.15.0)\n",
      "Requirement already satisfied: opt-einsum>=2.3.2 in /home/paperspace/.local/lib/python3.8/site-packages (from tensorflow<3,>=2.1.0->tensorflowjs) (3.3.0)\n",
      "Requirement already satisfied: termcolor>=1.1.0 in /home/paperspace/.local/lib/python3.8/site-packages (from tensorflow<3,>=2.1.0->tensorflowjs) (1.1.0)\n",
      "Requirement already satisfied: wheel<1.0,>=0.23.0 in /home/paperspace/.local/lib/python3.8/site-packages (from astunparse>=1.6.0->tensorflow<3,>=2.1.0->tensorflowjs) (0.37.1)\n",
      "Requirement already satisfied: markdown>=2.6.8 in /home/paperspace/.local/lib/python3.8/site-packages (from tensorboard<2.9,>=2.8->tensorflow<3,>=2.1.0->tensorflowjs) (3.3.6)\n",
      "Requirement already satisfied: tensorboard-plugin-wit>=1.6.0 in /home/paperspace/.local/lib/python3.8/site-packages (from tensorboard<2.9,>=2.8->tensorflow<3,>=2.1.0->tensorflowjs) (1.8.1)\n",
      "Requirement already satisfied: google-auth<3,>=1.6.3 in /home/paperspace/.local/lib/python3.8/site-packages (from tensorboard<2.9,>=2.8->tensorflow<3,>=2.1.0->tensorflowjs) (2.6.0)\n",
      "Requirement already satisfied: werkzeug>=0.11.15 in /home/paperspace/.local/lib/python3.8/site-packages (from tensorboard<2.9,>=2.8->tensorflow<3,>=2.1.0->tensorflowjs) (2.0.3)\n",
      "Requirement already satisfied: google-auth-oauthlib<0.5,>=0.4.1 in /home/paperspace/.local/lib/python3.8/site-packages (from tensorboard<2.9,>=2.8->tensorflow<3,>=2.1.0->tensorflowjs) (0.4.6)\n",
      "Requirement already satisfied: tensorboard-data-server<0.7.0,>=0.6.0 in /home/paperspace/.local/lib/python3.8/site-packages (from tensorboard<2.9,>=2.8->tensorflow<3,>=2.1.0->tensorflowjs) (0.6.1)\n",
      "Requirement already satisfied: requests<3,>=2.21.0 in /home/paperspace/.local/lib/python3.8/site-packages (from tensorboard<2.9,>=2.8->tensorflow<3,>=2.1.0->tensorflowjs) (2.27.1)\n",
      "Requirement already satisfied: cachetools<6.0,>=2.0.0 in /home/paperspace/.local/lib/python3.8/site-packages (from google-auth<3,>=1.6.3->tensorboard<2.9,>=2.8->tensorflow<3,>=2.1.0->tensorflowjs) (5.0.0)\n",
      "Requirement already satisfied: rsa<5,>=3.1.4 in /home/paperspace/.local/lib/python3.8/site-packages (from google-auth<3,>=1.6.3->tensorboard<2.9,>=2.8->tensorflow<3,>=2.1.0->tensorflowjs) (4.8)\n",
      "Requirement already satisfied: pyasn1-modules>=0.2.1 in /usr/lib/python3/dist-packages (from google-auth<3,>=1.6.3->tensorboard<2.9,>=2.8->tensorflow<3,>=2.1.0->tensorflowjs) (0.2.1)\n",
      "Requirement already satisfied: requests-oauthlib>=0.7.0 in /home/paperspace/.local/lib/python3.8/site-packages (from google-auth-oauthlib<0.5,>=0.4.1->tensorboard<2.9,>=2.8->tensorflow<3,>=2.1.0->tensorflowjs) (1.3.1)\n",
      "Requirement already satisfied: importlib-metadata>=4.4 in /home/paperspace/.local/lib/python3.8/site-packages (from markdown>=2.6.8->tensorboard<2.9,>=2.8->tensorflow<3,>=2.1.0->tensorflowjs) (4.11.1)\n",
      "Requirement already satisfied: certifi>=2017.4.17 in /usr/lib/python3/dist-packages (from requests<3,>=2.21.0->tensorboard<2.9,>=2.8->tensorflow<3,>=2.1.0->tensorflowjs) (2019.11.28)\n",
      "Requirement already satisfied: idna<4,>=2.5 in /usr/lib/python3/dist-packages (from requests<3,>=2.21.0->tensorboard<2.9,>=2.8->tensorflow<3,>=2.1.0->tensorflowjs) (2.8)\n",
      "Requirement already satisfied: urllib3<1.27,>=1.21.1 in /usr/lib/python3/dist-packages (from requests<3,>=2.21.0->tensorboard<2.9,>=2.8->tensorflow<3,>=2.1.0->tensorflowjs) (1.25.8)\n",
      "Requirement already satisfied: charset-normalizer~=2.0.0 in /home/paperspace/.local/lib/python3.8/site-packages (from requests<3,>=2.21.0->tensorboard<2.9,>=2.8->tensorflow<3,>=2.1.0->tensorflowjs) (2.0.12)\n",
      "Requirement already satisfied: zipp>=0.5 in /home/paperspace/.local/lib/python3.8/site-packages (from importlib-metadata>=4.4->markdown>=2.6.8->tensorboard<2.9,>=2.8->tensorflow<3,>=2.1.0->tensorflowjs) (3.8.0)\n",
      "Requirement already satisfied: oauthlib>=3.0.0 in /usr/lib/python3/dist-packages (from requests-oauthlib>=0.7.0->google-auth-oauthlib<0.5,>=0.4.1->tensorboard<2.9,>=2.8->tensorflow<3,>=2.1.0->tensorflowjs) (3.1.0)\n",
      "Requirement already satisfied: pyasn1>=0.1.3 in /usr/lib/python3/dist-packages (from rsa<5,>=3.1.4->google-auth<3,>=1.6.3->tensorboard<2.9,>=2.8->tensorflow<3,>=2.1.0->tensorflowjs) (0.4.2)\n",
      "Installing collected packages: tensorflowjs\n",
      "Successfully installed tensorflowjs-3.15.0\n"
     ]
    }
   ],
   "source": [
    "!pip install tensorflowjs"
   ]
  },
  {
   "cell_type": "code",
   "execution_count": 27,
   "metadata": {
    "id": "0oxbVynHpfDK"
   },
   "outputs": [],
   "source": [
    "command = \"tensorflowjs_converter --input_format=tf_saved_model --output_node_names='detection_boxes,detection_classes,detection_features,detection_multiclass_scores,detection_scores,num_detections,raw_detection_boxes,raw_detection_scores' --output_format=tfjs_graph_model --signature_name=serving_default {} {}\".format(os.path.join(paths['OUTPUT_PATH'], 'saved_model'), paths['TFJS_PATH'])"
   ]
  },
  {
   "cell_type": "code",
   "execution_count": 28,
   "metadata": {
    "colab": {
     "base_uri": "https://localhost:8080/"
    },
    "id": "DB2AGNmJpfDK",
    "outputId": "fbc9f747-f511-47e8-df8f-5ea65cef0374"
   },
   "outputs": [
    {
     "name": "stdout",
     "output_type": "stream",
     "text": [
      "tensorflowjs_converter --input_format=tf_saved_model --output_node_names='detection_boxes,detection_classes,detection_features,detection_multiclass_scores,detection_scores,num_detections,raw_detection_boxes,raw_detection_scores' --output_format=tfjs_graph_model --signature_name=serving_default Tensorflow/workspace/models/my_ssd_mobnet/export/saved_model Tensorflow/workspace/models/my_ssd_mobnet/tfjsexport\n"
     ]
    }
   ],
   "source": [
    "print(command)"
   ]
  },
  {
   "cell_type": "code",
   "execution_count": 29,
   "metadata": {
    "colab": {
     "base_uri": "https://localhost:8080/"
    },
    "id": "K7rfT4-hpfDK",
    "outputId": "532707fd-6feb-4bc6-84a3-325b5d16303c"
   },
   "outputs": [
    {
     "name": "stdout",
     "output_type": "stream",
     "text": [
      "2022-05-02 02:42:11.959322: I tensorflow/stream_executor/cuda/cuda_gpu_executor.cc:936] successful NUMA node read from SysFS had negative value (-1), but there must be at least one NUMA node, so returning NUMA node zero\n",
      "2022-05-02 02:42:11.968094: I tensorflow/stream_executor/cuda/cuda_gpu_executor.cc:936] successful NUMA node read from SysFS had negative value (-1), but there must be at least one NUMA node, so returning NUMA node zero\n",
      "2022-05-02 02:42:11.968432: I tensorflow/stream_executor/cuda/cuda_gpu_executor.cc:936] successful NUMA node read from SysFS had negative value (-1), but there must be at least one NUMA node, so returning NUMA node zero\n",
      "2022-05-02 02:42:11.969056: I tensorflow/core/platform/cpu_feature_guard.cc:151] This TensorFlow binary is optimized with oneAPI Deep Neural Network Library (oneDNN) to use the following CPU instructions in performance-critical operations:  AVX2 FMA\n",
      "To enable them in other operations, rebuild TensorFlow with the appropriate compiler flags.\n",
      "2022-05-02 02:42:11.969781: I tensorflow/stream_executor/cuda/cuda_gpu_executor.cc:936] successful NUMA node read from SysFS had negative value (-1), but there must be at least one NUMA node, so returning NUMA node zero\n",
      "2022-05-02 02:42:11.970089: I tensorflow/stream_executor/cuda/cuda_gpu_executor.cc:936] successful NUMA node read from SysFS had negative value (-1), but there must be at least one NUMA node, so returning NUMA node zero\n",
      "2022-05-02 02:42:11.970319: I tensorflow/stream_executor/cuda/cuda_gpu_executor.cc:936] successful NUMA node read from SysFS had negative value (-1), but there must be at least one NUMA node, so returning NUMA node zero\n",
      "2022-05-02 02:42:12.801396: I tensorflow/stream_executor/cuda/cuda_gpu_executor.cc:936] successful NUMA node read from SysFS had negative value (-1), but there must be at least one NUMA node, so returning NUMA node zero\n",
      "2022-05-02 02:42:12.801772: I tensorflow/stream_executor/cuda/cuda_gpu_executor.cc:936] successful NUMA node read from SysFS had negative value (-1), but there must be at least one NUMA node, so returning NUMA node zero\n",
      "2022-05-02 02:42:12.802071: I tensorflow/stream_executor/cuda/cuda_gpu_executor.cc:936] successful NUMA node read from SysFS had negative value (-1), but there must be at least one NUMA node, so returning NUMA node zero\n",
      "2022-05-02 02:42:12.802350: I tensorflow/core/common_runtime/gpu/gpu_device.cc:1525] Created device /job:localhost/replica:0/task:0/device:GPU:0 with 164 MB memory:  -> device: 0, name: NVIDIA Quadro P4000, pci bus id: 0000:00:05.0, compute capability: 6.1\n",
      "2022-05-02 02:42:21.479302: I tensorflow/stream_executor/cuda/cuda_driver.cc:739] failed to allocate 164.00M (171966464 bytes) from device: CUDA_ERROR_OUT_OF_MEMORY: out of memory\n",
      "2022-05-02 02:42:22.813623: I tensorflow/stream_executor/cuda/cuda_gpu_executor.cc:936] successful NUMA node read from SysFS had negative value (-1), but there must be at least one NUMA node, so returning NUMA node zero\n",
      "2022-05-02 02:42:22.814042: I tensorflow/core/grappler/devices.cc:66] Number of eligible GPUs (core count >= 8, compute capability >= 0.0): 1\n",
      "2022-05-02 02:42:22.814273: I tensorflow/core/grappler/clusters/single_machine.cc:358] Starting new session\n",
      "2022-05-02 02:42:22.814753: I tensorflow/stream_executor/cuda/cuda_gpu_executor.cc:936] successful NUMA node read from SysFS had negative value (-1), but there must be at least one NUMA node, so returning NUMA node zero\n",
      "2022-05-02 02:42:22.815030: I tensorflow/stream_executor/cuda/cuda_gpu_executor.cc:936] successful NUMA node read from SysFS had negative value (-1), but there must be at least one NUMA node, so returning NUMA node zero\n",
      "2022-05-02 02:42:22.815268: I tensorflow/stream_executor/cuda/cuda_gpu_executor.cc:936] successful NUMA node read from SysFS had negative value (-1), but there must be at least one NUMA node, so returning NUMA node zero\n",
      "2022-05-02 02:42:22.815570: I tensorflow/stream_executor/cuda/cuda_gpu_executor.cc:936] successful NUMA node read from SysFS had negative value (-1), but there must be at least one NUMA node, so returning NUMA node zero\n",
      "2022-05-02 02:42:22.815843: I tensorflow/stream_executor/cuda/cuda_gpu_executor.cc:936] successful NUMA node read from SysFS had negative value (-1), but there must be at least one NUMA node, so returning NUMA node zero\n",
      "2022-05-02 02:42:22.816051: I tensorflow/core/common_runtime/gpu/gpu_device.cc:1525] Created device /job:localhost/replica:0/task:0/device:GPU:0 with 164 MB memory:  -> device: 0, name: NVIDIA Quadro P4000, pci bus id: 0000:00:05.0, compute capability: 6.1\n",
      "2022-05-02 02:42:23.081325: I tensorflow/core/grappler/optimizers/meta_optimizer.cc:1164] Optimization results for grappler item: graph_to_optimize\n",
      "  function_optimizer: Graph size after: 3658 nodes (3248), 4883 edges (4466), time = 159.393ms.\n",
      "  function_optimizer: function_optimizer did nothing. time = 0.03ms.\n",
      "\n",
      "2022-05-02 02:42:27.440788: I tensorflow/core/grappler/optimizers/meta_optimizer.cc:1164] Optimization results for grappler item: graph_to_optimize\n",
      "  debug_stripper: Graph size after: 3385 nodes (0), 4691 edges (0), time = 6.749ms.\n",
      "  model_pruner: Graph size after: 2937 nodes (-448), 4243 edges (-448), time = 30.521ms.\n",
      "  constant_folding: Graph size after: 1409 nodes (-1528), 2475 edges (-1768), time = 167.272ms.\n",
      "  arithmetic_optimizer: Graph size after: 1425 nodes (16), 2481 edges (6), time = 40.716ms.\n",
      "  dependency_optimizer: Graph size after: 1337 nodes (-88), 1494 edges (-987), time = 22.072ms.\n",
      "  model_pruner: Graph size after: 1337 nodes (0), 1494 edges (0), time = 11.029ms.\n",
      "  constant_folding: Graph size after: 1337 nodes (0), 1494 edges (0), time = 74.124ms.\n",
      "  arithmetic_optimizer: Graph size after: 1337 nodes (0), 1494 edges (0), time = 36.757ms.\n",
      "  dependency_optimizer: Graph size after: 1334 nodes (-3), 1491 edges (-3), time = 18.45ms.\n",
      "  debug_stripper: debug_stripper did nothing. time = 0.171ms.\n",
      "  model_pruner: Graph size after: 1334 nodes (0), 1491 edges (0), time = 11.627ms.\n",
      "  constant_folding: Graph size after: 1334 nodes (0), 1491 edges (0), time = 47.606ms.\n",
      "  arithmetic_optimizer: Graph size after: 1334 nodes (0), 1491 edges (0), time = 37.466ms.\n",
      "  dependency_optimizer: Graph size after: 1334 nodes (0), 1491 edges (0), time = 19.978ms.\n",
      "  model_pruner: Graph size after: 1334 nodes (0), 1491 edges (0), time = 11.896ms.\n",
      "  constant_folding: Graph size after: 1334 nodes (0), 1491 edges (0), time = 49.828ms.\n",
      "  arithmetic_optimizer: Graph size after: 1334 nodes (0), 1491 edges (0), time = 35.996ms.\n",
      "  dependency_optimizer: Graph size after: 1334 nodes (0), 1491 edges (0), time = 19.402ms.\n",
      "\n",
      "2022-05-02 02:42:36.374592: I tensorflow/core/grappler/optimizers/meta_optimizer.cc:1164] Optimization results for grappler item: graph_to_optimize\n",
      "  remapper: Graph size after: 1298 nodes (-112), 1151 edges (-112), time = 5.791ms.\n",
      "  constant_folding: Graph size after: 994 nodes (-304), 1151 edges (0), time = 39.019ms.\n",
      "  arithmetic_optimizer: Graph size after: 994 nodes (0), 1151 edges (0), time = 17.617ms.\n",
      "  dependency_optimizer: Graph size after: 994 nodes (0), 1151 edges (0), time = 8.767ms.\n",
      "  remapper: Graph size after: 994 nodes (0), 1151 edges (0), time = 3.734ms.\n",
      "  constant_folding: Graph size after: 994 nodes (0), 1151 edges (0), time = 22.873ms.\n",
      "  arithmetic_optimizer: Graph size after: 994 nodes (0), 1151 edges (0), time = 18.133ms.\n",
      "  dependency_optimizer: Graph size after: 994 nodes (0), 1151 edges (0), time = 9.398ms.\n",
      "\n",
      "Writing weight file Tensorflow/workspace/models/my_ssd_mobnet/tfjsexport/model.json...\n"
     ]
    }
   ],
   "source": [
    "!{command}"
   ]
  },
  {
   "cell_type": "code",
   "execution_count": null,
   "metadata": {
    "id": "o8_hm-itpfDK"
   },
   "outputs": [],
   "source": [
    "# Test Code: https://github.com/nicknochnack/RealTimeSignLanguageDetectionwithTFJS"
   ]
  },
  {
   "cell_type": "markdown",
   "metadata": {
    "id": "VtUw73FHpfDK"
   },
   "source": [
    "# 12. Conversion to TFLite"
   ]
  },
  {
   "cell_type": "code",
   "execution_count": 30,
   "metadata": {
    "id": "XviMtewLpfDK"
   },
   "outputs": [],
   "source": [
    "TFLITE_SCRIPT = os.path.join(paths['APIMODEL_PATH'], 'research', 'object_detection', 'export_tflite_graph_tf2.py ')"
   ]
  },
  {
   "cell_type": "code",
   "execution_count": 31,
   "metadata": {
    "id": "us86cjC4pfDL"
   },
   "outputs": [],
   "source": [
    "command = \"python3 {} --pipeline_config_path={} --trained_checkpoint_dir={} --output_directory={}\".format(TFLITE_SCRIPT ,files['PIPELINE_CONFIG'], paths['CHECKPOINT_PATH'], paths['TFLITE_PATH'])"
   ]
  },
  {
   "cell_type": "code",
   "execution_count": 32,
   "metadata": {
    "colab": {
     "base_uri": "https://localhost:8080/"
    },
    "id": "n1r5YO3rpfDL",
    "outputId": "5fcdf7a4-eee2-4365-f1ca-1751968379ea"
   },
   "outputs": [
    {
     "name": "stdout",
     "output_type": "stream",
     "text": [
      "python3 Tensorflow/models/research/object_detection/export_tflite_graph_tf2.py  --pipeline_config_path=Tensorflow/workspace/models/my_ssd_mobnet/pipeline.config --trained_checkpoint_dir=Tensorflow/workspace/models/my_ssd_mobnet --output_directory=Tensorflow/workspace/models/my_ssd_mobnet/tfliteexport\n"
     ]
    }
   ],
   "source": [
    "print(command)"
   ]
  },
  {
   "cell_type": "code",
   "execution_count": 33,
   "metadata": {
    "colab": {
     "base_uri": "https://localhost:8080/"
    },
    "id": "I-xWpHN8pfDL",
    "outputId": "7f6bacd8-d077-43b5-c131-5b081fba24a4"
   },
   "outputs": [
    {
     "name": "stdout",
     "output_type": "stream",
     "text": [
      "2022-05-02 02:43:32.620485: I tensorflow/stream_executor/cuda/cuda_gpu_executor.cc:936] successful NUMA node read from SysFS had negative value (-1), but there must be at least one NUMA node, so returning NUMA node zero\n",
      "2022-05-02 02:43:32.630322: I tensorflow/stream_executor/cuda/cuda_gpu_executor.cc:936] successful NUMA node read from SysFS had negative value (-1), but there must be at least one NUMA node, so returning NUMA node zero\n",
      "2022-05-02 02:43:32.630778: I tensorflow/stream_executor/cuda/cuda_gpu_executor.cc:936] successful NUMA node read from SysFS had negative value (-1), but there must be at least one NUMA node, so returning NUMA node zero\n",
      "2022-05-02 02:43:32.638386: I tensorflow/core/platform/cpu_feature_guard.cc:151] This TensorFlow binary is optimized with oneAPI Deep Neural Network Library (oneDNN) to use the following CPU instructions in performance-critical operations:  AVX2 FMA\n",
      "To enable them in other operations, rebuild TensorFlow with the appropriate compiler flags.\n",
      "2022-05-02 02:43:32.639147: I tensorflow/stream_executor/cuda/cuda_gpu_executor.cc:936] successful NUMA node read from SysFS had negative value (-1), but there must be at least one NUMA node, so returning NUMA node zero\n",
      "2022-05-02 02:43:32.639481: I tensorflow/stream_executor/cuda/cuda_gpu_executor.cc:936] successful NUMA node read from SysFS had negative value (-1), but there must be at least one NUMA node, so returning NUMA node zero\n",
      "2022-05-02 02:43:32.639764: I tensorflow/stream_executor/cuda/cuda_gpu_executor.cc:936] successful NUMA node read from SysFS had negative value (-1), but there must be at least one NUMA node, so returning NUMA node zero\n",
      "2022-05-02 02:43:33.520162: I tensorflow/stream_executor/cuda/cuda_gpu_executor.cc:936] successful NUMA node read from SysFS had negative value (-1), but there must be at least one NUMA node, so returning NUMA node zero\n",
      "2022-05-02 02:43:33.520475: I tensorflow/stream_executor/cuda/cuda_gpu_executor.cc:936] successful NUMA node read from SysFS had negative value (-1), but there must be at least one NUMA node, so returning NUMA node zero\n",
      "2022-05-02 02:43:33.520781: I tensorflow/stream_executor/cuda/cuda_gpu_executor.cc:936] successful NUMA node read from SysFS had negative value (-1), but there must be at least one NUMA node, so returning NUMA node zero\n",
      "2022-05-02 02:43:33.521026: I tensorflow/core/common_runtime/gpu/gpu_device.cc:1525] Created device /job:localhost/replica:0/task:0/device:GPU:0 with 164 MB memory:  -> device: 0, name: NVIDIA Quadro P4000, pci bus id: 0000:00:05.0, compute capability: 6.1\n",
      "2022-05-02 02:43:33.525052: I tensorflow/stream_executor/cuda/cuda_driver.cc:739] failed to allocate 164.12M (172097536 bytes) from device: CUDA_ERROR_OUT_OF_MEMORY: out of memory\n",
      "2022-05-02 02:43:40.321176: I tensorflow/stream_executor/cuda/cuda_gpu_executor.cc:936] successful NUMA node read from SysFS had negative value (-1), but there must be at least one NUMA node, so returning NUMA node zero\n",
      "2022-05-02 02:43:40.321537: I tensorflow/stream_executor/cuda/cuda_gpu_executor.cc:936] successful NUMA node read from SysFS had negative value (-1), but there must be at least one NUMA node, so returning NUMA node zero\n",
      "2022-05-02 02:43:40.321790: I tensorflow/stream_executor/cuda/cuda_gpu_executor.cc:936] successful NUMA node read from SysFS had negative value (-1), but there must be at least one NUMA node, so returning NUMA node zero\n",
      "2022-05-02 02:43:40.322140: I tensorflow/stream_executor/cuda/cuda_gpu_executor.cc:936] successful NUMA node read from SysFS had negative value (-1), but there must be at least one NUMA node, so returning NUMA node zero\n",
      "2022-05-02 02:43:40.322374: I tensorflow/stream_executor/cuda/cuda_gpu_executor.cc:936] successful NUMA node read from SysFS had negative value (-1), but there must be at least one NUMA node, so returning NUMA node zero\n",
      "2022-05-02 02:43:40.322561: I tensorflow/core/common_runtime/gpu/gpu_device.cc:1525] Created device /job:localhost/replica:0/task:0/device:GPU:0 with 164 MB memory:  -> device: 0, name: NVIDIA Quadro P4000, pci bus id: 0000:00:05.0, compute capability: 6.1\n",
      "2022-05-02 02:43:42.281430: I tensorflow/stream_executor/cuda/cuda_gpu_executor.cc:936] successful NUMA node read from SysFS had negative value (-1), but there must be at least one NUMA node, so returning NUMA node zero\n",
      "2022-05-02 02:43:42.281890: I tensorflow/stream_executor/cuda/cuda_gpu_executor.cc:936] successful NUMA node read from SysFS had negative value (-1), but there must be at least one NUMA node, so returning NUMA node zero\n",
      "2022-05-02 02:43:42.282264: I tensorflow/stream_executor/cuda/cuda_gpu_executor.cc:936] successful NUMA node read from SysFS had negative value (-1), but there must be at least one NUMA node, so returning NUMA node zero\n",
      "2022-05-02 02:43:42.282599: I tensorflow/stream_executor/cuda/cuda_gpu_executor.cc:936] successful NUMA node read from SysFS had negative value (-1), but there must be at least one NUMA node, so returning NUMA node zero\n",
      "2022-05-02 02:43:42.282906: I tensorflow/stream_executor/cuda/cuda_gpu_executor.cc:936] successful NUMA node read from SysFS had negative value (-1), but there must be at least one NUMA node, so returning NUMA node zero\n",
      "2022-05-02 02:43:42.283175: I tensorflow/core/common_runtime/gpu/gpu_device.cc:1525] Created device /job:localhost/replica:0/task:0/device:GPU:0 with 164 MB memory:  -> device: 0, name: NVIDIA Quadro P4000, pci bus id: 0000:00:05.0, compute capability: 6.1\n",
      "2022-05-02 02:43:43.043944: W tensorflow/python/util/util.cc:368] Sets are not currently considered sequences, but this may change in the future, so consider avoiding using them.\n",
      "2022-05-02 02:43:44.848275: I tensorflow/stream_executor/cuda/cuda_gpu_executor.cc:936] successful NUMA node read from SysFS had negative value (-1), but there must be at least one NUMA node, so returning NUMA node zero\n",
      "2022-05-02 02:43:44.848682: I tensorflow/stream_executor/cuda/cuda_gpu_executor.cc:936] successful NUMA node read from SysFS had negative value (-1), but there must be at least one NUMA node, so returning NUMA node zero\n",
      "2022-05-02 02:43:44.848982: I tensorflow/stream_executor/cuda/cuda_gpu_executor.cc:936] successful NUMA node read from SysFS had negative value (-1), but there must be at least one NUMA node, so returning NUMA node zero\n",
      "2022-05-02 02:43:44.849311: I tensorflow/stream_executor/cuda/cuda_gpu_executor.cc:936] successful NUMA node read from SysFS had negative value (-1), but there must be at least one NUMA node, so returning NUMA node zero\n",
      "2022-05-02 02:43:44.849561: I tensorflow/stream_executor/cuda/cuda_gpu_executor.cc:936] successful NUMA node read from SysFS had negative value (-1), but there must be at least one NUMA node, so returning NUMA node zero\n",
      "2022-05-02 02:43:44.849760: I tensorflow/core/common_runtime/gpu/gpu_device.cc:1525] Created device /job:localhost/replica:0/task:0/device:GPU:0 with 164 MB memory:  -> device: 0, name: NVIDIA Quadro P4000, pci bus id: 0000:00:05.0, compute capability: 6.1\n",
      "WARNING:tensorflow:Skipping full serialization of Keras layer <object_detection.meta_architectures.ssd_meta_arch.SSDMetaArch object at 0x7f25c05d8bb0>, because it is not built.\n",
      "W0502 02:43:45.217478 139802420516672 save_impl.py:71] Skipping full serialization of Keras layer <object_detection.meta_architectures.ssd_meta_arch.SSDMetaArch object at 0x7f25c05d8bb0>, because it is not built.\n",
      "WARNING:tensorflow:Skipping full serialization of Keras layer <keras.layers.convolutional.SeparableConv2D object at 0x7f25cf1759a0>, because it is not built.\n",
      "W0502 02:43:45.490801 139802420516672 save_impl.py:71] Skipping full serialization of Keras layer <keras.layers.convolutional.SeparableConv2D object at 0x7f25cf1759a0>, because it is not built.\n",
      "WARNING:tensorflow:Skipping full serialization of Keras layer <object_detection.core.freezable_batch_norm.FreezableBatchNorm object at 0x7f2568081c70>, because it is not built.\n",
      "W0502 02:43:45.491085 139802420516672 save_impl.py:71] Skipping full serialization of Keras layer <object_detection.core.freezable_batch_norm.FreezableBatchNorm object at 0x7f2568081c70>, because it is not built.\n",
      "WARNING:tensorflow:Skipping full serialization of Keras layer <keras.layers.core.lambda_layer.Lambda object at 0x7f2568064130>, because it is not built.\n",
      "W0502 02:43:45.491251 139802420516672 save_impl.py:71] Skipping full serialization of Keras layer <keras.layers.core.lambda_layer.Lambda object at 0x7f2568064130>, because it is not built.\n",
      "WARNING:tensorflow:Skipping full serialization of Keras layer <keras.layers.convolutional.SeparableConv2D object at 0x7f2568064670>, because it is not built.\n",
      "W0502 02:43:45.491371 139802420516672 save_impl.py:71] Skipping full serialization of Keras layer <keras.layers.convolutional.SeparableConv2D object at 0x7f2568064670>, because it is not built.\n",
      "WARNING:tensorflow:Skipping full serialization of Keras layer <object_detection.core.freezable_batch_norm.FreezableBatchNorm object at 0x7f2568064340>, because it is not built.\n",
      "W0502 02:43:45.491489 139802420516672 save_impl.py:71] Skipping full serialization of Keras layer <object_detection.core.freezable_batch_norm.FreezableBatchNorm object at 0x7f2568064340>, because it is not built.\n",
      "WARNING:tensorflow:Skipping full serialization of Keras layer <keras.layers.core.lambda_layer.Lambda object at 0x7f2568064310>, because it is not built.\n",
      "W0502 02:43:45.491605 139802420516672 save_impl.py:71] Skipping full serialization of Keras layer <keras.layers.core.lambda_layer.Lambda object at 0x7f2568064310>, because it is not built.\n",
      "WARNING:tensorflow:Skipping full serialization of Keras layer <keras.layers.convolutional.SeparableConv2D object at 0x7f2568064fa0>, because it is not built.\n",
      "W0502 02:43:45.491711 139802420516672 save_impl.py:71] Skipping full serialization of Keras layer <keras.layers.convolutional.SeparableConv2D object at 0x7f2568064fa0>, because it is not built.\n",
      "WARNING:tensorflow:Skipping full serialization of Keras layer <object_detection.core.freezable_batch_norm.FreezableBatchNorm object at 0x7f2568018550>, because it is not built.\n",
      "W0502 02:43:45.491871 139802420516672 save_impl.py:71] Skipping full serialization of Keras layer <object_detection.core.freezable_batch_norm.FreezableBatchNorm object at 0x7f2568018550>, because it is not built.\n",
      "WARNING:tensorflow:Skipping full serialization of Keras layer <keras.layers.core.lambda_layer.Lambda object at 0x7f2568018760>, because it is not built.\n",
      "W0502 02:43:45.491989 139802420516672 save_impl.py:71] Skipping full serialization of Keras layer <keras.layers.core.lambda_layer.Lambda object at 0x7f2568018760>, because it is not built.\n",
      "WARNING:tensorflow:Skipping full serialization of Keras layer <keras.layers.convolutional.SeparableConv2D object at 0x7f2568018370>, because it is not built.\n",
      "W0502 02:43:45.492115 139802420516672 save_impl.py:71] Skipping full serialization of Keras layer <keras.layers.convolutional.SeparableConv2D object at 0x7f2568018370>, because it is not built.\n",
      "WARNING:tensorflow:Skipping full serialization of Keras layer <object_detection.core.freezable_batch_norm.FreezableBatchNorm object at 0x7f2568018cd0>, because it is not built.\n",
      "W0502 02:43:45.492281 139802420516672 save_impl.py:71] Skipping full serialization of Keras layer <object_detection.core.freezable_batch_norm.FreezableBatchNorm object at 0x7f2568018cd0>, because it is not built.\n",
      "WARNING:tensorflow:Skipping full serialization of Keras layer <keras.layers.core.lambda_layer.Lambda object at 0x7f25680160d0>, because it is not built.\n",
      "W0502 02:43:45.492398 139802420516672 save_impl.py:71] Skipping full serialization of Keras layer <keras.layers.core.lambda_layer.Lambda object at 0x7f25680160d0>, because it is not built.\n",
      "WARNING:tensorflow:Skipping full serialization of Keras layer <object_detection.core.freezable_batch_norm.FreezableBatchNorm object at 0x7f25cf175f70>, because it is not built.\n",
      "W0502 02:43:45.492509 139802420516672 save_impl.py:71] Skipping full serialization of Keras layer <object_detection.core.freezable_batch_norm.FreezableBatchNorm object at 0x7f25cf175f70>, because it is not built.\n",
      "WARNING:tensorflow:Skipping full serialization of Keras layer <keras.layers.core.lambda_layer.Lambda object at 0x7f25680f9940>, because it is not built.\n",
      "W0502 02:43:45.492641 139802420516672 save_impl.py:71] Skipping full serialization of Keras layer <keras.layers.core.lambda_layer.Lambda object at 0x7f25680f9940>, because it is not built.\n",
      "WARNING:tensorflow:Skipping full serialization of Keras layer <object_detection.core.freezable_batch_norm.FreezableBatchNorm object at 0x7f256808fc10>, because it is not built.\n",
      "W0502 02:43:45.492756 139802420516672 save_impl.py:71] Skipping full serialization of Keras layer <object_detection.core.freezable_batch_norm.FreezableBatchNorm object at 0x7f256808fc10>, because it is not built.\n",
      "WARNING:tensorflow:Skipping full serialization of Keras layer <keras.layers.core.lambda_layer.Lambda object at 0x7f256808fc40>, because it is not built.\n",
      "W0502 02:43:45.492921 139802420516672 save_impl.py:71] Skipping full serialization of Keras layer <keras.layers.core.lambda_layer.Lambda object at 0x7f256808fc40>, because it is not built.\n",
      "WARNING:tensorflow:Skipping full serialization of Keras layer <object_detection.core.freezable_batch_norm.FreezableBatchNorm object at 0x7f256808f4c0>, because it is not built.\n",
      "W0502 02:43:45.493039 139802420516672 save_impl.py:71] Skipping full serialization of Keras layer <object_detection.core.freezable_batch_norm.FreezableBatchNorm object at 0x7f256808f4c0>, because it is not built.\n",
      "WARNING:tensorflow:Skipping full serialization of Keras layer <keras.layers.core.lambda_layer.Lambda object at 0x7f256808f460>, because it is not built.\n",
      "W0502 02:43:45.493188 139802420516672 save_impl.py:71] Skipping full serialization of Keras layer <keras.layers.core.lambda_layer.Lambda object at 0x7f256808f460>, because it is not built.\n",
      "WARNING:tensorflow:Skipping full serialization of Keras layer <object_detection.core.freezable_batch_norm.FreezableBatchNorm object at 0x7f256808f880>, because it is not built.\n",
      "W0502 02:43:45.493323 139802420516672 save_impl.py:71] Skipping full serialization of Keras layer <object_detection.core.freezable_batch_norm.FreezableBatchNorm object at 0x7f256808f880>, because it is not built.\n",
      "WARNING:tensorflow:Skipping full serialization of Keras layer <keras.layers.core.lambda_layer.Lambda object at 0x7f256808f910>, because it is not built.\n",
      "W0502 02:43:45.493434 139802420516672 save_impl.py:71] Skipping full serialization of Keras layer <keras.layers.core.lambda_layer.Lambda object at 0x7f256808f910>, because it is not built.\n",
      "WARNING:tensorflow:Skipping full serialization of Keras layer <object_detection.core.freezable_batch_norm.FreezableBatchNorm object at 0x7f25cf175fa0>, because it is not built.\n",
      "W0502 02:43:45.493565 139802420516672 save_impl.py:71] Skipping full serialization of Keras layer <object_detection.core.freezable_batch_norm.FreezableBatchNorm object at 0x7f25cf175fa0>, because it is not built.\n",
      "WARNING:tensorflow:Skipping full serialization of Keras layer <keras.layers.core.lambda_layer.Lambda object at 0x7f2560fd62b0>, because it is not built.\n",
      "W0502 02:43:45.493672 139802420516672 save_impl.py:71] Skipping full serialization of Keras layer <keras.layers.core.lambda_layer.Lambda object at 0x7f2560fd62b0>, because it is not built.\n",
      "WARNING:tensorflow:Skipping full serialization of Keras layer <object_detection.core.freezable_batch_norm.FreezableBatchNorm object at 0x7f2560fd13a0>, because it is not built.\n",
      "W0502 02:43:45.493796 139802420516672 save_impl.py:71] Skipping full serialization of Keras layer <object_detection.core.freezable_batch_norm.FreezableBatchNorm object at 0x7f2560fd13a0>, because it is not built.\n",
      "WARNING:tensorflow:Skipping full serialization of Keras layer <keras.layers.core.lambda_layer.Lambda object at 0x7f2560fd1610>, because it is not built.\n",
      "W0502 02:43:45.493948 139802420516672 save_impl.py:71] Skipping full serialization of Keras layer <keras.layers.core.lambda_layer.Lambda object at 0x7f2560fd1610>, because it is not built.\n",
      "WARNING:tensorflow:Skipping full serialization of Keras layer <object_detection.core.freezable_batch_norm.FreezableBatchNorm object at 0x7f2560fd1670>, because it is not built.\n",
      "W0502 02:43:45.494076 139802420516672 save_impl.py:71] Skipping full serialization of Keras layer <object_detection.core.freezable_batch_norm.FreezableBatchNorm object at 0x7f2560fd1670>, because it is not built.\n",
      "WARNING:tensorflow:Skipping full serialization of Keras layer <keras.layers.core.lambda_layer.Lambda object at 0x7f2560fd17f0>, because it is not built.\n",
      "W0502 02:43:45.494216 139802420516672 save_impl.py:71] Skipping full serialization of Keras layer <keras.layers.core.lambda_layer.Lambda object at 0x7f2560fd17f0>, because it is not built.\n",
      "WARNING:tensorflow:Skipping full serialization of Keras layer <object_detection.core.freezable_batch_norm.FreezableBatchNorm object at 0x7f2560fd1f70>, because it is not built.\n",
      "W0502 02:43:45.494335 139802420516672 save_impl.py:71] Skipping full serialization of Keras layer <object_detection.core.freezable_batch_norm.FreezableBatchNorm object at 0x7f2560fd1f70>, because it is not built.\n",
      "WARNING:tensorflow:Skipping full serialization of Keras layer <keras.layers.core.lambda_layer.Lambda object at 0x7f2560fd1e50>, because it is not built.\n",
      "W0502 02:43:45.494442 139802420516672 save_impl.py:71] Skipping full serialization of Keras layer <keras.layers.core.lambda_layer.Lambda object at 0x7f2560fd1e50>, because it is not built.\n",
      "WARNING:tensorflow:Skipping full serialization of Keras layer <object_detection.core.freezable_batch_norm.FreezableBatchNorm object at 0x7f25cf175fd0>, because it is not built.\n",
      "W0502 02:43:45.494550 139802420516672 save_impl.py:71] Skipping full serialization of Keras layer <object_detection.core.freezable_batch_norm.FreezableBatchNorm object at 0x7f25cf175fd0>, because it is not built.\n",
      "WARNING:tensorflow:Skipping full serialization of Keras layer <keras.layers.core.lambda_layer.Lambda object at 0x7f2560fd3a60>, because it is not built.\n",
      "W0502 02:43:45.494661 139802420516672 save_impl.py:71] Skipping full serialization of Keras layer <keras.layers.core.lambda_layer.Lambda object at 0x7f2560fd3a60>, because it is not built.\n",
      "WARNING:tensorflow:Skipping full serialization of Keras layer <object_detection.core.freezable_batch_norm.FreezableBatchNorm object at 0x7f2560fcebb0>, because it is not built.\n",
      "W0502 02:43:45.494767 139802420516672 save_impl.py:71] Skipping full serialization of Keras layer <object_detection.core.freezable_batch_norm.FreezableBatchNorm object at 0x7f2560fcebb0>, because it is not built.\n",
      "WARNING:tensorflow:Skipping full serialization of Keras layer <keras.layers.core.lambda_layer.Lambda object at 0x7f2560fce760>, because it is not built.\n",
      "W0502 02:43:45.494905 139802420516672 save_impl.py:71] Skipping full serialization of Keras layer <keras.layers.core.lambda_layer.Lambda object at 0x7f2560fce760>, because it is not built.\n",
      "WARNING:tensorflow:Skipping full serialization of Keras layer <object_detection.core.freezable_batch_norm.FreezableBatchNorm object at 0x7f25c0394160>, because it is not built.\n",
      "W0502 02:43:45.495022 139802420516672 save_impl.py:71] Skipping full serialization of Keras layer <object_detection.core.freezable_batch_norm.FreezableBatchNorm object at 0x7f25c0394160>, because it is not built.\n",
      "WARNING:tensorflow:Skipping full serialization of Keras layer <keras.layers.core.lambda_layer.Lambda object at 0x7f25c03949d0>, because it is not built.\n",
      "W0502 02:43:45.495164 139802420516672 save_impl.py:71] Skipping full serialization of Keras layer <keras.layers.core.lambda_layer.Lambda object at 0x7f25c03949d0>, because it is not built.\n",
      "WARNING:tensorflow:Skipping full serialization of Keras layer <object_detection.core.freezable_batch_norm.FreezableBatchNorm object at 0x7f256801b3a0>, because it is not built.\n",
      "W0502 02:43:45.495275 139802420516672 save_impl.py:71] Skipping full serialization of Keras layer <object_detection.core.freezable_batch_norm.FreezableBatchNorm object at 0x7f256801b3a0>, because it is not built.\n",
      "WARNING:tensorflow:Skipping full serialization of Keras layer <keras.layers.core.lambda_layer.Lambda object at 0x7f256801b3d0>, because it is not built.\n",
      "W0502 02:43:45.495414 139802420516672 save_impl.py:71] Skipping full serialization of Keras layer <keras.layers.core.lambda_layer.Lambda object at 0x7f256801b3d0>, because it is not built.\n",
      "WARNING:tensorflow:Skipping full serialization of Keras layer <object_detection.core.freezable_batch_norm.FreezableBatchNorm object at 0x7f256830ce50>, because it is not built.\n",
      "W0502 02:43:45.495519 139802420516672 save_impl.py:71] Skipping full serialization of Keras layer <object_detection.core.freezable_batch_norm.FreezableBatchNorm object at 0x7f256830ce50>, because it is not built.\n",
      "WARNING:tensorflow:Skipping full serialization of Keras layer <keras.layers.core.lambda_layer.Lambda object at 0x7f25680617f0>, because it is not built.\n",
      "W0502 02:43:45.495645 139802420516672 save_impl.py:71] Skipping full serialization of Keras layer <keras.layers.core.lambda_layer.Lambda object at 0x7f25680617f0>, because it is not built.\n",
      "WARNING:tensorflow:Skipping full serialization of Keras layer <object_detection.core.freezable_batch_norm.FreezableBatchNorm object at 0x7f2568299850>, because it is not built.\n",
      "W0502 02:43:45.495743 139802420516672 save_impl.py:71] Skipping full serialization of Keras layer <object_detection.core.freezable_batch_norm.FreezableBatchNorm object at 0x7f2568299850>, because it is not built.\n",
      "WARNING:tensorflow:Skipping full serialization of Keras layer <keras.layers.core.lambda_layer.Lambda object at 0x7f2568299e20>, because it is not built.\n",
      "W0502 02:43:45.495899 139802420516672 save_impl.py:71] Skipping full serialization of Keras layer <keras.layers.core.lambda_layer.Lambda object at 0x7f2568299e20>, because it is not built.\n",
      "WARNING:tensorflow:Skipping full serialization of Keras layer <object_detection.core.freezable_batch_norm.FreezableBatchNorm object at 0x7f25681babe0>, because it is not built.\n",
      "W0502 02:43:45.496020 139802420516672 save_impl.py:71] Skipping full serialization of Keras layer <object_detection.core.freezable_batch_norm.FreezableBatchNorm object at 0x7f25681babe0>, because it is not built.\n",
      "WARNING:tensorflow:Skipping full serialization of Keras layer <keras.layers.core.lambda_layer.Lambda object at 0x7f25681bad00>, because it is not built.\n",
      "W0502 02:43:45.496136 139802420516672 save_impl.py:71] Skipping full serialization of Keras layer <keras.layers.core.lambda_layer.Lambda object at 0x7f25681bad00>, because it is not built.\n",
      "WARNING:tensorflow:Skipping full serialization of Keras layer <object_detection.core.freezable_batch_norm.FreezableBatchNorm object at 0x7f25680b12b0>, because it is not built.\n",
      "W0502 02:43:45.496289 139802420516672 save_impl.py:71] Skipping full serialization of Keras layer <object_detection.core.freezable_batch_norm.FreezableBatchNorm object at 0x7f25680b12b0>, because it is not built.\n",
      "WARNING:tensorflow:Skipping full serialization of Keras layer <keras.layers.core.lambda_layer.Lambda object at 0x7f25680b12e0>, because it is not built.\n",
      "W0502 02:43:45.496388 139802420516672 save_impl.py:71] Skipping full serialization of Keras layer <keras.layers.core.lambda_layer.Lambda object at 0x7f25680b12e0>, because it is not built.\n"
     ]
    },
    {
     "name": "stdout",
     "output_type": "stream",
     "text": [
      "W0502 02:44:03.512482 139802420516672 save.py:260] Found untraced functions such as WeightSharedConvolutionalBoxPredictor_layer_call_fn, WeightSharedConvolutionalBoxPredictor_layer_call_and_return_conditional_losses, WeightSharedConvolutionalBoxHead_layer_call_fn, WeightSharedConvolutionalBoxHead_layer_call_and_return_conditional_losses, WeightSharedConvolutionalClassHead_layer_call_fn while saving (showing 5 of 104). These functions will not be directly callable after loading.\n",
      "INFO:tensorflow:Assets written to: Tensorflow/workspace/models/my_ssd_mobnet/tfliteexport/saved_model/assets\n",
      "I0502 02:44:09.219515 139802420516672 builder_impl.py:779] Assets written to: Tensorflow/workspace/models/my_ssd_mobnet/tfliteexport/saved_model/assets\n"
     ]
    }
   ],
   "source": [
    "!{command}"
   ]
  },
  {
   "cell_type": "code",
   "execution_count": 34,
   "metadata": {
    "id": "iJfYMbN6pfDL"
   },
   "outputs": [],
   "source": [
    "FROZEN_TFLITE_PATH = os.path.join(paths['TFLITE_PATH'], 'saved_model')\n",
    "TFLITE_MODEL = os.path.join(paths['TFLITE_PATH'], 'saved_model', 'detect.tflite')"
   ]
  },
  {
   "cell_type": "code",
   "execution_count": 35,
   "metadata": {},
   "outputs": [],
   "source": [
    "command = \"tflite_convert \\\n",
    "--saved_model_dir={} \\\n",
    "--output_file={} \\\n",
    "--input_shapes=1,300,300,3 \\\n",
    "--input_arrays=normalized_input_image_tensor \\\n",
    "--output_arrays='TFLite_Detection_PostProcess','TFLite_Detection_PostProcess:1','TFLite_Detection_PostProcess:2','TFLite_Detection_PostProcess:3' \\\n",
    "--inference_type=FLOAT \\\n",
    "--allow_custom_ops\".format(FROZEN_TFLITE_PATH, TFLITE_MODEL, )"
   ]
  },
  {
   "cell_type": "code",
   "execution_count": 36,
   "metadata": {
    "colab": {
     "base_uri": "https://localhost:8080/"
    },
    "id": "E8GwUeoFpfDL",
    "outputId": "fac43ea4-cc85-471b-a362-e994b06fd583"
   },
   "outputs": [
    {
     "name": "stdout",
     "output_type": "stream",
     "text": [
      "tflite_convert --saved_model_dir=Tensorflow/workspace/models/my_ssd_mobnet/tfliteexport/saved_model --output_file=Tensorflow/workspace/models/my_ssd_mobnet/tfliteexport/saved_model/detect.tflite --input_shapes=1,300,300,3 --input_arrays=normalized_input_image_tensor --output_arrays='TFLite_Detection_PostProcess','TFLite_Detection_PostProcess:1','TFLite_Detection_PostProcess:2','TFLite_Detection_PostProcess:3' --inference_type=FLOAT --allow_custom_ops\n"
     ]
    }
   ],
   "source": [
    "print(command)"
   ]
  },
  {
   "cell_type": "code",
   "execution_count": 37,
   "metadata": {
    "colab": {
     "base_uri": "https://localhost:8080/"
    },
    "id": "Nbd7gqHMpfDL",
    "outputId": "7c8fe6d5-2415-4641-8548-39d425c202f7"
   },
   "outputs": [
    {
     "name": "stdout",
     "output_type": "stream",
     "text": [
      "2022-05-02 02:45:15.525625: I tensorflow/stream_executor/cuda/cuda_gpu_executor.cc:936] successful NUMA node read from SysFS had negative value (-1), but there must be at least one NUMA node, so returning NUMA node zero\n",
      "2022-05-02 02:45:15.534802: I tensorflow/stream_executor/cuda/cuda_gpu_executor.cc:936] successful NUMA node read from SysFS had negative value (-1), but there must be at least one NUMA node, so returning NUMA node zero\n",
      "2022-05-02 02:45:15.535263: I tensorflow/stream_executor/cuda/cuda_gpu_executor.cc:936] successful NUMA node read from SysFS had negative value (-1), but there must be at least one NUMA node, so returning NUMA node zero\n",
      "2022-05-02 02:45:16.040638: I tensorflow/core/platform/cpu_feature_guard.cc:151] This TensorFlow binary is optimized with oneAPI Deep Neural Network Library (oneDNN) to use the following CPU instructions in performance-critical operations:  AVX2 FMA\n",
      "To enable them in other operations, rebuild TensorFlow with the appropriate compiler flags.\n",
      "2022-05-02 02:45:16.041786: I tensorflow/stream_executor/cuda/cuda_gpu_executor.cc:936] successful NUMA node read from SysFS had negative value (-1), but there must be at least one NUMA node, so returning NUMA node zero\n",
      "2022-05-02 02:45:16.042274: I tensorflow/stream_executor/cuda/cuda_gpu_executor.cc:936] successful NUMA node read from SysFS had negative value (-1), but there must be at least one NUMA node, so returning NUMA node zero\n",
      "2022-05-02 02:45:16.042600: I tensorflow/stream_executor/cuda/cuda_gpu_executor.cc:936] successful NUMA node read from SysFS had negative value (-1), but there must be at least one NUMA node, so returning NUMA node zero\n",
      "2022-05-02 02:45:16.940453: I tensorflow/stream_executor/cuda/cuda_gpu_executor.cc:936] successful NUMA node read from SysFS had negative value (-1), but there must be at least one NUMA node, so returning NUMA node zero\n",
      "2022-05-02 02:45:16.940835: I tensorflow/stream_executor/cuda/cuda_gpu_executor.cc:936] successful NUMA node read from SysFS had negative value (-1), but there must be at least one NUMA node, so returning NUMA node zero\n",
      "2022-05-02 02:45:16.941189: I tensorflow/stream_executor/cuda/cuda_gpu_executor.cc:936] successful NUMA node read from SysFS had negative value (-1), but there must be at least one NUMA node, so returning NUMA node zero\n",
      "2022-05-02 02:45:16.941453: I tensorflow/core/common_runtime/gpu/gpu_device.cc:1525] Created device /job:localhost/replica:0/task:0/device:GPU:0 with 164 MB memory:  -> device: 0, name: NVIDIA Quadro P4000, pci bus id: 0000:00:05.0, compute capability: 6.1\n",
      "2022-05-02 02:45:25.089495: I tensorflow/stream_executor/cuda/cuda_driver.cc:739] failed to allocate 164.00M (171966464 bytes) from device: CUDA_ERROR_OUT_OF_MEMORY: out of memory\n",
      "2022-05-02 02:45:28.282553: W tensorflow/compiler/mlir/lite/python/tf_tfl_flatbuffer_helpers.cc:357] Ignored output_format.\n",
      "2022-05-02 02:45:28.282611: W tensorflow/compiler/mlir/lite/python/tf_tfl_flatbuffer_helpers.cc:360] Ignored drop_control_dependency.\n",
      "2022-05-02 02:45:28.283816: I tensorflow/cc/saved_model/reader.cc:43] Reading SavedModel from: Tensorflow/workspace/models/my_ssd_mobnet/tfliteexport/saved_model\n",
      "2022-05-02 02:45:28.377792: I tensorflow/cc/saved_model/reader.cc:78] Reading meta graph with tags { serve }\n",
      "2022-05-02 02:45:28.377863: I tensorflow/cc/saved_model/reader.cc:119] Reading SavedModel debug info (if present) from: Tensorflow/workspace/models/my_ssd_mobnet/tfliteexport/saved_model\n",
      "2022-05-02 02:45:28.653898: I tensorflow/cc/saved_model/loader.cc:228] Restoring SavedModel bundle.\n",
      "2022-05-02 02:45:29.810473: I tensorflow/cc/saved_model/loader.cc:212] Running initialization op on SavedModel bundle at path: Tensorflow/workspace/models/my_ssd_mobnet/tfliteexport/saved_model\n",
      "2022-05-02 02:45:30.447662: I tensorflow/cc/saved_model/loader.cc:301] SavedModel load for tags { serve }; Status: success: OK. Took 2163849 microseconds.\n",
      "2022-05-02 02:45:31.649926: I tensorflow/compiler/mlir/tensorflow/utils/dump_mlir_util.cc:237] disabling MLIR crash reproducer, set env var `MLIR_CRASH_REPRODUCER_DIRECTORY` to enable.\n",
      "2022-05-02 02:45:33.467128: I tensorflow/compiler/mlir/lite/flatbuffer_export.cc:1963] Estimated count of arithmetic ops: 1.698 G  ops, equivalently 0.849 G  MACs\n",
      "\n",
      "Estimated count of arithmetic ops: 1.698 G  ops, equivalently 0.849 G  MACs\n"
     ]
    }
   ],
   "source": [
    "!{command}"
   ]
  },
  {
   "cell_type": "markdown",
   "metadata": {
    "id": "5NQqZRdA21Uc"
   },
   "source": [
    "# 13. Zip and Export Models "
   ]
  },
  {
   "cell_type": "code",
   "execution_count": 38,
   "metadata": {
    "id": "tTVTGCQp2ZJJ"
   },
   "outputs": [],
   "source": [
    "!tar -czf models.tar.gz {paths['CHECKPOINT_PATH']}"
   ]
  },
  {
   "cell_type": "code",
   "execution_count": null,
   "metadata": {
    "colab": {
     "base_uri": "https://localhost:8080/"
    },
    "id": "whShhB0x3PYJ",
    "outputId": "b773201d-35c9-46a8-b893-4a76bd4d5d97"
   },
   "outputs": [],
   "source": [
    "from google.colab import drive\n",
    "drive.mount('/content/drive')"
   ]
  },
  {
   "cell_type": "code",
   "execution_count": 39,
   "metadata": {},
   "outputs": [
    {
     "data": {
      "text/plain": [
       "'Tensorflow/workspace/models/my_ssd_mobnet'"
      ]
     },
     "execution_count": 39,
     "metadata": {},
     "output_type": "execute_result"
    }
   ],
   "source": [
    "paths['CHECKPOINT_PATH']"
   ]
  },
  {
   "cell_type": "markdown",
   "metadata": {},
   "source": [
    "# Applying easyocr"
   ]
  },
  {
   "cell_type": "code",
   "execution_count": 1,
   "metadata": {},
   "outputs": [],
   "source": [
    "import tensorflow as tf"
   ]
  },
  {
   "cell_type": "code",
   "execution_count": 2,
   "metadata": {},
   "outputs": [
    {
     "name": "stderr",
     "output_type": "stream",
     "text": [
      "2022-05-02 02:53:42.803735: I tensorflow/stream_executor/cuda/cuda_gpu_executor.cc:936] successful NUMA node read from SysFS had negative value (-1), but there must be at least one NUMA node, so returning NUMA node zero\n",
      "2022-05-02 02:53:42.813339: I tensorflow/stream_executor/cuda/cuda_gpu_executor.cc:936] successful NUMA node read from SysFS had negative value (-1), but there must be at least one NUMA node, so returning NUMA node zero\n",
      "2022-05-02 02:53:42.814261: I tensorflow/stream_executor/cuda/cuda_gpu_executor.cc:936] successful NUMA node read from SysFS had negative value (-1), but there must be at least one NUMA node, so returning NUMA node zero\n"
     ]
    }
   ],
   "source": [
    "# prevent gpu from complete consumption\n",
    "gpus=tf.config.list_physical_devices('gpu')\n",
    "if gpus:\n",
    "    tf.config.experimental.set_virtual_device_configuration(gpus[0],\n",
    "                [tf.config.experimental.VirtualDeviceConfiguration(memory_limit=5120)])"
   ]
  },
  {
   "cell_type": "code",
   "execution_count": 13,
   "metadata": {},
   "outputs": [
    {
     "data": {
      "text/plain": [
       "{'model': ssd {\n",
       "   num_classes: 1\n",
       "   image_resizer {\n",
       "     fixed_shape_resizer {\n",
       "       height: 320\n",
       "       width: 320\n",
       "     }\n",
       "   }\n",
       "   feature_extractor {\n",
       "     type: \"ssd_mobilenet_v2_fpn_keras\"\n",
       "     depth_multiplier: 1.0\n",
       "     min_depth: 16\n",
       "     conv_hyperparams {\n",
       "       regularizer {\n",
       "         l2_regularizer {\n",
       "           weight: 3.9999998989515007e-05\n",
       "         }\n",
       "       }\n",
       "       initializer {\n",
       "         random_normal_initializer {\n",
       "           mean: 0.0\n",
       "           stddev: 0.009999999776482582\n",
       "         }\n",
       "       }\n",
       "       activation: RELU_6\n",
       "       batch_norm {\n",
       "         decay: 0.996999979019165\n",
       "         scale: true\n",
       "         epsilon: 0.0010000000474974513\n",
       "       }\n",
       "     }\n",
       "     use_depthwise: true\n",
       "     override_base_feature_extractor_hyperparams: true\n",
       "     fpn {\n",
       "       min_level: 3\n",
       "       max_level: 7\n",
       "       additional_layer_depth: 128\n",
       "     }\n",
       "   }\n",
       "   box_coder {\n",
       "     faster_rcnn_box_coder {\n",
       "       y_scale: 10.0\n",
       "       x_scale: 10.0\n",
       "       height_scale: 5.0\n",
       "       width_scale: 5.0\n",
       "     }\n",
       "   }\n",
       "   matcher {\n",
       "     argmax_matcher {\n",
       "       matched_threshold: 0.5\n",
       "       unmatched_threshold: 0.5\n",
       "       ignore_thresholds: false\n",
       "       negatives_lower_than_unmatched: true\n",
       "       force_match_for_each_row: true\n",
       "       use_matmul_gather: true\n",
       "     }\n",
       "   }\n",
       "   similarity_calculator {\n",
       "     iou_similarity {\n",
       "     }\n",
       "   }\n",
       "   box_predictor {\n",
       "     weight_shared_convolutional_box_predictor {\n",
       "       conv_hyperparams {\n",
       "         regularizer {\n",
       "           l2_regularizer {\n",
       "             weight: 3.9999998989515007e-05\n",
       "           }\n",
       "         }\n",
       "         initializer {\n",
       "           random_normal_initializer {\n",
       "             mean: 0.0\n",
       "             stddev: 0.009999999776482582\n",
       "           }\n",
       "         }\n",
       "         activation: RELU_6\n",
       "         batch_norm {\n",
       "           decay: 0.996999979019165\n",
       "           scale: true\n",
       "           epsilon: 0.0010000000474974513\n",
       "         }\n",
       "       }\n",
       "       depth: 128\n",
       "       num_layers_before_predictor: 4\n",
       "       kernel_size: 3\n",
       "       class_prediction_bias_init: -4.599999904632568\n",
       "       share_prediction_tower: true\n",
       "       use_depthwise: true\n",
       "     }\n",
       "   }\n",
       "   anchor_generator {\n",
       "     multiscale_anchor_generator {\n",
       "       min_level: 3\n",
       "       max_level: 7\n",
       "       anchor_scale: 4.0\n",
       "       aspect_ratios: 1.0\n",
       "       aspect_ratios: 2.0\n",
       "       aspect_ratios: 0.5\n",
       "       scales_per_octave: 2\n",
       "     }\n",
       "   }\n",
       "   post_processing {\n",
       "     batch_non_max_suppression {\n",
       "       score_threshold: 9.99999993922529e-09\n",
       "       iou_threshold: 0.6000000238418579\n",
       "       max_detections_per_class: 100\n",
       "       max_total_detections: 100\n",
       "       use_static_shapes: false\n",
       "     }\n",
       "     score_converter: SIGMOID\n",
       "   }\n",
       "   normalize_loss_by_num_matches: true\n",
       "   loss {\n",
       "     localization_loss {\n",
       "       weighted_smooth_l1 {\n",
       "       }\n",
       "     }\n",
       "     classification_loss {\n",
       "       weighted_sigmoid_focal {\n",
       "         gamma: 2.0\n",
       "         alpha: 0.25\n",
       "       }\n",
       "     }\n",
       "     classification_weight: 1.0\n",
       "     localization_weight: 1.0\n",
       "   }\n",
       "   encode_background_as_zeros: true\n",
       "   normalize_loc_loss_by_codesize: true\n",
       "   inplace_batchnorm_update: true\n",
       "   freeze_batchnorm: false\n",
       " },\n",
       " 'train_config': batch_size: 4\n",
       " data_augmentation_options {\n",
       "   random_horizontal_flip {\n",
       "   }\n",
       " }\n",
       " data_augmentation_options {\n",
       "   random_crop_image {\n",
       "     min_object_covered: 0.0\n",
       "     min_aspect_ratio: 0.75\n",
       "     max_aspect_ratio: 3.0\n",
       "     min_area: 0.75\n",
       "     max_area: 1.0\n",
       "     overlap_thresh: 0.0\n",
       "   }\n",
       " }\n",
       " sync_replicas: true\n",
       " optimizer {\n",
       "   momentum_optimizer {\n",
       "     learning_rate {\n",
       "       cosine_decay_learning_rate {\n",
       "         learning_rate_base: 0.07999999821186066\n",
       "         total_steps: 50000\n",
       "         warmup_learning_rate: 0.026666000485420227\n",
       "         warmup_steps: 1000\n",
       "       }\n",
       "     }\n",
       "     momentum_optimizer_value: 0.8999999761581421\n",
       "   }\n",
       "   use_moving_average: false\n",
       " }\n",
       " fine_tune_checkpoint: \"Tensorflow/workspace/pre-trained-models/ssd_mobilenet_v2_fpnlite_320x320_coco17_tpu-8/checkpoint/ckpt-0\"\n",
       " num_steps: 50000\n",
       " startup_delay_steps: 0.0\n",
       " replicas_to_aggregate: 8\n",
       " max_number_of_boxes: 100\n",
       " unpad_groundtruth_tensors: false\n",
       " fine_tune_checkpoint_type: \"detection\"\n",
       " fine_tune_checkpoint_version: V2,\n",
       " 'train_input_config': label_map_path: \"Tensorflow/workspace/annotations/label_map.pbtxt\"\n",
       " tf_record_input_reader {\n",
       "   input_path: \"Tensorflow/workspace/annotations/train.record\"\n",
       " },\n",
       " 'eval_config': metrics_set: \"coco_detection_metrics\"\n",
       " use_moving_averages: false,\n",
       " 'eval_input_configs': [label_map_path: \"Tensorflow/workspace/annotations/label_map.pbtxt\"\n",
       " shuffle: false\n",
       " num_epochs: 1\n",
       " tf_record_input_reader {\n",
       "   input_path: \"Tensorflow/workspace/annotations/test.record\"\n",
       " }\n",
       " ],\n",
       " 'eval_input_config': label_map_path: \"Tensorflow/workspace/annotations/label_map.pbtxt\"\n",
       " shuffle: false\n",
       " num_epochs: 1\n",
       " tf_record_input_reader {\n",
       "   input_path: \"Tensorflow/workspace/annotations/test.record\"\n",
       " }}"
      ]
     },
     "execution_count": 13,
     "metadata": {},
     "output_type": "execute_result"
    }
   ],
   "source": [
    "config"
   ]
  },
  {
   "cell_type": "code",
   "execution_count": 19,
   "metadata": {},
   "outputs": [],
   "source": [
    "import cv2\n",
    "import numpy as np"
   ]
  },
  {
   "cell_type": "code",
   "execution_count": 20,
   "metadata": {},
   "outputs": [],
   "source": []
  },
  {
   "cell_type": "code",
   "execution_count": 17,
   "metadata": {},
   "outputs": [
    {
     "data": {
      "image/png": "[encoded data removed]",
      "text/plain": [
       "<Figure size 432x288 with 1 Axes>"
      ]
     },
     "metadata": {
      "needs_background": "light"
     },
     "output_type": "display_data"
    }
   ],
   "source": [
    "IMAGE_PATH = os.path.join(paths['IMAGE_PATH'], 'test', 'Cars402.png')\n",
    "img = cv2.imread(IMAGE_PATH)\n",
    "image_np = np.array(img)\n",
    "\n",
    "input_tensor = tf.convert_to_tensor(np.expand_dims(image_np, 0), dtype=tf.float32)\n",
    "detections = detect_fn(input_tensor)\n",
    "\n",
    "num_detections = int(detections.pop('num_detections'))\n",
    "detections = {key: value[0, :num_detections].numpy()\n",
    "              for key, value in detections.items()}\n",
    "detections['num_detections'] = num_detections\n",
    "\n",
    "# detection_classes should be ints.\n",
    "detections['detection_classes'] = detections['detection_classes'].astype(np.int64)\n",
    "\n",
    "label_id_offset = 1\n",
    "image_np_with_detections = image_np.copy()\n",
    "\n",
    "viz_utils.visualize_boxes_and_labels_on_image_array(\n",
    "            image_np_with_detections,\n",
    "            detections['detection_boxes'],\n",
    "            detections['detection_classes']+label_id_offset,\n",
    "            detections['detection_scores'],\n",
    "            category_index,\n",
    "            use_normalized_coordinates=True,\n",
    "            max_boxes_to_draw=5,\n",
    "            min_score_thresh=.6,\n",
    "            agnostic_mode=False)\n",
    "\n",
    "plt.imshow(cv2.cvtColor(image_np_with_detections, cv2.COLOR_BGR2RGB))\n",
    "plt.show()"
   ]
  },
  {
   "cell_type": "code",
   "execution_count": 30,
   "metadata": {},
   "outputs": [
    {
     "data": {
      "text/plain": [
       "dict_keys(['detection_boxes', 'detection_scores', 'detection_classes', 'raw_detection_boxes', 'raw_detection_scores', 'detection_multiclass_scores', 'detection_anchor_indices', 'num_detections'])"
      ]
     },
     "execution_count": 30,
     "metadata": {},
     "output_type": "execute_result"
    }
   ],
   "source": [
    "detections.keys()"
   ]
  },
  {
   "cell_type": "code",
   "execution_count": 31,
   "metadata": {},
   "outputs": [
    {
     "name": "stdout",
     "output_type": "stream",
     "text": [
      "Defaulting to user installation because normal site-packages is not writeable\n",
      "Collecting easyocr\n",
      "  Downloading easyocr-1.4.2-py3-none-any.whl (70.8 MB)\n",
      "\u001b[2K     \u001b[38;2;114;156;31m━━━━━━━━━━━━━━━━━━━━━━━━━━━━━━━━━━━━━━━━\u001b[0m \u001b[32m70.8/70.8 MB\u001b[0m \u001b[31m22.4 MB/s\u001b[0m eta \u001b[36m0:00:00\u001b[0mm eta \u001b[36m0:00:01\u001b[0m0:01\u001b[0m:01\u001b[0m\n",
      "\u001b[?25hRequirement already satisfied: torch in /home/paperspace/.local/lib/python3.8/site-packages (from easyocr) (1.10.2+cu113)\n",
      "Requirement already satisfied: Pillow in /home/paperspace/.local/lib/python3.8/site-packages (from easyocr) (9.0.1)\n",
      "Requirement already satisfied: PyYAML in /usr/lib/python3/dist-packages (from easyocr) (5.3.1)\n",
      "Collecting scikit-image\n",
      "  Downloading scikit_image-0.19.2-cp38-cp38-manylinux_2_17_x86_64.manylinux2014_x86_64.whl (14.0 MB)\n",
      "\u001b[2K     \u001b[38;2;114;156;31m━━━━━━━━━━━━━━━━━━━━━━━━━━━━━━━━━━━━━━━━\u001b[0m \u001b[32m14.0/14.0 MB\u001b[0m \u001b[31m66.1 MB/s\u001b[0m eta \u001b[36m0:00:00\u001b[0mm eta \u001b[36m0:00:01\u001b[0m[36m0:00:01\u001b[0m\n",
      "\u001b[?25hRequirement already satisfied: numpy in /home/paperspace/.local/lib/python3.8/site-packages (from easyocr) (1.21.6)\n",
      "Requirement already satisfied: scipy in /home/paperspace/.local/lib/python3.8/site-packages (from easyocr) (1.8.0)\n",
      "Requirement already satisfied: torchvision>=0.5 in /home/paperspace/.local/lib/python3.8/site-packages (from easyocr) (0.11.3+cu113)\n",
      "Collecting python-bidi\n",
      "  Downloading python_bidi-0.4.2-py2.py3-none-any.whl (30 kB)\n",
      "Collecting opencv-python-headless<=4.5.4.60\n",
      "  Downloading opencv_python_headless-4.5.4.60-cp38-cp38-manylinux_2_17_x86_64.manylinux2014_x86_64.whl (47.6 MB)\n",
      "\u001b[2K     \u001b[38;2;114;156;31m━━━━━━━━━━━━━━━━━━━━━━━━━━━━━━━━━━━━━━━━\u001b[0m \u001b[32m47.6/47.6 MB\u001b[0m \u001b[31m33.2 MB/s\u001b[0m eta \u001b[36m0:00:00\u001b[0mm eta \u001b[36m0:00:01\u001b[0m[36m0:00:01\u001b[0m\n",
      "\u001b[?25hRequirement already satisfied: typing-extensions in /home/paperspace/.local/lib/python3.8/site-packages (from torch->easyocr) (3.7.4.3)\n",
      "Requirement already satisfied: six in /home/paperspace/.local/lib/python3.8/site-packages (from python-bidi->easyocr) (1.15.0)\n",
      "Requirement already satisfied: packaging>=20.0 in /home/paperspace/.local/lib/python3.8/site-packages (from scikit-image->easyocr) (21.3)\n",
      "Collecting networkx>=2.2\n",
      "  Downloading networkx-2.8-py3-none-any.whl (2.0 MB)\n",
      "\u001b[2K     \u001b[38;2;114;156;31m━━━━━━━━━━━━━━━━━━━━━━━━━━━━━━━━━━━━━━━━\u001b[0m \u001b[32m2.0/2.0 MB\u001b[0m \u001b[31m69.1 MB/s\u001b[0m eta \u001b[36m0:00:00\u001b[0m\n",
      "\u001b[?25hCollecting tifffile>=2019.7.26\n",
      "  Downloading tifffile-2022.4.28-py3-none-any.whl (193 kB)\n",
      "\u001b[2K     \u001b[38;2;114;156;31m━━━━━━━━━━━━━━━━━━━━━━━━━━━━━━━━━━━━━━\u001b[0m \u001b[32m193.9/193.9 KB\u001b[0m \u001b[31m39.1 MB/s\u001b[0m eta \u001b[36m0:00:00\u001b[0m\n",
      "\u001b[?25hCollecting PyWavelets>=1.1.1\n",
      "  Downloading PyWavelets-1.3.0-cp38-cp38-manylinux_2_17_x86_64.manylinux2014_x86_64.whl (6.9 MB)\n",
      "\u001b[2K     \u001b[38;2;114;156;31m━━━━━━━━━━━━━━━━━━━━━━━━━━━━━━━━━━━━━━━━\u001b[0m \u001b[32m6.9/6.9 MB\u001b[0m \u001b[31m73.6 MB/s\u001b[0m eta \u001b[36m0:00:00\u001b[0m0m eta \u001b[36m0:00:01\u001b[0m[36m0:00:01\u001b[0m\n",
      "\u001b[?25hCollecting imageio>=2.4.1\n",
      "  Downloading imageio-2.18.0-py3-none-any.whl (3.4 MB)\n",
      "\u001b[2K     \u001b[38;2;114;156;31m━━━━━━━━━━━━━━━━━━━━━━━━━━━━━━━━━━━━━━━━\u001b[0m \u001b[32m3.4/3.4 MB\u001b[0m \u001b[31m82.5 MB/s\u001b[0m eta \u001b[36m0:00:00\u001b[0m0m eta \u001b[36m0:00:01\u001b[0m\n",
      "\u001b[?25hRequirement already satisfied: pyparsing!=3.0.5,>=2.0.2 in /home/paperspace/.local/lib/python3.8/site-packages (from packaging>=20.0->scikit-image->easyocr) (2.4.7)\n",
      "Installing collected packages: tifffile, PyWavelets, python-bidi, opencv-python-headless, networkx, imageio, scikit-image, easyocr\n",
      "  Attempting uninstall: opencv-python-headless\n",
      "    Found existing installation: opencv-python-headless 4.5.5.64\n",
      "    Uninstalling opencv-python-headless-4.5.5.64:\n",
      "      Successfully uninstalled opencv-python-headless-4.5.5.64\n",
      "Successfully installed PyWavelets-1.3.0 easyocr-1.4.2 imageio-2.18.0 networkx-2.8 opencv-python-headless-4.5.4.60 python-bidi-0.4.2 scikit-image-0.19.2 tifffile-2022.4.28\n"
     ]
    }
   ],
   "source": [
    "!pip3 install easyocr"
   ]
  },
  {
   "cell_type": "code",
   "execution_count": 34,
   "metadata": {},
   "outputs": [
    {
     "name": "stdout",
     "output_type": "stream",
     "text": [
      "Defaulting to user installation because normal site-packages is not writeable\n",
      "Looking in indexes: https://pypi.org/simple, https://download.pytorch.org/whl/cu113\n",
      "Requirement already satisfied: torch in /home/paperspace/.local/lib/python3.8/site-packages (1.10.2+cu113)\n",
      "Requirement already satisfied: torchvision in /home/paperspace/.local/lib/python3.8/site-packages (0.11.3+cu113)\n",
      "Requirement already satisfied: torchaudio in /home/paperspace/.local/lib/python3.8/site-packages (0.10.2+cu113)\n",
      "Requirement already satisfied: typing-extensions in /home/paperspace/.local/lib/python3.8/site-packages (from torch) (3.7.4.3)\n",
      "Requirement already satisfied: pillow!=8.3.0,>=5.3.0 in /home/paperspace/.local/lib/python3.8/site-packages (from torchvision) (9.0.1)\n",
      "Requirement already satisfied: numpy in /home/paperspace/.local/lib/python3.8/site-packages (from torchvision) (1.21.6)\n"
     ]
    }
   ],
   "source": [
    "!pip3 install torch torchvision torchaudio --extra-index-url https://download.pytorch.org/whl/cu113"
   ]
  },
  {
   "cell_type": "code",
   "execution_count": 18,
   "metadata": {},
   "outputs": [
    {
     "name": "stderr",
     "output_type": "stream",
     "text": [
      "/home/paperspace/.local/lib/python3.8/site-packages/tqdm/auto.py:22: TqdmWarning: IProgress not found. Please update jupyter and ipywidgets. See https://ipywidgets.readthedocs.io/en/stable/user_install.html\n",
      "  from .autonotebook import tqdm as notebook_tqdm\n"
     ]
    }
   ],
   "source": [
    "import easyocr"
   ]
  },
  {
   "cell_type": "code",
   "execution_count": 24,
   "metadata": {},
   "outputs": [],
   "source": [
    "detection_threshold=0.6"
   ]
  },
  {
   "cell_type": "code",
   "execution_count": 25,
   "metadata": {},
   "outputs": [
    {
     "data": {
      "text/plain": [
       "[0.70593834]"
      ]
     },
     "execution_count": 25,
     "metadata": {},
     "output_type": "execute_result"
    }
   ],
   "source": [
    "image=image_np_with_detections\n",
    "scores=list(filter(lambda x:x>detection_threshold, detections['detection_scores']))\n",
    "scores"
   ]
  },
  {
   "cell_type": "code",
   "execution_count": 26,
   "metadata": {},
   "outputs": [
    {
     "data": {
      "text/plain": [
       "array([[0.61520827, 0.80646807, 0.67950296, 0.9698009 ]], dtype=float32)"
      ]
     },
     "execution_count": 26,
     "metadata": {},
     "output_type": "execute_result"
    }
   ],
   "source": [
    "boxes=detections['detection_boxes'][:len(scores)]\n",
    "boxes"
   ]
  },
  {
   "cell_type": "code",
   "execution_count": 27,
   "metadata": {},
   "outputs": [
    {
     "data": {
      "text/plain": [
       "array([0])"
      ]
     },
     "execution_count": 27,
     "metadata": {},
     "output_type": "execute_result"
    }
   ],
   "source": [
    "classes=detections['detection_classes'][:len(scores)]\n",
    "classes"
   ]
  },
  {
   "cell_type": "code",
   "execution_count": 28,
   "metadata": {},
   "outputs": [],
   "source": [
    "width=image.shape[1]\n",
    "height=image.shape[0]"
   ]
  },
  {
   "cell_type": "code",
   "execution_count": 29,
   "metadata": {},
   "outputs": [
    {
     "data": {
      "text/plain": [
       "(450, 270)"
      ]
     },
     "execution_count": 29,
     "metadata": {},
     "output_type": "execute_result"
    }
   ],
   "source": [
    "width,height"
   ]
  },
  {
   "cell_type": "code",
   "execution_count": 30,
   "metadata": {},
   "outputs": [
    {
     "ename": "RuntimeError",
     "evalue": "CUDA error: out of memory\nCUDA kernel errors might be asynchronously reported at some other API call,so the stacktrace below might be incorrect.\nFor debugging consider passing CUDA_LAUNCH_BLOCKING=1.",
     "output_type": "error",
     "traceback": [
      "\u001b[0;31m---------------------------------------------------------------------------\u001b[0m",
      "\u001b[0;31mRuntimeError\u001b[0m                              Traceback (most recent call last)",
      "Input \u001b[0;32mIn [30]\u001b[0m, in \u001b[0;36m<module>\u001b[0;34m\u001b[0m\n\u001b[1;32m      4\u001b[0m roi\u001b[38;5;241m=\u001b[39mbox\u001b[38;5;241m*\u001b[39m[height,width,height,width]\n\u001b[1;32m      5\u001b[0m region\u001b[38;5;241m=\u001b[39mimage[\u001b[38;5;28mint\u001b[39m(roi[\u001b[38;5;241m0\u001b[39m]):\u001b[38;5;28mint\u001b[39m(roi[\u001b[38;5;241m2\u001b[39m]),\u001b[38;5;28mint\u001b[39m(roi[\u001b[38;5;241m1\u001b[39m]):\u001b[38;5;28mint\u001b[39m(roi[\u001b[38;5;241m3\u001b[39m])]\n\u001b[0;32m----> 6\u001b[0m reader\u001b[38;5;241m=\u001b[39m\u001b[43measyocr\u001b[49m\u001b[38;5;241;43m.\u001b[39;49m\u001b[43mReader\u001b[49m\u001b[43m(\u001b[49m\u001b[43m[\u001b[49m\u001b[38;5;124;43m'\u001b[39;49m\u001b[38;5;124;43men\u001b[39;49m\u001b[38;5;124;43m'\u001b[39;49m\u001b[43m]\u001b[49m\u001b[43m)\u001b[49m\n\u001b[1;32m      7\u001b[0m ocr_result\u001b[38;5;241m=\u001b[39mreader\u001b[38;5;241m.\u001b[39mreadtext(region)\n\u001b[1;32m      8\u001b[0m \u001b[38;5;28mprint\u001b[39m(ocr_result)\n",
      "File \u001b[0;32m~/.local/lib/python3.8/site-packages/easyocr/easyocr.py:223\u001b[0m, in \u001b[0;36mReader.__init__\u001b[0;34m(self, lang_list, gpu, model_storage_directory, user_network_directory, recog_network, download_enabled, detector, recognizer, verbose, quantize, cudnn_benchmark)\u001b[0m\n\u001b[1;32m    220\u001b[0m     dict_list[lang] \u001b[38;5;241m=\u001b[39m os\u001b[38;5;241m.\u001b[39mpath\u001b[38;5;241m.\u001b[39mjoin(BASE_PATH, \u001b[38;5;124m'\u001b[39m\u001b[38;5;124mdict\u001b[39m\u001b[38;5;124m'\u001b[39m, lang \u001b[38;5;241m+\u001b[39m \u001b[38;5;124m\"\u001b[39m\u001b[38;5;124m.txt\u001b[39m\u001b[38;5;124m\"\u001b[39m)\n\u001b[1;32m    222\u001b[0m \u001b[38;5;28;01mif\u001b[39;00m detector:\n\u001b[0;32m--> 223\u001b[0m     \u001b[38;5;28mself\u001b[39m\u001b[38;5;241m.\u001b[39mdetector \u001b[38;5;241m=\u001b[39m \u001b[43mget_detector\u001b[49m\u001b[43m(\u001b[49m\u001b[43mdetector_path\u001b[49m\u001b[43m,\u001b[49m\u001b[43m \u001b[49m\u001b[38;5;28;43mself\u001b[39;49m\u001b[38;5;241;43m.\u001b[39;49m\u001b[43mdevice\u001b[49m\u001b[43m,\u001b[49m\u001b[43m \u001b[49m\u001b[43mquantize\u001b[49m\u001b[43m,\u001b[49m\u001b[43m \u001b[49m\u001b[43mcudnn_benchmark\u001b[49m\u001b[38;5;241;43m=\u001b[39;49m\u001b[43mcudnn_benchmark\u001b[49m\u001b[43m)\u001b[49m\n\u001b[1;32m    224\u001b[0m \u001b[38;5;28;01mif\u001b[39;00m recognizer:\n\u001b[1;32m    225\u001b[0m     \u001b[38;5;28;01mif\u001b[39;00m recog_network \u001b[38;5;241m==\u001b[39m \u001b[38;5;124m'\u001b[39m\u001b[38;5;124mgeneration1\u001b[39m\u001b[38;5;124m'\u001b[39m:\n",
      "File \u001b[0;32m~/.local/lib/python3.8/site-packages/easyocr/detection.py:85\u001b[0m, in \u001b[0;36mget_detector\u001b[0;34m(trained_model, device, quantize, cudnn_benchmark)\u001b[0m\n\u001b[1;32m     83\u001b[0m             \u001b[38;5;28;01mpass\u001b[39;00m\n\u001b[1;32m     84\u001b[0m \u001b[38;5;28;01melse\u001b[39;00m:\n\u001b[0;32m---> 85\u001b[0m     net\u001b[38;5;241m.\u001b[39mload_state_dict(copyStateDict(\u001b[43mtorch\u001b[49m\u001b[38;5;241;43m.\u001b[39;49m\u001b[43mload\u001b[49m\u001b[43m(\u001b[49m\u001b[43mtrained_model\u001b[49m\u001b[43m,\u001b[49m\u001b[43m \u001b[49m\u001b[43mmap_location\u001b[49m\u001b[38;5;241;43m=\u001b[39;49m\u001b[43mdevice\u001b[49m\u001b[43m)\u001b[49m))\n\u001b[1;32m     86\u001b[0m     net \u001b[38;5;241m=\u001b[39m torch\u001b[38;5;241m.\u001b[39mnn\u001b[38;5;241m.\u001b[39mDataParallel(net)\u001b[38;5;241m.\u001b[39mto(device)\n\u001b[1;32m     87\u001b[0m     cudnn\u001b[38;5;241m.\u001b[39mbenchmark \u001b[38;5;241m=\u001b[39m cudnn_benchmark\n",
      "File \u001b[0;32m~/.local/lib/python3.8/site-packages/torch/serialization.py:608\u001b[0m, in \u001b[0;36mload\u001b[0;34m(f, map_location, pickle_module, **pickle_load_args)\u001b[0m\n\u001b[1;32m    606\u001b[0m             \u001b[38;5;28;01mreturn\u001b[39;00m torch\u001b[38;5;241m.\u001b[39mjit\u001b[38;5;241m.\u001b[39mload(opened_file)\n\u001b[1;32m    607\u001b[0m         \u001b[38;5;28;01mreturn\u001b[39;00m _load(opened_zipfile, map_location, pickle_module, \u001b[38;5;241m*\u001b[39m\u001b[38;5;241m*\u001b[39mpickle_load_args)\n\u001b[0;32m--> 608\u001b[0m \u001b[38;5;28;01mreturn\u001b[39;00m \u001b[43m_legacy_load\u001b[49m\u001b[43m(\u001b[49m\u001b[43mopened_file\u001b[49m\u001b[43m,\u001b[49m\u001b[43m \u001b[49m\u001b[43mmap_location\u001b[49m\u001b[43m,\u001b[49m\u001b[43m \u001b[49m\u001b[43mpickle_module\u001b[49m\u001b[43m,\u001b[49m\u001b[43m \u001b[49m\u001b[38;5;241;43m*\u001b[39;49m\u001b[38;5;241;43m*\u001b[39;49m\u001b[43mpickle_load_args\u001b[49m\u001b[43m)\u001b[49m\n",
      "File \u001b[0;32m~/.local/lib/python3.8/site-packages/torch/serialization.py:787\u001b[0m, in \u001b[0;36m_legacy_load\u001b[0;34m(f, map_location, pickle_module, **pickle_load_args)\u001b[0m\n\u001b[1;32m    785\u001b[0m unpickler \u001b[38;5;241m=\u001b[39m pickle_module\u001b[38;5;241m.\u001b[39mUnpickler(f, \u001b[38;5;241m*\u001b[39m\u001b[38;5;241m*\u001b[39mpickle_load_args)\n\u001b[1;32m    786\u001b[0m unpickler\u001b[38;5;241m.\u001b[39mpersistent_load \u001b[38;5;241m=\u001b[39m persistent_load\n\u001b[0;32m--> 787\u001b[0m result \u001b[38;5;241m=\u001b[39m \u001b[43munpickler\u001b[49m\u001b[38;5;241;43m.\u001b[39;49m\u001b[43mload\u001b[49m\u001b[43m(\u001b[49m\u001b[43m)\u001b[49m\n\u001b[1;32m    789\u001b[0m deserialized_storage_keys \u001b[38;5;241m=\u001b[39m pickle_module\u001b[38;5;241m.\u001b[39mload(f, \u001b[38;5;241m*\u001b[39m\u001b[38;5;241m*\u001b[39mpickle_load_args)\n\u001b[1;32m    791\u001b[0m offset \u001b[38;5;241m=\u001b[39m f\u001b[38;5;241m.\u001b[39mtell() \u001b[38;5;28;01mif\u001b[39;00m f_should_read_directly \u001b[38;5;28;01melse\u001b[39;00m \u001b[38;5;28;01mNone\u001b[39;00m\n",
      "File \u001b[0;32m~/.local/lib/python3.8/site-packages/torch/serialization.py:743\u001b[0m, in \u001b[0;36m_legacy_load.<locals>.persistent_load\u001b[0;34m(saved_id)\u001b[0m\n\u001b[1;32m    741\u001b[0m     obj \u001b[38;5;241m=\u001b[39m data_type(size)\n\u001b[1;32m    742\u001b[0m     obj\u001b[38;5;241m.\u001b[39m_torch_load_uninitialized \u001b[38;5;241m=\u001b[39m \u001b[38;5;28;01mTrue\u001b[39;00m\n\u001b[0;32m--> 743\u001b[0m     deserialized_objects[root_key] \u001b[38;5;241m=\u001b[39m \u001b[43mrestore_location\u001b[49m\u001b[43m(\u001b[49m\u001b[43mobj\u001b[49m\u001b[43m,\u001b[49m\u001b[43m \u001b[49m\u001b[43mlocation\u001b[49m\u001b[43m)\u001b[49m\n\u001b[1;32m    744\u001b[0m storage \u001b[38;5;241m=\u001b[39m deserialized_objects[root_key]\n\u001b[1;32m    745\u001b[0m \u001b[38;5;28;01mif\u001b[39;00m view_metadata \u001b[38;5;129;01mis\u001b[39;00m \u001b[38;5;129;01mnot\u001b[39;00m \u001b[38;5;28;01mNone\u001b[39;00m:\n",
      "File \u001b[0;32m~/.local/lib/python3.8/site-packages/torch/serialization.py:824\u001b[0m, in \u001b[0;36m_get_restore_location.<locals>.restore_location\u001b[0;34m(storage, location)\u001b[0m\n\u001b[1;32m    823\u001b[0m \u001b[38;5;28;01mdef\u001b[39;00m \u001b[38;5;21mrestore_location\u001b[39m(storage, location):\n\u001b[0;32m--> 824\u001b[0m     \u001b[38;5;28;01mreturn\u001b[39;00m \u001b[43mdefault_restore_location\u001b[49m\u001b[43m(\u001b[49m\u001b[43mstorage\u001b[49m\u001b[43m,\u001b[49m\u001b[43m \u001b[49m\u001b[43mmap_location\u001b[49m\u001b[43m)\u001b[49m\n",
      "File \u001b[0;32m~/.local/lib/python3.8/site-packages/torch/serialization.py:175\u001b[0m, in \u001b[0;36mdefault_restore_location\u001b[0;34m(storage, location)\u001b[0m\n\u001b[1;32m    173\u001b[0m \u001b[38;5;28;01mdef\u001b[39;00m \u001b[38;5;21mdefault_restore_location\u001b[39m(storage, location):\n\u001b[1;32m    174\u001b[0m     \u001b[38;5;28;01mfor\u001b[39;00m _, _, fn \u001b[38;5;129;01min\u001b[39;00m _package_registry:\n\u001b[0;32m--> 175\u001b[0m         result \u001b[38;5;241m=\u001b[39m \u001b[43mfn\u001b[49m\u001b[43m(\u001b[49m\u001b[43mstorage\u001b[49m\u001b[43m,\u001b[49m\u001b[43m \u001b[49m\u001b[43mlocation\u001b[49m\u001b[43m)\u001b[49m\n\u001b[1;32m    176\u001b[0m         \u001b[38;5;28;01mif\u001b[39;00m result \u001b[38;5;129;01mis\u001b[39;00m \u001b[38;5;129;01mnot\u001b[39;00m \u001b[38;5;28;01mNone\u001b[39;00m:\n\u001b[1;32m    177\u001b[0m             \u001b[38;5;28;01mreturn\u001b[39;00m result\n",
      "File \u001b[0;32m~/.local/lib/python3.8/site-packages/torch/serialization.py:151\u001b[0m, in \u001b[0;36m_cuda_deserialize\u001b[0;34m(obj, location)\u001b[0m\n\u001b[1;32m    149\u001b[0m \u001b[38;5;28;01mdef\u001b[39;00m \u001b[38;5;21m_cuda_deserialize\u001b[39m(obj, location):\n\u001b[1;32m    150\u001b[0m     \u001b[38;5;28;01mif\u001b[39;00m location\u001b[38;5;241m.\u001b[39mstartswith(\u001b[38;5;124m'\u001b[39m\u001b[38;5;124mcuda\u001b[39m\u001b[38;5;124m'\u001b[39m):\n\u001b[0;32m--> 151\u001b[0m         device \u001b[38;5;241m=\u001b[39m \u001b[43mvalidate_cuda_device\u001b[49m\u001b[43m(\u001b[49m\u001b[43mlocation\u001b[49m\u001b[43m)\u001b[49m\n\u001b[1;32m    152\u001b[0m         \u001b[38;5;28;01mif\u001b[39;00m \u001b[38;5;28mgetattr\u001b[39m(obj, \u001b[38;5;124m\"\u001b[39m\u001b[38;5;124m_torch_load_uninitialized\u001b[39m\u001b[38;5;124m\"\u001b[39m, \u001b[38;5;28;01mFalse\u001b[39;00m):\n\u001b[1;32m    153\u001b[0m             storage_type \u001b[38;5;241m=\u001b[39m \u001b[38;5;28mgetattr\u001b[39m(torch\u001b[38;5;241m.\u001b[39mcuda, \u001b[38;5;28mtype\u001b[39m(obj)\u001b[38;5;241m.\u001b[39m\u001b[38;5;18m__name__\u001b[39m)\n",
      "File \u001b[0;32m~/.local/lib/python3.8/site-packages/torch/serialization.py:132\u001b[0m, in \u001b[0;36mvalidate_cuda_device\u001b[0;34m(location)\u001b[0m\n\u001b[1;32m    131\u001b[0m \u001b[38;5;28;01mdef\u001b[39;00m \u001b[38;5;21mvalidate_cuda_device\u001b[39m(location):\n\u001b[0;32m--> 132\u001b[0m     device \u001b[38;5;241m=\u001b[39m \u001b[43mtorch\u001b[49m\u001b[38;5;241;43m.\u001b[39;49m\u001b[43mcuda\u001b[49m\u001b[38;5;241;43m.\u001b[39;49m\u001b[43m_utils\u001b[49m\u001b[38;5;241;43m.\u001b[39;49m\u001b[43m_get_device_index\u001b[49m\u001b[43m(\u001b[49m\u001b[43mlocation\u001b[49m\u001b[43m,\u001b[49m\u001b[43m \u001b[49m\u001b[38;5;28;43;01mTrue\u001b[39;49;00m\u001b[43m)\u001b[49m\n\u001b[1;32m    134\u001b[0m     \u001b[38;5;28;01mif\u001b[39;00m \u001b[38;5;129;01mnot\u001b[39;00m torch\u001b[38;5;241m.\u001b[39mcuda\u001b[38;5;241m.\u001b[39mis_available():\n\u001b[1;32m    135\u001b[0m         \u001b[38;5;28;01mraise\u001b[39;00m \u001b[38;5;167;01mRuntimeError\u001b[39;00m(\u001b[38;5;124m'\u001b[39m\u001b[38;5;124mAttempting to deserialize object on a CUDA \u001b[39m\u001b[38;5;124m'\u001b[39m\n\u001b[1;32m    136\u001b[0m                            \u001b[38;5;124m'\u001b[39m\u001b[38;5;124mdevice but torch.cuda.is_available() is False. \u001b[39m\u001b[38;5;124m'\u001b[39m\n\u001b[1;32m    137\u001b[0m                            \u001b[38;5;124m'\u001b[39m\u001b[38;5;124mIf you are running on a CPU-only machine, \u001b[39m\u001b[38;5;124m'\u001b[39m\n\u001b[1;32m    138\u001b[0m                            \u001b[38;5;124m'\u001b[39m\u001b[38;5;124mplease use torch.load with map_location=torch.device(\u001b[39m\u001b[38;5;130;01m\\'\u001b[39;00m\u001b[38;5;124mcpu\u001b[39m\u001b[38;5;130;01m\\'\u001b[39;00m\u001b[38;5;124m) \u001b[39m\u001b[38;5;124m'\u001b[39m\n\u001b[1;32m    139\u001b[0m                            \u001b[38;5;124m'\u001b[39m\u001b[38;5;124mto map your storages to the CPU.\u001b[39m\u001b[38;5;124m'\u001b[39m)\n",
      "File \u001b[0;32m~/.local/lib/python3.8/site-packages/torch/cuda/_utils.py:34\u001b[0m, in \u001b[0;36m_get_device_index\u001b[0;34m(device, optional, allow_cpu)\u001b[0m\n\u001b[1;32m     32\u001b[0m     \u001b[38;5;28;01mif\u001b[39;00m \u001b[38;5;28misinstance\u001b[39m(device, torch\u001b[38;5;241m.\u001b[39mcuda\u001b[38;5;241m.\u001b[39mdevice):\n\u001b[1;32m     33\u001b[0m         \u001b[38;5;28;01mreturn\u001b[39;00m device\u001b[38;5;241m.\u001b[39midx\n\u001b[0;32m---> 34\u001b[0m \u001b[38;5;28;01mreturn\u001b[39;00m \u001b[43m_torch_get_device_index\u001b[49m\u001b[43m(\u001b[49m\u001b[43mdevice\u001b[49m\u001b[43m,\u001b[49m\u001b[43m \u001b[49m\u001b[43moptional\u001b[49m\u001b[43m,\u001b[49m\u001b[43m \u001b[49m\u001b[43mallow_cpu\u001b[49m\u001b[43m)\u001b[49m\n",
      "File \u001b[0;32m~/.local/lib/python3.8/site-packages/torch/_utils.py:511\u001b[0m, in \u001b[0;36m_get_device_index\u001b[0;34m(device, optional, allow_cpu)\u001b[0m\n\u001b[1;32m    509\u001b[0m         device_idx \u001b[38;5;241m=\u001b[39m get_current_device_index()\n\u001b[1;32m    510\u001b[0m     \u001b[38;5;28;01melse\u001b[39;00m:\n\u001b[0;32m--> 511\u001b[0m         device_idx \u001b[38;5;241m=\u001b[39m \u001b[43m_get_current_device_index\u001b[49m\u001b[43m(\u001b[49m\u001b[43m)\u001b[49m\n\u001b[1;32m    512\u001b[0m \u001b[38;5;28;01melse\u001b[39;00m:\n\u001b[1;32m    513\u001b[0m     \u001b[38;5;28;01mraise\u001b[39;00m \u001b[38;5;167;01mValueError\u001b[39;00m(\u001b[38;5;124m'\u001b[39m\u001b[38;5;124mExpected a torch.device with a specified index \u001b[39m\u001b[38;5;124m'\u001b[39m\n\u001b[1;32m    514\u001b[0m                      \u001b[38;5;124m'\u001b[39m\u001b[38;5;124mor an integer, but got:\u001b[39m\u001b[38;5;132;01m{}\u001b[39;00m\u001b[38;5;124m'\u001b[39m\u001b[38;5;241m.\u001b[39mformat(device))\n",
      "File \u001b[0;32m~/.local/lib/python3.8/site-packages/torch/_utils.py:454\u001b[0m, in \u001b[0;36m_get_current_device_index\u001b[0;34m()\u001b[0m\n\u001b[1;32m    452\u001b[0m \u001b[38;5;28;01mdef\u001b[39;00m \u001b[38;5;21m_get_current_device_index\u001b[39m():\n\u001b[1;32m    453\u001b[0m     \u001b[38;5;66;03m# current device index\u001b[39;00m\n\u001b[0;32m--> 454\u001b[0m     \u001b[38;5;28;01mreturn\u001b[39;00m \u001b[43m_get_device_attr\u001b[49m\u001b[43m(\u001b[49m\u001b[38;5;28;43;01mlambda\u001b[39;49;00m\u001b[43m \u001b[49m\u001b[43mm\u001b[49m\u001b[43m:\u001b[49m\u001b[43m \u001b[49m\u001b[43mm\u001b[49m\u001b[38;5;241;43m.\u001b[39;49m\u001b[43mcurrent_device\u001b[49m\u001b[43m(\u001b[49m\u001b[43m)\u001b[49m\u001b[43m)\u001b[49m\n",
      "File \u001b[0;32m~/.local/lib/python3.8/site-packages/torch/_utils.py:447\u001b[0m, in \u001b[0;36m_get_device_attr\u001b[0;34m(get_member)\u001b[0m\n\u001b[1;32m    445\u001b[0m device_type \u001b[38;5;241m=\u001b[39m _get_available_device_type()\n\u001b[1;32m    446\u001b[0m \u001b[38;5;28;01mif\u001b[39;00m device_type \u001b[38;5;129;01mand\u001b[39;00m device_type\u001b[38;5;241m.\u001b[39mlower() \u001b[38;5;241m==\u001b[39m \u001b[38;5;124m\"\u001b[39m\u001b[38;5;124mcuda\u001b[39m\u001b[38;5;124m\"\u001b[39m:\n\u001b[0;32m--> 447\u001b[0m     \u001b[38;5;28;01mreturn\u001b[39;00m \u001b[43mget_member\u001b[49m\u001b[43m(\u001b[49m\u001b[43mtorch\u001b[49m\u001b[38;5;241;43m.\u001b[39;49m\u001b[43mcuda\u001b[49m\u001b[43m)\u001b[49m\n\u001b[1;32m    448\u001b[0m \u001b[38;5;66;03m# add more available device types here\u001b[39;00m\n\u001b[1;32m    449\u001b[0m \u001b[38;5;28;01mreturn\u001b[39;00m \u001b[38;5;28;01mNone\u001b[39;00m\n",
      "File \u001b[0;32m~/.local/lib/python3.8/site-packages/torch/_utils.py:454\u001b[0m, in \u001b[0;36m_get_current_device_index.<locals>.<lambda>\u001b[0;34m(m)\u001b[0m\n\u001b[1;32m    452\u001b[0m \u001b[38;5;28;01mdef\u001b[39;00m \u001b[38;5;21m_get_current_device_index\u001b[39m():\n\u001b[1;32m    453\u001b[0m     \u001b[38;5;66;03m# current device index\u001b[39;00m\n\u001b[0;32m--> 454\u001b[0m     \u001b[38;5;28;01mreturn\u001b[39;00m _get_device_attr(\u001b[38;5;28;01mlambda\u001b[39;00m m: \u001b[43mm\u001b[49m\u001b[38;5;241;43m.\u001b[39;49m\u001b[43mcurrent_device\u001b[49m\u001b[43m(\u001b[49m\u001b[43m)\u001b[49m)\n",
      "File \u001b[0;32m~/.local/lib/python3.8/site-packages/torch/cuda/__init__.py:479\u001b[0m, in \u001b[0;36mcurrent_device\u001b[0;34m()\u001b[0m\n\u001b[1;32m    477\u001b[0m \u001b[38;5;28;01mdef\u001b[39;00m \u001b[38;5;21mcurrent_device\u001b[39m() \u001b[38;5;241m-\u001b[39m\u001b[38;5;241m>\u001b[39m \u001b[38;5;28mint\u001b[39m:\n\u001b[1;32m    478\u001b[0m     \u001b[38;5;124mr\u001b[39m\u001b[38;5;124;03m\"\"\"Returns the index of a currently selected device.\"\"\"\u001b[39;00m\n\u001b[0;32m--> 479\u001b[0m     \u001b[43m_lazy_init\u001b[49m\u001b[43m(\u001b[49m\u001b[43m)\u001b[49m\n\u001b[1;32m    480\u001b[0m     \u001b[38;5;28;01mreturn\u001b[39;00m torch\u001b[38;5;241m.\u001b[39m_C\u001b[38;5;241m.\u001b[39m_cuda_getDevice()\n",
      "File \u001b[0;32m~/.local/lib/python3.8/site-packages/torch/cuda/__init__.py:214\u001b[0m, in \u001b[0;36m_lazy_init\u001b[0;34m()\u001b[0m\n\u001b[1;32m    210\u001b[0m     \u001b[38;5;28;01mraise\u001b[39;00m \u001b[38;5;167;01mAssertionError\u001b[39;00m(\n\u001b[1;32m    211\u001b[0m         \u001b[38;5;124m\"\u001b[39m\u001b[38;5;124mlibcudart functions unavailable. It looks like you have a broken build?\u001b[39m\u001b[38;5;124m\"\u001b[39m)\n\u001b[1;32m    212\u001b[0m \u001b[38;5;66;03m# This function throws if there's a driver initialization error, no GPUs\u001b[39;00m\n\u001b[1;32m    213\u001b[0m \u001b[38;5;66;03m# are found or any other error occurs\u001b[39;00m\n\u001b[0;32m--> 214\u001b[0m \u001b[43mtorch\u001b[49m\u001b[38;5;241;43m.\u001b[39;49m\u001b[43m_C\u001b[49m\u001b[38;5;241;43m.\u001b[39;49m\u001b[43m_cuda_init\u001b[49m\u001b[43m(\u001b[49m\u001b[43m)\u001b[49m\n\u001b[1;32m    215\u001b[0m \u001b[38;5;66;03m# Some of the queued calls may reentrantly call _lazy_init();\u001b[39;00m\n\u001b[1;32m    216\u001b[0m \u001b[38;5;66;03m# we need to just return without initializing in that case.\u001b[39;00m\n\u001b[1;32m    217\u001b[0m \u001b[38;5;66;03m# However, we must not let any *other* threads in!\u001b[39;00m\n\u001b[1;32m    218\u001b[0m _tls\u001b[38;5;241m.\u001b[39mis_initializing \u001b[38;5;241m=\u001b[39m \u001b[38;5;28;01mTrue\u001b[39;00m\n",
      "\u001b[0;31mRuntimeError\u001b[0m: CUDA error: out of memory\nCUDA kernel errors might be asynchronously reported at some other API call,so the stacktrace below might be incorrect.\nFor debugging consider passing CUDA_LAUNCH_BLOCKING=1."
     ]
    }
   ],
   "source": [
    "# applying ROI filtering & ocr\n",
    "\n",
    "for idx,box in enumerate(boxes):\n",
    "    roi=box*[height,width,height,width]\n",
    "    region=image[int(roi[0]):int(roi[2]),int(roi[1]):int(roi[3])]\n",
    "    reader=easyocr.Reader(['en'])\n",
    "    ocr_result=reader.readtext(region)\n",
    "    print(ocr_result)\n",
    "    plt.imshow(cv2.cvtColor(region,cv2.COLOR_BGR2RGB))"
   ]
  },
  {
   "cell_type": "code",
   "execution_count": null,
   "metadata": {},
   "outputs": [],
   "source": []
  }
 ],
 "metadata": {
  "accelerator": "GPU",
  "colab": {
   "name": "3. Training and Detection.ipynb",
   "provenance": []
  },
  "kernelspec": {
   "display_name": "Python 3 (ipykernel)",
   "language": "python",
   "name": "python3"
  },
  "language_info": {
   "codemirror_mode": {
    "name": "ipython",
    "version": 3
   },
   "file_extension": ".py",
   "mimetype": "text/x-python",
   "name": "python",
   "nbconvert_exporter": "python",
   "pygments_lexer": "ipython3",
   "version": "3.8.10"
  }
 },
 "nbformat": 4,
 "nbformat_minor": 1
}
